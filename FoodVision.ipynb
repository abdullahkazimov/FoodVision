{
  "cells": [
    {
      "cell_type": "code",
      "execution_count": null,
      "metadata": {
        "id": "dMYAdLSVq-c0"
      },
      "outputs": [],
      "source": [
        "try:\n",
        "  import torch\n",
        "  import torchvision\n",
        "  assert int(torch.__version__.split('.')[1]) >= 12, \"torch version must be 1.12 or higher\"\n",
        "  assert int(torchvision.__version__.split('.')[1]) >= 13, \"torchvision version must be 0.13 or higher\"\n",
        "  print(f\"torch version: {torch.__version__}\")\n",
        "  print(f\"torchvision version: {torchvision.__version__}\")\n",
        "except:\n",
        "  print(\"[INFO] Required versions do not exist, installing nightly versions...\")\n",
        "  !pip3 install --pre torch torchvision torchaudio --index-url https://download.pytorch.org/whl/nightly/cu121\n",
        "  import torch\n",
        "  import torchvision\n",
        "  print(f\"torch version: {torch.__version__}\")\n",
        "  print(f\"torchvision version: {torchvision.__version__}\")"
      ]
    },
    {
      "cell_type": "code",
      "execution_count": null,
      "metadata": {
        "id": "kF7dKpCpuxu-"
      },
      "outputs": [],
      "source": [
        "device = 'cuda' if torch.cuda.is_available() else 'cpu'\n",
        "device"
      ]
    },
    {
      "cell_type": "code",
      "execution_count": null,
      "metadata": {
        "id": "8yEdhQ1CvFPV"
      },
      "outputs": [],
      "source": [
        "import matplotlib.pyplot as plt\n",
        "from torch import nn\n",
        "from torchvision import transforms\n",
        "\n",
        "try:\n",
        "  from torchinfo import summary\n",
        "except:\n",
        "  print(\"[INFO] torchinfo does not exist, installing it...\")\n",
        "  !pip install -q torchinfo\n",
        "  from torchinfo import summary"
      ]
    },
    {
      "cell_type": "code",
      "execution_count": null,
      "metadata": {
        "colab": {
          "background_save": true
        },
        "id": "HqfATDIvvxm5",
        "outputId": "57947a69-e93b-413e-d3f6-2471445ee508"
      },
      "outputs": [
        {
          "name": "stdout",
          "output_type": "stream",
          "text": [
            "[INFO] Required scripts do not exist, installing them...\n",
            "Cloning into 'pytorch-deep-learning'...\n",
            "remote: Enumerating objects: 3881, done.\u001b[K\n",
            "remote: Counting objects: 100% (1049/1049), done.\u001b[K\n",
            "remote: Compressing objects: 100% (117/117), done.\u001b[K\n",
            "remote: Total 3881 (delta 979), reused 943 (delta 932), pack-reused 2832\u001b[K\n",
            "Receiving objects: 100% (3881/3881), 647.98 MiB | 40.33 MiB/s, done.\n",
            "Resolving deltas: 100% (2272/2272), done.\n",
            "Updating files: 100% (248/248), done.\n"
          ]
        }
      ],
      "source": [
        "try:\n",
        "    from going_modular.going_modular import data_setup, engine\n",
        "    from helper_functions import download_data, set_seeds, plot_loss_curves\n",
        "except:\n",
        "    print(\"[INFO] Required scripts do not exist, installing them...\")\n",
        "    !git clone https://github.com/mrdbourke/pytorch-deep-learning\n",
        "    !mv pytorch-deep-learning/going_modular .\n",
        "    !mv pytorch-deep-learning/helper_functions.py .\n",
        "    !rm -rf pytorch-deep-learning\n",
        "    from going_modular.going_modular import data_setup, engine\n",
        "    from helper_functions import download_data, set_seeds, plot_loss_curves"
      ]
    },
    {
      "cell_type": "code",
      "execution_count": null,
      "metadata": {
        "colab": {
          "background_save": true
        },
        "id": "7cUmhioxwFcT",
        "outputId": "1277edd8-d67f-4079-f377-44e2388ee77d"
      },
      "outputs": [
        {
          "name": "stdout",
          "output_type": "stream",
          "text": [
            "[INFO] Did not find data/pizza_steak_sushi_20_percent directory, creating one...\n",
            "[INFO] Downloading pizza_steak_sushi_20_percent.zip from https://github.com/mrdbourke/pytorch-deep-learning/raw/main/data/pizza_steak_sushi_20_percent.zip...\n",
            "[INFO] Unzipping pizza_steak_sushi_20_percent.zip data...\n"
          ]
        },
        {
          "data": {
            "text/plain": [
              "PosixPath('data/pizza_steak_sushi_20_percent')"
            ]
          },
          "execution_count": 5,
          "metadata": {},
          "output_type": "execute_result"
        }
      ],
      "source": [
        "data_20_percent_path = download_data(source=\"https://github.com/mrdbourke/pytorch-deep-learning/raw/main/data/pizza_steak_sushi_20_percent.zip\",\n",
        "                                     destination=\"pizza_steak_sushi_20_percent\")\n",
        "\n",
        "data_20_percent_path"
      ]
    },
    {
      "cell_type": "code",
      "execution_count": null,
      "metadata": {
        "colab": {
          "background_save": true
        },
        "id": "zq-tr0aQxWl1"
      },
      "outputs": [],
      "source": [
        "train_dir = data_20_percent_path / \"train\"\n",
        "test_dir = data_20_percent_path / \"test\""
      ]
    },
    {
      "cell_type": "code",
      "execution_count": null,
      "metadata": {
        "colab": {
          "background_save": true
        },
        "id": "HPIZKSYXxbek",
        "outputId": "16c0a933-e9b2-4822-9ef5-7810b2f544a6"
      },
      "outputs": [
        {
          "name": "stderr",
          "output_type": "stream",
          "text": [
            "Downloading: \"https://download.pytorch.org/models/efficientnet_b2_rwightman-bcdf34b7.pth\" to /root/.cache/torch/hub/checkpoints/efficientnet_b2_rwightman-bcdf34b7.pth\n",
            "100%|██████████| 35.2M/35.2M [00:04<00:00, 8.55MB/s]\n"
          ]
        }
      ],
      "source": [
        "# 1. Setup pretrained EffNetB2 weights\n",
        "effnetb2_weights = torchvision.models.EfficientNet_B2_Weights.DEFAULT\n",
        "\n",
        "# 2. Get EffNetB2 transforms\n",
        "effnetb2_transforms = effnetb2_weights.transforms()\n",
        "\n",
        "# 3. Setup pretrained model\n",
        "effnetb2 = torchvision.models.efficientnet_b2(weights=effnetb2_weights) # could also use weights=\"DEFAULT\"\n",
        "\n",
        "# 4. Freeze the base layers in the model (this will freeze all layers to begin with)\n",
        "for param in effnetb2.parameters():\n",
        "    param.requires_grad = False"
      ]
    },
    {
      "cell_type": "code",
      "execution_count": null,
      "metadata": {
        "colab": {
          "background_save": true
        },
        "id": "DycQD-saxwBd",
        "outputId": "6aeffcb3-a372-46a5-c402-f7f35175fb57"
      },
      "outputs": [
        {
          "data": {
            "text/plain": [
              "Sequential(\n",
              "  (0): Dropout(p=0.3, inplace=True)\n",
              "  (1): Linear(in_features=1408, out_features=1000, bias=True)\n",
              ")"
            ]
          },
          "execution_count": 8,
          "metadata": {},
          "output_type": "execute_result"
        }
      ],
      "source": [
        "effnetb2.classifier"
      ]
    },
    {
      "cell_type": "code",
      "execution_count": null,
      "metadata": {
        "colab": {
          "background_save": true
        },
        "id": "LG0imP5bxzKo"
      },
      "outputs": [],
      "source": [
        "effnetb2.classifier = nn.Sequential(\n",
        "    nn.Dropout(p=0.3, inplace=True),\n",
        "    nn.Linear(in_features=1408,\n",
        "              out_features=3))"
      ]
    },
    {
      "cell_type": "code",
      "execution_count": null,
      "metadata": {
        "colab": {
          "background_save": true
        },
        "id": "2YDo1unDyBYZ"
      },
      "outputs": [],
      "source": [
        "def create_effnetb2_model(num_classes:int=3,\n",
        "                          seed:int=42):\n",
        "    \"\"\"Creates an EfficientNetB2 feature extractor model and transforms.\n",
        "\n",
        "    Args:\n",
        "        num_classes (int, optional): number of classes in the classifier head.\n",
        "            Defaults to 3.\n",
        "        seed (int, optional): random seed value. Defaults to 42.\n",
        "\n",
        "    Returns:\n",
        "        model (torch.nn.Module): EffNetB2 feature extractor model.\n",
        "        transforms (torchvision.transforms): EffNetB2 image transforms.\n",
        "    \"\"\"\n",
        "    weights = torchvision.models.EfficientNet_B2_Weights.DEFAULT\n",
        "    transforms = weights.transforms()\n",
        "    model = torchvision.models.efficientnet_b2(weights=weights)\n",
        "\n",
        "    for param in model.parameters():\n",
        "        param.requires_grad = False\n",
        "\n",
        "    torch.manual_seed(seed)\n",
        "    model.classifier = nn.Sequential(\n",
        "        nn.Dropout(p=0.3, inplace=True),\n",
        "        nn.Linear(in_features=1408, out_features=num_classes),\n",
        "    )\n",
        "\n",
        "    return model, transforms"
      ]
    },
    {
      "cell_type": "code",
      "execution_count": null,
      "metadata": {
        "colab": {
          "background_save": true
        },
        "id": "jj7oUBcqyMIX"
      },
      "outputs": [],
      "source": [
        "effnetb2, effnetb2_transforms = create_effnetb2_model(num_classes=3,\n",
        "                                                      seed=42)"
      ]
    },
    {
      "cell_type": "code",
      "execution_count": null,
      "metadata": {
        "colab": {
          "background_save": true
        },
        "id": "GpFLz3vwyPoq",
        "outputId": "d8b0e244-1e96-4f9b-b2a5-426637ef91bd"
      },
      "outputs": [
        {
          "data": {
            "text/plain": [
              "============================================================================================================================================\n",
              "Layer (type (var_name))                                      Input Shape          Output Shape         Param #              Trainable\n",
              "============================================================================================================================================\n",
              "EfficientNet (EfficientNet)                                  [1, 3, 224, 224]     [1, 3]               --                   Partial\n",
              "├─Sequential (features)                                      [1, 3, 224, 224]     [1, 1408, 7, 7]      --                   False\n",
              "│    └─Conv2dNormActivation (0)                              [1, 3, 224, 224]     [1, 32, 112, 112]    --                   False\n",
              "│    │    └─Conv2d (0)                                       [1, 3, 224, 224]     [1, 32, 112, 112]    (864)                False\n",
              "│    │    └─BatchNorm2d (1)                                  [1, 32, 112, 112]    [1, 32, 112, 112]    (64)                 False\n",
              "│    │    └─SiLU (2)                                         [1, 32, 112, 112]    [1, 32, 112, 112]    --                   --\n",
              "│    └─Sequential (1)                                        [1, 32, 112, 112]    [1, 16, 112, 112]    --                   False\n",
              "│    │    └─MBConv (0)                                       [1, 32, 112, 112]    [1, 16, 112, 112]    (1,448)              False\n",
              "│    │    └─MBConv (1)                                       [1, 16, 112, 112]    [1, 16, 112, 112]    (612)                False\n",
              "│    └─Sequential (2)                                        [1, 16, 112, 112]    [1, 24, 56, 56]      --                   False\n",
              "│    │    └─MBConv (0)                                       [1, 16, 112, 112]    [1, 24, 56, 56]      (6,004)              False\n",
              "│    │    └─MBConv (1)                                       [1, 24, 56, 56]      [1, 24, 56, 56]      (10,710)             False\n",
              "│    │    └─MBConv (2)                                       [1, 24, 56, 56]      [1, 24, 56, 56]      (10,710)             False\n",
              "│    └─Sequential (3)                                        [1, 24, 56, 56]      [1, 48, 28, 28]      --                   False\n",
              "│    │    └─MBConv (0)                                       [1, 24, 56, 56]      [1, 48, 28, 28]      (16,518)             False\n",
              "│    │    └─MBConv (1)                                       [1, 48, 28, 28]      [1, 48, 28, 28]      (43,308)             False\n",
              "│    │    └─MBConv (2)                                       [1, 48, 28, 28]      [1, 48, 28, 28]      (43,308)             False\n",
              "│    └─Sequential (4)                                        [1, 48, 28, 28]      [1, 88, 14, 14]      --                   False\n",
              "│    │    └─MBConv (0)                                       [1, 48, 28, 28]      [1, 88, 14, 14]      (50,300)             False\n",
              "│    │    └─MBConv (1)                                       [1, 88, 14, 14]      [1, 88, 14, 14]      (123,750)            False\n",
              "│    │    └─MBConv (2)                                       [1, 88, 14, 14]      [1, 88, 14, 14]      (123,750)            False\n",
              "│    │    └─MBConv (3)                                       [1, 88, 14, 14]      [1, 88, 14, 14]      (123,750)            False\n",
              "│    └─Sequential (5)                                        [1, 88, 14, 14]      [1, 120, 14, 14]     --                   False\n",
              "│    │    └─MBConv (0)                                       [1, 88, 14, 14]      [1, 120, 14, 14]     (149,158)            False\n",
              "│    │    └─MBConv (1)                                       [1, 120, 14, 14]     [1, 120, 14, 14]     (237,870)            False\n",
              "│    │    └─MBConv (2)                                       [1, 120, 14, 14]     [1, 120, 14, 14]     (237,870)            False\n",
              "│    │    └─MBConv (3)                                       [1, 120, 14, 14]     [1, 120, 14, 14]     (237,870)            False\n",
              "│    └─Sequential (6)                                        [1, 120, 14, 14]     [1, 208, 7, 7]       --                   False\n",
              "│    │    └─MBConv (0)                                       [1, 120, 14, 14]     [1, 208, 7, 7]       (301,406)            False\n",
              "│    │    └─MBConv (1)                                       [1, 208, 7, 7]       [1, 208, 7, 7]       (686,868)            False\n",
              "│    │    └─MBConv (2)                                       [1, 208, 7, 7]       [1, 208, 7, 7]       (686,868)            False\n",
              "│    │    └─MBConv (3)                                       [1, 208, 7, 7]       [1, 208, 7, 7]       (686,868)            False\n",
              "│    │    └─MBConv (4)                                       [1, 208, 7, 7]       [1, 208, 7, 7]       (686,868)            False\n",
              "│    └─Sequential (7)                                        [1, 208, 7, 7]       [1, 352, 7, 7]       --                   False\n",
              "│    │    └─MBConv (0)                                       [1, 208, 7, 7]       [1, 352, 7, 7]       (846,900)            False\n",
              "│    │    └─MBConv (1)                                       [1, 352, 7, 7]       [1, 352, 7, 7]       (1,888,920)          False\n",
              "│    └─Conv2dNormActivation (8)                              [1, 352, 7, 7]       [1, 1408, 7, 7]      --                   False\n",
              "│    │    └─Conv2d (0)                                       [1, 352, 7, 7]       [1, 1408, 7, 7]      (495,616)            False\n",
              "│    │    └─BatchNorm2d (1)                                  [1, 1408, 7, 7]      [1, 1408, 7, 7]      (2,816)              False\n",
              "│    │    └─SiLU (2)                                         [1, 1408, 7, 7]      [1, 1408, 7, 7]      --                   --\n",
              "├─AdaptiveAvgPool2d (avgpool)                                [1, 1408, 7, 7]      [1, 1408, 1, 1]      --                   --\n",
              "├─Sequential (classifier)                                    [1, 1408]            [1, 3]               --                   True\n",
              "│    └─Dropout (0)                                           [1, 1408]            [1, 1408]            --                   --\n",
              "│    └─Linear (1)                                            [1, 1408]            [1, 3]               4,227                True\n",
              "============================================================================================================================================\n",
              "Total params: 7,705,221\n",
              "Trainable params: 4,227\n",
              "Non-trainable params: 7,700,994\n",
              "Total mult-adds (M): 657.64\n",
              "============================================================================================================================================\n",
              "Input size (MB): 0.60\n",
              "Forward/backward pass size (MB): 156.80\n",
              "Params size (MB): 30.82\n",
              "Estimated Total Size (MB): 188.22\n",
              "============================================================================================================================================"
            ]
          },
          "execution_count": 12,
          "metadata": {},
          "output_type": "execute_result"
        }
      ],
      "source": [
        "summary(effnetb2,\n",
        "         input_size=(1, 3, 224, 224),\n",
        "         col_names=[\"input_size\", \"output_size\", \"num_params\", \"trainable\"],\n",
        "         col_width=20,\n",
        "         row_settings=[\"var_names\"])"
      ]
    },
    {
      "cell_type": "code",
      "execution_count": null,
      "metadata": {
        "colab": {
          "background_save": true
        },
        "id": "hWO_x_ozyVqm"
      },
      "outputs": [],
      "source": [
        "train_dataloader_effnetb2, test_dataloader_effnetb2, class_names = data_setup.create_dataloaders(train_dir=train_dir,\n",
        "                                                                                                 test_dir=test_dir,\n",
        "                                                                                                 transform=effnetb2_transforms,\n",
        "                                                                                                 batch_size=32)"
      ]
    },
    {
      "cell_type": "code",
      "execution_count": null,
      "metadata": {
        "colab": {
          "background_save": true,
          "referenced_widgets": [
            "bc95749e3e1a4e8392c4c7fc71208528"
          ]
        },
        "id": "BmnOhkjUym9r",
        "outputId": "fbc511d3-f541-47f3-f7fb-d2558fe98af4"
      },
      "outputs": [
        {
          "data": {
            "application/vnd.jupyter.widget-view+json": {
              "model_id": "bc95749e3e1a4e8392c4c7fc71208528",
              "version_major": 2,
              "version_minor": 0
            },
            "text/plain": [
              "  0%|          | 0/10 [00:00<?, ?it/s]"
            ]
          },
          "metadata": {},
          "output_type": "display_data"
        },
        {
          "name": "stdout",
          "output_type": "stream",
          "text": [
            "Epoch: 1 | train_loss: 0.9839 | train_acc: 0.5667 | test_loss: 0.7393 | test_acc: 0.9409\n",
            "Epoch: 2 | train_loss: 0.7135 | train_acc: 0.8396 | test_loss: 0.5862 | test_acc: 0.9409\n",
            "Epoch: 3 | train_loss: 0.5874 | train_acc: 0.8958 | test_loss: 0.4891 | test_acc: 0.9563\n",
            "Epoch: 4 | train_loss: 0.4488 | train_acc: 0.9146 | test_loss: 0.4338 | test_acc: 0.9409\n",
            "Epoch: 5 | train_loss: 0.4277 | train_acc: 0.9125 | test_loss: 0.3907 | test_acc: 0.9443\n",
            "Epoch: 6 | train_loss: 0.4392 | train_acc: 0.8896 | test_loss: 0.3525 | test_acc: 0.9688\n",
            "Epoch: 7 | train_loss: 0.4246 | train_acc: 0.8771 | test_loss: 0.3263 | test_acc: 0.9563\n",
            "Epoch: 8 | train_loss: 0.3885 | train_acc: 0.8979 | test_loss: 0.3465 | test_acc: 0.9443\n",
            "Epoch: 9 | train_loss: 0.3795 | train_acc: 0.8812 | test_loss: 0.3127 | test_acc: 0.9193\n",
            "Epoch: 10 | train_loss: 0.3752 | train_acc: 0.8688 | test_loss: 0.2811 | test_acc: 0.9625\n"
          ]
        }
      ],
      "source": [
        "optimizer = torch.optim.Adam(params=effnetb2.parameters(),\n",
        "                             lr=1e-3)\n",
        "\n",
        "loss_fn = torch.nn.CrossEntropyLoss()\n",
        "\n",
        "set_seeds()\n",
        "effnetb2_results = engine.train(model=effnetb2,\n",
        "                                train_dataloader=train_dataloader_effnetb2,\n",
        "                                test_dataloader=test_dataloader_effnetb2,\n",
        "                                epochs=10,\n",
        "                                optimizer=optimizer,\n",
        "                                loss_fn=loss_fn,\n",
        "                                device=device)"
      ]
    },
    {
      "cell_type": "code",
      "execution_count": null,
      "metadata": {
        "colab": {
          "background_save": true
        },
        "id": "toFavOTdyu22",
        "outputId": "6951d92c-d2eb-45a8-b33b-45aaabe4ceb6"
      },
      "outputs": [
        {
          "data": {
            "image/png": "[encoded data removed]",
            "text/plain": [
              "<Figure size 1500x700 with 2 Axes>"
            ]
          },
          "metadata": {},
          "output_type": "display_data"
        }
      ],
      "source": [
        "plot_loss_curves(effnetb2_results)"
      ]
    },
    {
      "cell_type": "code",
      "execution_count": null,
      "metadata": {
        "colab": {
          "background_save": true
        },
        "id": "ZOU-lAXD4049",
        "outputId": "c11664c4-f325-4309-e45c-6f33d02b6681"
      },
      "outputs": [
        {
          "name": "stdout",
          "output_type": "stream",
          "text": [
            "[INFO] Saving model to: models/09_pretrained_effnetb2_feature_extractor_pizza_steak_sushi_20_percent.pth\n"
          ]
        }
      ],
      "source": [
        "from going_modular.going_modular import utils\n",
        "\n",
        "utils.save_model(model=effnetb2,\n",
        "                 target_dir=\"models\",\n",
        "                 model_name=\"09_pretrained_effnetb2_feature_extractor_pizza_steak_sushi_20_percent.pth\")"
      ]
    },
    {
      "cell_type": "code",
      "execution_count": null,
      "metadata": {
        "colab": {
          "background_save": true
        },
        "id": "ZYW3nAMj45Uv",
        "outputId": "ecc2d3da-c5e7-4b28-dd67-af6ceeeacc83"
      },
      "outputs": [
        {
          "name": "stdout",
          "output_type": "stream",
          "text": [
            "Pretrained EffNetB2 feature extractor model size: 29 MB\n"
          ]
        }
      ],
      "source": [
        "from pathlib import Path\n",
        "\n",
        "pretrained_effnetb2_model_size = Path(\"models/09_pretrained_effnetb2_feature_extractor_pizza_steak_sushi_20_percent.pth\").stat().st_size // (1024**2) # division converts bytes to megabytes (roughly)\n",
        "print(f\"Pretrained EffNetB2 feature extractor model size: {pretrained_effnetb2_model_size} MB\")"
      ]
    },
    {
      "cell_type": "code",
      "execution_count": null,
      "metadata": {
        "colab": {
          "background_save": true
        },
        "id": "g2-mW2QQ4-6_",
        "outputId": "25d31f4d-8783-477b-950c-0c1fbce917cb"
      },
      "outputs": [
        {
          "data": {
            "text/plain": [
              "7705221"
            ]
          },
          "execution_count": 18,
          "metadata": {},
          "output_type": "execute_result"
        }
      ],
      "source": [
        "# Count number of parameters in EffNetB2\n",
        "effnetb2_total_params = sum(torch.numel(param) for param in effnetb2.parameters())\n",
        "effnetb2_total_params"
      ]
    },
    {
      "cell_type": "code",
      "execution_count": null,
      "metadata": {
        "colab": {
          "background_save": true
        },
        "id": "ixZxNVJr5Tui",
        "outputId": "03a02165-91a5-4d69-f850-9ad3dc3bfc06"
      },
      "outputs": [
        {
          "data": {
            "text/plain": [
              "{'test_loss': 0.2810868680477142,\n",
              " 'test_acc': 0.9625,\n",
              " 'number_of_parameters': 7705221,\n",
              " 'model_size (MB)': 29}"
            ]
          },
          "execution_count": 19,
          "metadata": {},
          "output_type": "execute_result"
        }
      ],
      "source": [
        "effnetb2_stats = {\"test_loss\": effnetb2_results[\"test_loss\"][-1],\n",
        "                  \"test_acc\": effnetb2_results[\"test_acc\"][-1],\n",
        "                  \"number_of_parameters\": effnetb2_total_params,\n",
        "                  \"model_size (MB)\": pretrained_effnetb2_model_size}\n",
        "effnetb2_stats\n"
      ]
    },
    {
      "cell_type": "code",
      "execution_count": null,
      "metadata": {
        "colab": {
          "background_save": true
        },
        "id": "CkijSmw15Wjd",
        "outputId": "240926e4-5a4f-4f90-bd7b-abdc579ba2ea"
      },
      "outputs": [
        {
          "data": {
            "text/plain": [
              "Sequential(\n",
              "  (head): Linear(in_features=768, out_features=1000, bias=True)\n",
              ")"
            ]
          },
          "execution_count": 20,
          "metadata": {},
          "output_type": "execute_result"
        }
      ],
      "source": [
        "vit = torchvision.models.vit_b_16()\n",
        "vit.heads\n"
      ]
    },
    {
      "cell_type": "code",
      "execution_count": null,
      "metadata": {
        "colab": {
          "background_save": true
        },
        "id": "XLkGemnv5dA4"
      },
      "outputs": [],
      "source": [
        "def create_vit_model(num_classes:int=3,\n",
        "                     seed:int=42):\n",
        "    \"\"\"Creates a ViT-B/16 feature extractor model and transforms.\n",
        "\n",
        "    Args:\n",
        "        num_classes (int, optional): number of target classes. Defaults to 3.\n",
        "        seed (int, optional): random seed value for output layer. Defaults to 42.\n",
        "\n",
        "    Returns:\n",
        "        model (torch.nn.Module): ViT-B/16 feature extractor model.\n",
        "        transforms (torchvision.transforms): ViT-B/16 image transforms.\n",
        "    \"\"\"\n",
        "    # Create ViT_B_16 pretrained weights, transforms and model\n",
        "    weights = torchvision.models.ViT_B_16_Weights.DEFAULT\n",
        "    transforms = weights.transforms()\n",
        "    model = torchvision.models.vit_b_16(weights=weights)\n",
        "\n",
        "    # Freeze all layers in model\n",
        "    for param in model.parameters():\n",
        "        param.requires_grad = False\n",
        "\n",
        "    # Change classifier head to suit our needs (this will be trainable)\n",
        "    torch.manual_seed(seed)\n",
        "    model.heads = nn.Sequential(nn.Linear(in_features=768, # keep this the same as original model\n",
        "                                          out_features=num_classes)) # update to reflect target number of classes\n",
        "\n",
        "    return model, transforms"
      ]
    },
    {
      "cell_type": "code",
      "execution_count": null,
      "metadata": {
        "colab": {
          "background_save": true
        },
        "id": "aGImKgbf5hPZ",
        "outputId": "206b926e-01d2-4d8e-f413-91a0591c161d"
      },
      "outputs": [
        {
          "name": "stderr",
          "output_type": "stream",
          "text": [
            "Downloading: \"https://download.pytorch.org/models/vit_b_16-c867db91.pth\" to /root/.cache/torch/hub/checkpoints/vit_b_16-c867db91.pth\n",
            "100%|██████████| 330M/330M [00:03<00:00, 101MB/s] \n"
          ]
        }
      ],
      "source": [
        "vit, vit_transforms = create_vit_model(num_classes=3,\n",
        "                                       seed=42)\n",
        "\n"
      ]
    },
    {
      "cell_type": "code",
      "execution_count": null,
      "metadata": {
        "colab": {
          "background_save": true
        },
        "id": "B5PuAhSr5mau",
        "outputId": "e2d1d2ca-6f7f-42e7-c596-ce73590e8427"
      },
      "outputs": [
        {
          "data": {
            "text/plain": [
              "============================================================================================================================================\n",
              "Layer (type (var_name))                                      Input Shape          Output Shape         Param #              Trainable\n",
              "============================================================================================================================================\n",
              "VisionTransformer (VisionTransformer)                        [1, 3, 224, 224]     [1, 3]               768                  Partial\n",
              "├─Conv2d (conv_proj)                                         [1, 3, 224, 224]     [1, 768, 14, 14]     (590,592)            False\n",
              "├─Encoder (encoder)                                          [1, 197, 768]        [1, 197, 768]        151,296              False\n",
              "│    └─Dropout (dropout)                                     [1, 197, 768]        [1, 197, 768]        --                   --\n",
              "│    └─Sequential (layers)                                   [1, 197, 768]        [1, 197, 768]        --                   False\n",
              "│    │    └─EncoderBlock (encoder_layer_0)                   [1, 197, 768]        [1, 197, 768]        (7,087,872)          False\n",
              "│    │    └─EncoderBlock (encoder_layer_1)                   [1, 197, 768]        [1, 197, 768]        (7,087,872)          False\n",
              "│    │    └─EncoderBlock (encoder_layer_2)                   [1, 197, 768]        [1, 197, 768]        (7,087,872)          False\n",
              "│    │    └─EncoderBlock (encoder_layer_3)                   [1, 197, 768]        [1, 197, 768]        (7,087,872)          False\n",
              "│    │    └─EncoderBlock (encoder_layer_4)                   [1, 197, 768]        [1, 197, 768]        (7,087,872)          False\n",
              "│    │    └─EncoderBlock (encoder_layer_5)                   [1, 197, 768]        [1, 197, 768]        (7,087,872)          False\n",
              "│    │    └─EncoderBlock (encoder_layer_6)                   [1, 197, 768]        [1, 197, 768]        (7,087,872)          False\n",
              "│    │    └─EncoderBlock (encoder_layer_7)                   [1, 197, 768]        [1, 197, 768]        (7,087,872)          False\n",
              "│    │    └─EncoderBlock (encoder_layer_8)                   [1, 197, 768]        [1, 197, 768]        (7,087,872)          False\n",
              "│    │    └─EncoderBlock (encoder_layer_9)                   [1, 197, 768]        [1, 197, 768]        (7,087,872)          False\n",
              "│    │    └─EncoderBlock (encoder_layer_10)                  [1, 197, 768]        [1, 197, 768]        (7,087,872)          False\n",
              "│    │    └─EncoderBlock (encoder_layer_11)                  [1, 197, 768]        [1, 197, 768]        (7,087,872)          False\n",
              "│    └─LayerNorm (ln)                                        [1, 197, 768]        [1, 197, 768]        (1,536)              False\n",
              "├─Sequential (heads)                                         [1, 768]             [1, 3]               --                   True\n",
              "│    └─Linear (0)                                            [1, 768]             [1, 3]               2,307                True\n",
              "============================================================================================================================================\n",
              "Total params: 85,800,963\n",
              "Trainable params: 2,307\n",
              "Non-trainable params: 85,798,656\n",
              "Total mult-adds (M): 172.47\n",
              "============================================================================================================================================\n",
              "Input size (MB): 0.60\n",
              "Forward/backward pass size (MB): 104.09\n",
              "Params size (MB): 229.20\n",
              "Estimated Total Size (MB): 333.89\n",
              "============================================================================================================================================"
            ]
          },
          "execution_count": 23,
          "metadata": {},
          "output_type": "execute_result"
        }
      ],
      "source": [
        "summary(vit,\n",
        "         input_size=(1, 3, 224, 224),\n",
        "         col_names=[\"input_size\", \"output_size\", \"num_params\", \"trainable\"],\n",
        "         col_width=20,\n",
        "         row_settings=[\"var_names\"])"
      ]
    },
    {
      "cell_type": "code",
      "execution_count": null,
      "metadata": {
        "colab": {
          "background_save": true
        },
        "id": "Bah9qcC_5rXC"
      },
      "outputs": [],
      "source": [
        "train_dataloader_vit, test_dataloader_vit, class_names = data_setup.create_dataloaders(train_dir=train_dir,\n",
        "                                                                                       test_dir=test_dir,\n",
        "                                                                                       transform=vit_transforms,\n",
        "                                                                                       batch_size=32)"
      ]
    },
    {
      "cell_type": "code",
      "execution_count": null,
      "metadata": {
        "colab": {
          "background_save": true,
          "referenced_widgets": [
            "dd8c19d5e2c4454f94483395ec47800d"
          ]
        },
        "id": "jMpE7hVH53kG",
        "outputId": "7e10decf-cae6-40d1-e640-da1b73b94e71"
      },
      "outputs": [
        {
          "data": {
            "application/vnd.jupyter.widget-view+json": {
              "model_id": "dd8c19d5e2c4454f94483395ec47800d",
              "version_major": 2,
              "version_minor": 0
            },
            "text/plain": [
              "  0%|          | 0/10 [00:00<?, ?it/s]"
            ]
          },
          "metadata": {},
          "output_type": "display_data"
        },
        {
          "name": "stdout",
          "output_type": "stream",
          "text": [
            "Epoch: 1 | train_loss: 0.7020 | train_acc: 0.7521 | test_loss: 0.2714 | test_acc: 0.9381\n",
            "Epoch: 2 | train_loss: 0.2532 | train_acc: 0.9062 | test_loss: 0.1672 | test_acc: 0.9602\n",
            "Epoch: 3 | train_loss: 0.1764 | train_acc: 0.9542 | test_loss: 0.1273 | test_acc: 0.9693\n",
            "Epoch: 4 | train_loss: 0.1276 | train_acc: 0.9625 | test_loss: 0.1074 | test_acc: 0.9722\n",
            "Epoch: 5 | train_loss: 0.1159 | train_acc: 0.9646 | test_loss: 0.0953 | test_acc: 0.9784\n",
            "Epoch: 6 | train_loss: 0.1274 | train_acc: 0.9375 | test_loss: 0.0832 | test_acc: 0.9722\n",
            "Epoch: 7 | train_loss: 0.0897 | train_acc: 0.9771 | test_loss: 0.0845 | test_acc: 0.9784\n",
            "Epoch: 8 | train_loss: 0.0919 | train_acc: 0.9812 | test_loss: 0.0764 | test_acc: 0.9722\n",
            "Epoch: 9 | train_loss: 0.0922 | train_acc: 0.9792 | test_loss: 0.0734 | test_acc: 0.9784\n",
            "Epoch: 10 | train_loss: 0.0658 | train_acc: 0.9833 | test_loss: 0.0644 | test_acc: 0.9847\n"
          ]
        }
      ],
      "source": [
        "optimizer = torch.optim.Adam(params=vit.parameters(),\n",
        "                             lr=1e-3)\n",
        "loss_fn = torch.nn.CrossEntropyLoss()\n",
        "\n",
        "set_seeds()\n",
        "vit_results = engine.train(model=vit,\n",
        "                           train_dataloader=train_dataloader_vit,\n",
        "                           test_dataloader=test_dataloader_vit,\n",
        "                           epochs=10,\n",
        "                           optimizer=optimizer,\n",
        "                           loss_fn=loss_fn,\n",
        "                           device=device)"
      ]
    },
    {
      "cell_type": "code",
      "execution_count": null,
      "metadata": {
        "colab": {
          "background_save": true
        },
        "id": "Er6oWZgT59M6",
        "outputId": "f33741c6-619f-49c8-8da9-cdcb92eccc48"
      },
      "outputs": [
        {
          "data": {
            "image/png": "[encoded data removed]",
            "text/plain": [
              "<Figure size 1500x700 with 2 Axes>"
            ]
          },
          "metadata": {},
          "output_type": "display_data"
        }
      ],
      "source": [
        "plot_loss_curves(vit_results)"
      ]
    },
    {
      "cell_type": "code",
      "execution_count": null,
      "metadata": {
        "colab": {
          "background_save": true
        },
        "id": "dVPeI3dB8X0i",
        "outputId": "bd64f24c-afc2-45f9-f9fc-3bb68adfa857"
      },
      "outputs": [
        {
          "name": "stdout",
          "output_type": "stream",
          "text": [
            "[INFO] Saving model to: models/09_pretrained_vit_feature_extractor_pizza_steak_sushi_20_percent.pth\n"
          ]
        }
      ],
      "source": [
        "utils.save_model(model=vit,\n",
        "                 target_dir=\"models\",\n",
        "                 model_name=\"09_pretrained_vit_feature_extractor_pizza_steak_sushi_20_percent.pth\")"
      ]
    },
    {
      "cell_type": "code",
      "execution_count": null,
      "metadata": {
        "colab": {
          "background_save": true
        },
        "id": "WVJgA2pg8dnd",
        "outputId": "723c2d49-a694-4671-e7dd-969e239ea6a5"
      },
      "outputs": [
        {
          "name": "stdout",
          "output_type": "stream",
          "text": [
            "Pretrained ViT feature extractor model size: 327 MB\n"
          ]
        }
      ],
      "source": [
        "pretrained_vit_model_size = Path(\"models/09_pretrained_vit_feature_extractor_pizza_steak_sushi_20_percent.pth\").stat().st_size // (1024**2)\n",
        "print(f\"Pretrained ViT feature extractor model size: {pretrained_vit_model_size} MB\")"
      ]
    },
    {
      "cell_type": "code",
      "execution_count": null,
      "metadata": {
        "colab": {
          "background_save": true
        },
        "id": "V9xOfZHT8k2N",
        "outputId": "d7f3e993-0113-4f2f-f16d-99b63d465d01"
      },
      "outputs": [
        {
          "data": {
            "text/plain": [
              "85800963"
            ]
          },
          "execution_count": 29,
          "metadata": {},
          "output_type": "execute_result"
        }
      ],
      "source": [
        "vit_total_params = sum(torch.numel(param) for param in vit.parameters())\n",
        "vit_total_params"
      ]
    },
    {
      "cell_type": "code",
      "execution_count": null,
      "metadata": {
        "colab": {
          "background_save": true
        },
        "id": "PmDlrNfE8oF0",
        "outputId": "589a4f8a-82c9-4dca-a0f5-2ba640614401"
      },
      "outputs": [
        {
          "data": {
            "text/plain": [
              "{'test_loss': 0.06443452844396233,\n",
              " 'test_acc': 0.984659090909091,\n",
              " 'number_of_parameters': 85800963,\n",
              " 'model_size (MB)': 327}"
            ]
          },
          "execution_count": 30,
          "metadata": {},
          "output_type": "execute_result"
        }
      ],
      "source": [
        "vit_stats = {\"test_loss\": vit_results[\"test_loss\"][-1],\n",
        "             \"test_acc\": vit_results[\"test_acc\"][-1],\n",
        "             \"number_of_parameters\": vit_total_params,\n",
        "             \"model_size (MB)\": pretrained_vit_model_size}\n",
        "\n",
        "vit_stats"
      ]
    },
    {
      "cell_type": "code",
      "execution_count": null,
      "metadata": {
        "colab": {
          "background_save": true
        },
        "id": "r-H4UmqB8rrj",
        "outputId": "14630275-eebe-44b5-cd0f-b228ec3c79be"
      },
      "outputs": [
        {
          "name": "stdout",
          "output_type": "stream",
          "text": [
            "[INFO] Finding all filepaths ending with '.jpg' in directory: data/pizza_steak_sushi_20_percent/test\n"
          ]
        },
        {
          "data": {
            "text/plain": [
              "[PosixPath('data/pizza_steak_sushi_20_percent/test/steak/2069289.jpg'),\n",
              " PosixPath('data/pizza_steak_sushi_20_percent/test/steak/3497585.jpg'),\n",
              " PosixPath('data/pizza_steak_sushi_20_percent/test/steak/1285886.jpg'),\n",
              " PosixPath('data/pizza_steak_sushi_20_percent/test/steak/3553838.jpg'),\n",
              " PosixPath('data/pizza_steak_sushi_20_percent/test/steak/746921.jpg')]"
            ]
          },
          "execution_count": 31,
          "metadata": {},
          "output_type": "execute_result"
        }
      ],
      "source": [
        "from pathlib import Path\n",
        "\n",
        "print(f\"[INFO] Finding all filepaths ending with '.jpg' in directory: {test_dir}\")\n",
        "test_data_paths = list(Path(test_dir).glob(\"*/*.jpg\"))\n",
        "test_data_paths[:5]"
      ]
    },
    {
      "cell_type": "code",
      "execution_count": null,
      "metadata": {
        "colab": {
          "background_save": true
        },
        "id": "-z_4e9qL8x2S"
      },
      "outputs": [],
      "source": [
        "import pathlib\n",
        "import torch\n",
        "\n",
        "from PIL import Image\n",
        "from timeit import default_timer as timer\n",
        "from tqdm.auto import tqdm\n",
        "from typing import List, Dict\n",
        "\n",
        "# 1. Create a function to return a list of dictionaries with sample, truth label, prediction, prediction probability and prediction time\n",
        "def pred_and_store(paths: List[pathlib.Path],\n",
        "                   model: torch.nn.Module,\n",
        "                   transform: torchvision.transforms,\n",
        "                   class_names: List[str],\n",
        "                   device: str = \"cuda\" if torch.cuda.is_available() else \"cpu\") -> List[Dict]:\n",
        "\n",
        "    # 2. Create an empty list to store prediction dictionaires\n",
        "    pred_list = []\n",
        "\n",
        "    # 3. Loop through target paths\n",
        "    for path in tqdm(paths):\n",
        "\n",
        "        # 4. Create empty dictionary to store prediction information for each sample\n",
        "        pred_dict = {}\n",
        "\n",
        "        # 5. Get the sample path and ground truth class name\n",
        "        pred_dict[\"image_path\"] = path\n",
        "        class_name = path.parent.stem\n",
        "        pred_dict[\"class_name\"] = class_name\n",
        "\n",
        "        # 6. Start the prediction timer\n",
        "        start_time = timer()\n",
        "\n",
        "        # 7. Open image path\n",
        "        img = Image.open(path)\n",
        "\n",
        "        # 8. Transform the image, add batch dimension and put image on target device\n",
        "        transformed_image = transform(img).unsqueeze(0).to(device)\n",
        "\n",
        "        # 9. Prepare model for inference by sending it to target device and turning on eval() mode\n",
        "        model.to(device)\n",
        "        model.eval()\n",
        "\n",
        "        # 10. Get prediction probability, predicition label and prediction class\n",
        "        with torch.inference_mode():\n",
        "            pred_logit = model(transformed_image) # perform inference on target sample\n",
        "            pred_prob = torch.softmax(pred_logit, dim=1) # turn logits into prediction probabilities\n",
        "            pred_label = torch.argmax(pred_prob, dim=1) # turn prediction probabilities into prediction label\n",
        "            pred_class = class_names[pred_label.cpu()] # hardcode prediction class to be on CPU\n",
        "\n",
        "            # 11. Make sure things in the dictionary are on CPU (required for inspecting predictions later on)\n",
        "            pred_dict[\"pred_prob\"] = round(pred_prob.unsqueeze(0).max().cpu().item(), 4)\n",
        "            pred_dict[\"pred_class\"] = pred_class\n",
        "\n",
        "            # 12. End the timer and calculate time per pred\n",
        "            end_time = timer()\n",
        "            pred_dict[\"time_for_pred\"] = round(end_time-start_time, 4)\n",
        "\n",
        "        # 13. Does the pred match the true label?\n",
        "        pred_dict[\"correct\"] = class_name == pred_class\n",
        "\n",
        "        # 14. Add the dictionary to the list of preds\n",
        "        pred_list.append(pred_dict)\n",
        "\n",
        "    # 15. Return list of prediction dictionaries\n",
        "    return pred_list"
      ]
    },
    {
      "cell_type": "code",
      "execution_count": null,
      "metadata": {
        "colab": {
          "background_save": true,
          "referenced_widgets": [
            "bb6a862d481d4f10a77c449d45537dd5"
          ]
        },
        "id": "PLkR30_L88cX",
        "outputId": "baac6f73-912e-44c8-985b-1736a22ffcd9"
      },
      "outputs": [
        {
          "data": {
            "application/vnd.jupyter.widget-view+json": {
              "model_id": "bb6a862d481d4f10a77c449d45537dd5",
              "version_major": 2,
              "version_minor": 0
            },
            "text/plain": [
              "  0%|          | 0/150 [00:00<?, ?it/s]"
            ]
          },
          "metadata": {},
          "output_type": "display_data"
        }
      ],
      "source": [
        "# Make predictions across test dataset with EffNetB2\n",
        "effnetb2_test_pred_dicts = pred_and_store(paths=test_data_paths,\n",
        "                                          model=effnetb2,\n",
        "                                          transform=effnetb2_transforms,\n",
        "                                          class_names=class_names,\n",
        "                                          device=\"cpu\") # make predictions on CPU"
      ]
    },
    {
      "cell_type": "code",
      "execution_count": null,
      "metadata": {
        "colab": {
          "background_save": true
        },
        "id": "7Z0X7g6m9C3X",
        "outputId": "1b04dd37-a470-4770-ebfc-3da94a2646db"
      },
      "outputs": [
        {
          "data": {
            "text/plain": [
              "[{'image_path': PosixPath('data/pizza_steak_sushi_20_percent/test/steak/2069289.jpg'),\n",
              "  'class_name': 'steak',\n",
              "  'pred_prob': 0.8399,\n",
              "  'pred_class': 'steak',\n",
              "  'time_for_pred': 0.2813,\n",
              "  'correct': True},\n",
              " {'image_path': PosixPath('data/pizza_steak_sushi_20_percent/test/steak/3497585.jpg'),\n",
              "  'class_name': 'steak',\n",
              "  'pred_prob': 0.7606,\n",
              "  'pred_class': 'steak',\n",
              "  'time_for_pred': 0.1208,\n",
              "  'correct': True}]"
            ]
          },
          "execution_count": 34,
          "metadata": {},
          "output_type": "execute_result"
        }
      ],
      "source": [
        "effnetb2_test_pred_dicts[:2]"
      ]
    },
    {
      "cell_type": "code",
      "execution_count": null,
      "metadata": {
        "colab": {
          "background_save": true
        },
        "id": "xg4bGnHI9Kp1",
        "outputId": "b3825d87-cdc1-4db0-c7f4-10ce5bf2edc4"
      },
      "outputs": [
        {
          "data": {
            "text/html": [
              "\n",
              "\n",
              "  <div id=\"df-17354dd8-92b2-41f6-a835-fd43c8769659\">\n",
              "    <div class=\"colab-df-container\">\n",
              "      <div>\n",
              "<style scoped>\n",
              "    .dataframe tbody tr th:only-of-type {\n",
              "        vertical-align: middle;\n",
              "    }\n",
              "\n",
              "    .dataframe tbody tr th {\n",
              "        vertical-align: top;\n",
              "    }\n",
              "\n",
              "    .dataframe thead th {\n",
              "        text-align: right;\n",
              "    }\n",
              "</style>\n",
              "<table border=\"1\" class=\"dataframe\">\n",
              "  <thead>\n",
              "    <tr style=\"text-align: right;\">\n",
              "      <th></th>\n",
              "      <th>image_path</th>\n",
              "      <th>class_name</th>\n",
              "      <th>pred_prob</th>\n",
              "      <th>pred_class</th>\n",
              "      <th>time_for_pred</th>\n",
              "      <th>correct</th>\n",
              "    </tr>\n",
              "  </thead>\n",
              "  <tbody>\n",
              "    <tr>\n",
              "      <th>0</th>\n",
              "      <td>data/pizza_steak_sushi_20_percent/test/steak/2...</td>\n",
              "      <td>steak</td>\n",
              "      <td>0.8399</td>\n",
              "      <td>steak</td>\n",
              "      <td>0.2813</td>\n",
              "      <td>True</td>\n",
              "    </tr>\n",
              "    <tr>\n",
              "      <th>1</th>\n",
              "      <td>data/pizza_steak_sushi_20_percent/test/steak/3...</td>\n",
              "      <td>steak</td>\n",
              "      <td>0.7606</td>\n",
              "      <td>steak</td>\n",
              "      <td>0.1208</td>\n",
              "      <td>True</td>\n",
              "    </tr>\n",
              "    <tr>\n",
              "      <th>2</th>\n",
              "      <td>data/pizza_steak_sushi_20_percent/test/steak/1...</td>\n",
              "      <td>steak</td>\n",
              "      <td>0.8825</td>\n",
              "      <td>steak</td>\n",
              "      <td>0.1084</td>\n",
              "      <td>True</td>\n",
              "    </tr>\n",
              "    <tr>\n",
              "      <th>3</th>\n",
              "      <td>data/pizza_steak_sushi_20_percent/test/steak/3...</td>\n",
              "      <td>steak</td>\n",
              "      <td>0.4610</td>\n",
              "      <td>steak</td>\n",
              "      <td>0.1079</td>\n",
              "      <td>True</td>\n",
              "    </tr>\n",
              "    <tr>\n",
              "      <th>4</th>\n",
              "      <td>data/pizza_steak_sushi_20_percent/test/steak/7...</td>\n",
              "      <td>steak</td>\n",
              "      <td>0.9469</td>\n",
              "      <td>steak</td>\n",
              "      <td>0.1049</td>\n",
              "      <td>True</td>\n",
              "    </tr>\n",
              "  </tbody>\n",
              "</table>\n",
              "</div>\n",
              "      <button class=\"colab-df-convert\" onclick=\"convertToInteractive('df-17354dd8-92b2-41f6-a835-fd43c8769659')\"\n",
              "              title=\"Convert this dataframe to an interactive table.\"\n",
              "              style=\"display:none;\">\n",
              "\n",
              "  <svg xmlns=\"http://www.w3.org/2000/svg\" height=\"24px\"viewBox=\"0 0 24 24\"\n",
              "       width=\"24px\">\n",
              "    <path d=\"M0 0h24v24H0V0z\" fill=\"none\"/>\n",
              "    <path d=\"M18.56 5.44l.94 2.06.94-2.06 2.06-.94-2.06-.94-.94-2.06-.94 2.06-2.06.94zm-11 1L8.5 8.5l.94-2.06 2.06-.94-2.06-.94L8.5 2.5l-.94 2.06-2.06.94zm10 10l.94 2.06.94-2.06 2.06-.94-2.06-.94-.94-2.06-.94 2.06-2.06.94z\"/><path d=\"M17.41 7.96l-1.37-1.37c-.4-.4-.92-.59-1.43-.59-.52 0-1.04.2-1.43.59L10.3 9.45l-7.72 7.72c-.78.78-.78 2.05 0 2.83L4 21.41c.39.39.9.59 1.41.59.51 0 1.02-.2 1.41-.59l7.78-7.78 2.81-2.81c.8-.78.8-2.07 0-2.86zM5.41 20L4 18.59l7.72-7.72 1.47 1.35L5.41 20z\"/>\n",
              "  </svg>\n",
              "      </button>\n",
              "\n",
              "\n",
              "\n",
              "    <div id=\"df-8bbc83bf-5248-4b4a-ba2b-5787a8f50de1\">\n",
              "      <button class=\"colab-df-quickchart\" onclick=\"quickchart('df-8bbc83bf-5248-4b4a-ba2b-5787a8f50de1')\"\n",
              "              title=\"Suggest charts.\"\n",
              "              style=\"display:none;\">\n",
              "\n",
              "<svg xmlns=\"http://www.w3.org/2000/svg\" height=\"24px\"viewBox=\"0 0 24 24\"\n",
              "     width=\"24px\">\n",
              "    <g>\n",
              "        <path d=\"M19 3H5c-1.1 0-2 .9-2 2v14c0 1.1.9 2 2 2h14c1.1 0 2-.9 2-2V5c0-1.1-.9-2-2-2zM9 17H7v-7h2v7zm4 0h-2V7h2v10zm4 0h-2v-4h2v4z\"/>\n",
              "    </g>\n",
              "</svg>\n",
              "      </button>\n",
              "    </div>\n",
              "\n",
              "<style>\n",
              "  .colab-df-quickchart {\n",
              "    background-color: #E8F0FE;\n",
              "    border: none;\n",
              "    border-radius: 50%;\n",
              "    cursor: pointer;\n",
              "    display: none;\n",
              "    fill: #1967D2;\n",
              "    height: 32px;\n",
              "    padding: 0 0 0 0;\n",
              "    width: 32px;\n",
              "  }\n",
              "\n",
              "  .colab-df-quickchart:hover {\n",
              "    background-color: #E2EBFA;\n",
              "    box-shadow: 0px 1px 2px rgba(60, 64, 67, 0.3), 0px 1px 3px 1px rgba(60, 64, 67, 0.15);\n",
              "    fill: #174EA6;\n",
              "  }\n",
              "\n",
              "  [theme=dark] .colab-df-quickchart {\n",
              "    background-color: #3B4455;\n",
              "    fill: #D2E3FC;\n",
              "  }\n",
              "\n",
              "  [theme=dark] .colab-df-quickchart:hover {\n",
              "    background-color: #434B5C;\n",
              "    box-shadow: 0px 1px 3px 1px rgba(0, 0, 0, 0.15);\n",
              "    filter: drop-shadow(0px 1px 2px rgba(0, 0, 0, 0.3));\n",
              "    fill: #FFFFFF;\n",
              "  }\n",
              "</style>\n",
              "\n",
              "    <script>\n",
              "      async function quickchart(key) {\n",
              "        const containerElement = document.querySelector('#' + key);\n",
              "        const charts = await google.colab.kernel.invokeFunction(\n",
              "            'suggestCharts', [key], {});\n",
              "      }\n",
              "    </script>\n",
              "\n",
              "      <script>\n",
              "\n",
              "function displayQuickchartButton(domScope) {\n",
              "  let quickchartButtonEl =\n",
              "    domScope.querySelector('#df-8bbc83bf-5248-4b4a-ba2b-5787a8f50de1 button.colab-df-quickchart');\n",
              "  quickchartButtonEl.style.display =\n",
              "    google.colab.kernel.accessAllowed ? 'block' : 'none';\n",
              "}\n",
              "\n",
              "        displayQuickchartButton(document);\n",
              "      </script>\n",
              "      <style>\n",
              "    .colab-df-container {\n",
              "      display:flex;\n",
              "      flex-wrap:wrap;\n",
              "      gap: 12px;\n",
              "    }\n",
              "\n",
              "    .colab-df-convert {\n",
              "      background-color: #E8F0FE;\n",
              "      border: none;\n",
              "      border-radius: 50%;\n",
              "      cursor: pointer;\n",
              "      display: none;\n",
              "      fill: #1967D2;\n",
              "      height: 32px;\n",
              "      padding: 0 0 0 0;\n",
              "      width: 32px;\n",
              "    }\n",
              "\n",
              "    .colab-df-convert:hover {\n",
              "      background-color: #E2EBFA;\n",
              "      box-shadow: 0px 1px 2px rgba(60, 64, 67, 0.3), 0px 1px 3px 1px rgba(60, 64, 67, 0.15);\n",
              "      fill: #174EA6;\n",
              "    }\n",
              "\n",
              "    [theme=dark] .colab-df-convert {\n",
              "      background-color: #3B4455;\n",
              "      fill: #D2E3FC;\n",
              "    }\n",
              "\n",
              "    [theme=dark] .colab-df-convert:hover {\n",
              "      background-color: #434B5C;\n",
              "      box-shadow: 0px 1px 3px 1px rgba(0, 0, 0, 0.15);\n",
              "      filter: drop-shadow(0px 1px 2px rgba(0, 0, 0, 0.3));\n",
              "      fill: #FFFFFF;\n",
              "    }\n",
              "  </style>\n",
              "\n",
              "      <script>\n",
              "        const buttonEl =\n",
              "          document.querySelector('#df-17354dd8-92b2-41f6-a835-fd43c8769659 button.colab-df-convert');\n",
              "        buttonEl.style.display =\n",
              "          google.colab.kernel.accessAllowed ? 'block' : 'none';\n",
              "\n",
              "        async function convertToInteractive(key) {\n",
              "          const element = document.querySelector('#df-17354dd8-92b2-41f6-a835-fd43c8769659');\n",
              "          const dataTable =\n",
              "            await google.colab.kernel.invokeFunction('convertToInteractive',\n",
              "                                                     [key], {});\n",
              "          if (!dataTable) return;\n",
              "\n",
              "          const docLinkHtml = 'Like what you see? Visit the ' +\n",
              "            '<a target=\"_blank\" href=https://colab.research.google.com/notebooks/data_table.ipynb>data table notebook</a>'\n",
              "            + ' to learn more about interactive tables.';\n",
              "          element.innerHTML = '';\n",
              "          dataTable['output_type'] = 'display_data';\n",
              "          await google.colab.output.renderOutput(dataTable, element);\n",
              "          const docLink = document.createElement('div');\n",
              "          docLink.innerHTML = docLinkHtml;\n",
              "          element.appendChild(docLink);\n",
              "        }\n",
              "      </script>\n",
              "    </div>\n",
              "  </div>\n"
            ],
            "text/plain": [
              "                                          image_path class_name  pred_prob  \\\n",
              "0  data/pizza_steak_sushi_20_percent/test/steak/2...      steak     0.8399   \n",
              "1  data/pizza_steak_sushi_20_percent/test/steak/3...      steak     0.7606   \n",
              "2  data/pizza_steak_sushi_20_percent/test/steak/1...      steak     0.8825   \n",
              "3  data/pizza_steak_sushi_20_percent/test/steak/3...      steak     0.4610   \n",
              "4  data/pizza_steak_sushi_20_percent/test/steak/7...      steak     0.9469   \n",
              "\n",
              "  pred_class  time_for_pred  correct  \n",
              "0      steak         0.2813     True  \n",
              "1      steak         0.1208     True  \n",
              "2      steak         0.1084     True  \n",
              "3      steak         0.1079     True  \n",
              "4      steak         0.1049     True  "
            ]
          },
          "execution_count": 35,
          "metadata": {},
          "output_type": "execute_result"
        }
      ],
      "source": [
        "import pandas as pd\n",
        "effnetb2_test_pred_df = pd.DataFrame(effnetb2_test_pred_dicts)\n",
        "effnetb2_test_pred_df.head()"
      ]
    },
    {
      "cell_type": "code",
      "execution_count": null,
      "metadata": {
        "colab": {
          "background_save": true
        },
        "id": "lIMh1Qil9N4l",
        "outputId": "53a87abf-29e5-4e90-9b72-29d87dac10fc"
      },
      "outputs": [
        {
          "data": {
            "text/plain": [
              "True     144\n",
              "False      6\n",
              "Name: correct, dtype: int64"
            ]
          },
          "execution_count": 36,
          "metadata": {},
          "output_type": "execute_result"
        }
      ],
      "source": [
        "effnetb2_test_pred_df.correct.value_counts()"
      ]
    },
    {
      "cell_type": "code",
      "execution_count": null,
      "metadata": {
        "colab": {
          "background_save": true
        },
        "id": "K3VUscSh9dPb",
        "outputId": "dea0a84d-5a2a-45fc-c04d-7c25562aa5e7"
      },
      "outputs": [
        {
          "name": "stdout",
          "output_type": "stream",
          "text": [
            "EffNetB2 average time per prediction: 0.1112 seconds\n"
          ]
        }
      ],
      "source": [
        "effnetb2_average_time_per_pred = round(effnetb2_test_pred_df.time_for_pred.mean(), 4)\n",
        "print(f\"EffNetB2 average time per prediction: {effnetb2_average_time_per_pred} seconds\")"
      ]
    },
    {
      "cell_type": "code",
      "execution_count": null,
      "metadata": {
        "colab": {
          "background_save": true
        },
        "id": "hX5tlLLY9jT1",
        "outputId": "e32b6e2f-4aca-4efa-8c81-4d83243ae0ff"
      },
      "outputs": [
        {
          "data": {
            "text/plain": [
              "{'test_loss': 0.2810868680477142,\n",
              " 'test_acc': 0.9625,\n",
              " 'number_of_parameters': 7705221,\n",
              " 'model_size (MB)': 29,\n",
              " 'time_per_pred_cpu': 0.1112}"
            ]
          },
          "execution_count": 38,
          "metadata": {},
          "output_type": "execute_result"
        }
      ],
      "source": [
        "effnetb2_stats[\"time_per_pred_cpu\"] = effnetb2_average_time_per_pred\n",
        "effnetb2_stats"
      ]
    },
    {
      "cell_type": "code",
      "execution_count": null,
      "metadata": {
        "colab": {
          "background_save": true,
          "referenced_widgets": [
            "17164fbb2fae4beeb123d48ca5aafe3f"
          ]
        },
        "id": "UFOrM78K9m3D",
        "outputId": "03fa05f3-afb5-47d6-ee22-64d1c8fa7043"
      },
      "outputs": [
        {
          "data": {
            "application/vnd.jupyter.widget-view+json": {
              "model_id": "17164fbb2fae4beeb123d48ca5aafe3f",
              "version_major": 2,
              "version_minor": 0
            },
            "text/plain": [
              "  0%|          | 0/150 [00:00<?, ?it/s]"
            ]
          },
          "metadata": {},
          "output_type": "display_data"
        }
      ],
      "source": [
        "vit_test_pred_dicts = pred_and_store(paths=test_data_paths,\n",
        "                                     model=vit,\n",
        "                                     transform=vit_transforms,\n",
        "                                     class_names=class_names,\n",
        "                                     device=\"cpu\")\n"
      ]
    },
    {
      "cell_type": "code",
      "execution_count": null,
      "metadata": {
        "colab": {
          "background_save": true
        },
        "id": "2SmBkqeh9y4W",
        "outputId": "60af4f16-319f-4893-e66e-878a28ce6fa9"
      },
      "outputs": [
        {
          "data": {
            "text/plain": [
              "[{'image_path': PosixPath('data/pizza_steak_sushi_20_percent/test/steak/2069289.jpg'),\n",
              "  'class_name': 'steak',\n",
              "  'pred_prob': 0.9441,\n",
              "  'pred_class': 'steak',\n",
              "  'time_for_pred': 0.7125,\n",
              "  'correct': True},\n",
              " {'image_path': PosixPath('data/pizza_steak_sushi_20_percent/test/steak/3497585.jpg'),\n",
              "  'class_name': 'steak',\n",
              "  'pred_prob': 0.9929,\n",
              "  'pred_class': 'steak',\n",
              "  'time_for_pred': 0.5573,\n",
              "  'correct': True}]"
            ]
          },
          "execution_count": 40,
          "metadata": {},
          "output_type": "execute_result"
        }
      ],
      "source": [
        "vit_test_pred_dicts[:2]"
      ]
    },
    {
      "cell_type": "code",
      "execution_count": null,
      "metadata": {
        "colab": {
          "background_save": true
        },
        "id": "3IVIsU77-KuL",
        "outputId": "57b17f67-a5c3-4348-fb32-9eb8759cd82f"
      },
      "outputs": [
        {
          "data": {
            "text/html": [
              "\n",
              "\n",
              "  <div id=\"df-2376884a-a199-49f0-92f5-3745925edafa\">\n",
              "    <div class=\"colab-df-container\">\n",
              "      <div>\n",
              "<style scoped>\n",
              "    .dataframe tbody tr th:only-of-type {\n",
              "        vertical-align: middle;\n",
              "    }\n",
              "\n",
              "    .dataframe tbody tr th {\n",
              "        vertical-align: top;\n",
              "    }\n",
              "\n",
              "    .dataframe thead th {\n",
              "        text-align: right;\n",
              "    }\n",
              "</style>\n",
              "<table border=\"1\" class=\"dataframe\">\n",
              "  <thead>\n",
              "    <tr style=\"text-align: right;\">\n",
              "      <th></th>\n",
              "      <th>image_path</th>\n",
              "      <th>class_name</th>\n",
              "      <th>pred_prob</th>\n",
              "      <th>pred_class</th>\n",
              "      <th>time_for_pred</th>\n",
              "      <th>correct</th>\n",
              "    </tr>\n",
              "  </thead>\n",
              "  <tbody>\n",
              "    <tr>\n",
              "      <th>0</th>\n",
              "      <td>data/pizza_steak_sushi_20_percent/test/steak/2...</td>\n",
              "      <td>steak</td>\n",
              "      <td>0.9441</td>\n",
              "      <td>steak</td>\n",
              "      <td>0.7125</td>\n",
              "      <td>True</td>\n",
              "    </tr>\n",
              "    <tr>\n",
              "      <th>1</th>\n",
              "      <td>data/pizza_steak_sushi_20_percent/test/steak/3...</td>\n",
              "      <td>steak</td>\n",
              "      <td>0.9929</td>\n",
              "      <td>steak</td>\n",
              "      <td>0.5573</td>\n",
              "      <td>True</td>\n",
              "    </tr>\n",
              "    <tr>\n",
              "      <th>2</th>\n",
              "      <td>data/pizza_steak_sushi_20_percent/test/steak/1...</td>\n",
              "      <td>steak</td>\n",
              "      <td>0.9736</td>\n",
              "      <td>steak</td>\n",
              "      <td>0.5471</td>\n",
              "      <td>True</td>\n",
              "    </tr>\n",
              "    <tr>\n",
              "      <th>3</th>\n",
              "      <td>data/pizza_steak_sushi_20_percent/test/steak/3...</td>\n",
              "      <td>steak</td>\n",
              "      <td>0.9180</td>\n",
              "      <td>steak</td>\n",
              "      <td>0.5446</td>\n",
              "      <td>True</td>\n",
              "    </tr>\n",
              "    <tr>\n",
              "      <th>4</th>\n",
              "      <td>data/pizza_steak_sushi_20_percent/test/steak/7...</td>\n",
              "      <td>steak</td>\n",
              "      <td>0.9916</td>\n",
              "      <td>steak</td>\n",
              "      <td>0.5502</td>\n",
              "      <td>True</td>\n",
              "    </tr>\n",
              "  </tbody>\n",
              "</table>\n",
              "</div>\n",
              "      <button class=\"colab-df-convert\" onclick=\"convertToInteractive('df-2376884a-a199-49f0-92f5-3745925edafa')\"\n",
              "              title=\"Convert this dataframe to an interactive table.\"\n",
              "              style=\"display:none;\">\n",
              "\n",
              "  <svg xmlns=\"http://www.w3.org/2000/svg\" height=\"24px\"viewBox=\"0 0 24 24\"\n",
              "       width=\"24px\">\n",
              "    <path d=\"M0 0h24v24H0V0z\" fill=\"none\"/>\n",
              "    <path d=\"M18.56 5.44l.94 2.06.94-2.06 2.06-.94-2.06-.94-.94-2.06-.94 2.06-2.06.94zm-11 1L8.5 8.5l.94-2.06 2.06-.94-2.06-.94L8.5 2.5l-.94 2.06-2.06.94zm10 10l.94 2.06.94-2.06 2.06-.94-2.06-.94-.94-2.06-.94 2.06-2.06.94z\"/><path d=\"M17.41 7.96l-1.37-1.37c-.4-.4-.92-.59-1.43-.59-.52 0-1.04.2-1.43.59L10.3 9.45l-7.72 7.72c-.78.78-.78 2.05 0 2.83L4 21.41c.39.39.9.59 1.41.59.51 0 1.02-.2 1.41-.59l7.78-7.78 2.81-2.81c.8-.78.8-2.07 0-2.86zM5.41 20L4 18.59l7.72-7.72 1.47 1.35L5.41 20z\"/>\n",
              "  </svg>\n",
              "      </button>\n",
              "\n",
              "\n",
              "\n",
              "    <div id=\"df-c6e4f319-0578-4e4b-b3b3-58e9597ed065\">\n",
              "      <button class=\"colab-df-quickchart\" onclick=\"quickchart('df-c6e4f319-0578-4e4b-b3b3-58e9597ed065')\"\n",
              "              title=\"Suggest charts.\"\n",
              "              style=\"display:none;\">\n",
              "\n",
              "<svg xmlns=\"http://www.w3.org/2000/svg\" height=\"24px\"viewBox=\"0 0 24 24\"\n",
              "     width=\"24px\">\n",
              "    <g>\n",
              "        <path d=\"M19 3H5c-1.1 0-2 .9-2 2v14c0 1.1.9 2 2 2h14c1.1 0 2-.9 2-2V5c0-1.1-.9-2-2-2zM9 17H7v-7h2v7zm4 0h-2V7h2v10zm4 0h-2v-4h2v4z\"/>\n",
              "    </g>\n",
              "</svg>\n",
              "      </button>\n",
              "    </div>\n",
              "\n",
              "<style>\n",
              "  .colab-df-quickchart {\n",
              "    background-color: #E8F0FE;\n",
              "    border: none;\n",
              "    border-radius: 50%;\n",
              "    cursor: pointer;\n",
              "    display: none;\n",
              "    fill: #1967D2;\n",
              "    height: 32px;\n",
              "    padding: 0 0 0 0;\n",
              "    width: 32px;\n",
              "  }\n",
              "\n",
              "  .colab-df-quickchart:hover {\n",
              "    background-color: #E2EBFA;\n",
              "    box-shadow: 0px 1px 2px rgba(60, 64, 67, 0.3), 0px 1px 3px 1px rgba(60, 64, 67, 0.15);\n",
              "    fill: #174EA6;\n",
              "  }\n",
              "\n",
              "  [theme=dark] .colab-df-quickchart {\n",
              "    background-color: #3B4455;\n",
              "    fill: #D2E3FC;\n",
              "  }\n",
              "\n",
              "  [theme=dark] .colab-df-quickchart:hover {\n",
              "    background-color: #434B5C;\n",
              "    box-shadow: 0px 1px 3px 1px rgba(0, 0, 0, 0.15);\n",
              "    filter: drop-shadow(0px 1px 2px rgba(0, 0, 0, 0.3));\n",
              "    fill: #FFFFFF;\n",
              "  }\n",
              "</style>\n",
              "\n",
              "    <script>\n",
              "      async function quickchart(key) {\n",
              "        const containerElement = document.querySelector('#' + key);\n",
              "        const charts = await google.colab.kernel.invokeFunction(\n",
              "            'suggestCharts', [key], {});\n",
              "      }\n",
              "    </script>\n",
              "\n",
              "      <script>\n",
              "\n",
              "function displayQuickchartButton(domScope) {\n",
              "  let quickchartButtonEl =\n",
              "    domScope.querySelector('#df-c6e4f319-0578-4e4b-b3b3-58e9597ed065 button.colab-df-quickchart');\n",
              "  quickchartButtonEl.style.display =\n",
              "    google.colab.kernel.accessAllowed ? 'block' : 'none';\n",
              "}\n",
              "\n",
              "        displayQuickchartButton(document);\n",
              "      </script>\n",
              "      <style>\n",
              "    .colab-df-container {\n",
              "      display:flex;\n",
              "      flex-wrap:wrap;\n",
              "      gap: 12px;\n",
              "    }\n",
              "\n",
              "    .colab-df-convert {\n",
              "      background-color: #E8F0FE;\n",
              "      border: none;\n",
              "      border-radius: 50%;\n",
              "      cursor: pointer;\n",
              "      display: none;\n",
              "      fill: #1967D2;\n",
              "      height: 32px;\n",
              "      padding: 0 0 0 0;\n",
              "      width: 32px;\n",
              "    }\n",
              "\n",
              "    .colab-df-convert:hover {\n",
              "      background-color: #E2EBFA;\n",
              "      box-shadow: 0px 1px 2px rgba(60, 64, 67, 0.3), 0px 1px 3px 1px rgba(60, 64, 67, 0.15);\n",
              "      fill: #174EA6;\n",
              "    }\n",
              "\n",
              "    [theme=dark] .colab-df-convert {\n",
              "      background-color: #3B4455;\n",
              "      fill: #D2E3FC;\n",
              "    }\n",
              "\n",
              "    [theme=dark] .colab-df-convert:hover {\n",
              "      background-color: #434B5C;\n",
              "      box-shadow: 0px 1px 3px 1px rgba(0, 0, 0, 0.15);\n",
              "      filter: drop-shadow(0px 1px 2px rgba(0, 0, 0, 0.3));\n",
              "      fill: #FFFFFF;\n",
              "    }\n",
              "  </style>\n",
              "\n",
              "      <script>\n",
              "        const buttonEl =\n",
              "          document.querySelector('#df-2376884a-a199-49f0-92f5-3745925edafa button.colab-df-convert');\n",
              "        buttonEl.style.display =\n",
              "          google.colab.kernel.accessAllowed ? 'block' : 'none';\n",
              "\n",
              "        async function convertToInteractive(key) {\n",
              "          const element = document.querySelector('#df-2376884a-a199-49f0-92f5-3745925edafa');\n",
              "          const dataTable =\n",
              "            await google.colab.kernel.invokeFunction('convertToInteractive',\n",
              "                                                     [key], {});\n",
              "          if (!dataTable) return;\n",
              "\n",
              "          const docLinkHtml = 'Like what you see? Visit the ' +\n",
              "            '<a target=\"_blank\" href=https://colab.research.google.com/notebooks/data_table.ipynb>data table notebook</a>'\n",
              "            + ' to learn more about interactive tables.';\n",
              "          element.innerHTML = '';\n",
              "          dataTable['output_type'] = 'display_data';\n",
              "          await google.colab.output.renderOutput(dataTable, element);\n",
              "          const docLink = document.createElement('div');\n",
              "          docLink.innerHTML = docLinkHtml;\n",
              "          element.appendChild(docLink);\n",
              "        }\n",
              "      </script>\n",
              "    </div>\n",
              "  </div>\n"
            ],
            "text/plain": [
              "                                          image_path class_name  pred_prob  \\\n",
              "0  data/pizza_steak_sushi_20_percent/test/steak/2...      steak     0.9441   \n",
              "1  data/pizza_steak_sushi_20_percent/test/steak/3...      steak     0.9929   \n",
              "2  data/pizza_steak_sushi_20_percent/test/steak/1...      steak     0.9736   \n",
              "3  data/pizza_steak_sushi_20_percent/test/steak/3...      steak     0.9180   \n",
              "4  data/pizza_steak_sushi_20_percent/test/steak/7...      steak     0.9916   \n",
              "\n",
              "  pred_class  time_for_pred  correct  \n",
              "0      steak         0.7125     True  \n",
              "1      steak         0.5573     True  \n",
              "2      steak         0.5471     True  \n",
              "3      steak         0.5446     True  \n",
              "4      steak         0.5502     True  "
            ]
          },
          "execution_count": 41,
          "metadata": {},
          "output_type": "execute_result"
        }
      ],
      "source": [
        "import pandas as pd\n",
        "vit_test_pred_df = pd.DataFrame(vit_test_pred_dicts)\n",
        "vit_test_pred_df.head()"
      ]
    },
    {
      "cell_type": "code",
      "execution_count": null,
      "metadata": {
        "colab": {
          "background_save": true
        },
        "id": "DOXlulW0-Rto",
        "outputId": "e0bde96c-29d1-461f-9a3c-1c98e0bc1bd3"
      },
      "outputs": [
        {
          "data": {
            "text/plain": [
              "True     148\n",
              "False      2\n",
              "Name: correct, dtype: int64"
            ]
          },
          "execution_count": 42,
          "metadata": {},
          "output_type": "execute_result"
        }
      ],
      "source": [
        "vit_test_pred_df.correct.value_counts()"
      ]
    },
    {
      "cell_type": "code",
      "execution_count": null,
      "metadata": {
        "colab": {
          "background_save": true
        },
        "id": "zJCjktJA-Uj6",
        "outputId": "45b47178-0632-45d1-fcd4-bfe1232e05aa"
      },
      "outputs": [
        {
          "name": "stdout",
          "output_type": "stream",
          "text": [
            "ViT average time per prediction: 0.5809 seconds\n"
          ]
        }
      ],
      "source": [
        "vit_average_time_per_pred = round(vit_test_pred_df.time_for_pred.mean(), 4)\n",
        "print(f\"ViT average time per prediction: {vit_average_time_per_pred} seconds\")"
      ]
    },
    {
      "cell_type": "code",
      "execution_count": null,
      "metadata": {
        "colab": {
          "background_save": true
        },
        "id": "aOyimtqf-Yhl",
        "outputId": "790ab9b4-bf6f-4243-bcb3-e4d1607c75e2"
      },
      "outputs": [
        {
          "data": {
            "text/plain": [
              "{'test_loss': 0.06443452844396233,\n",
              " 'test_acc': 0.984659090909091,\n",
              " 'number_of_parameters': 85800963,\n",
              " 'model_size (MB)': 327,\n",
              " 'time_per_pred_cpu': 0.5809}"
            ]
          },
          "execution_count": 44,
          "metadata": {},
          "output_type": "execute_result"
        }
      ],
      "source": [
        "vit_stats[\"time_per_pred_cpu\"] = vit_average_time_per_pred\n",
        "vit_stats"
      ]
    },
    {
      "cell_type": "code",
      "execution_count": null,
      "metadata": {
        "colab": {
          "background_save": true
        },
        "id": "Ixd3POdd-cgB",
        "outputId": "13a98e13-dcb0-454d-de72-b43e2f1b1124"
      },
      "outputs": [
        {
          "data": {
            "text/html": [
              "\n",
              "\n",
              "  <div id=\"df-8c0f1529-59ce-4027-ba8b-19f3a4e277b9\">\n",
              "    <div class=\"colab-df-container\">\n",
              "      <div>\n",
              "<style scoped>\n",
              "    .dataframe tbody tr th:only-of-type {\n",
              "        vertical-align: middle;\n",
              "    }\n",
              "\n",
              "    .dataframe tbody tr th {\n",
              "        vertical-align: top;\n",
              "    }\n",
              "\n",
              "    .dataframe thead th {\n",
              "        text-align: right;\n",
              "    }\n",
              "</style>\n",
              "<table border=\"1\" class=\"dataframe\">\n",
              "  <thead>\n",
              "    <tr style=\"text-align: right;\">\n",
              "      <th></th>\n",
              "      <th>test_loss</th>\n",
              "      <th>test_acc</th>\n",
              "      <th>number_of_parameters</th>\n",
              "      <th>model_size (MB)</th>\n",
              "      <th>time_per_pred_cpu</th>\n",
              "      <th>model</th>\n",
              "    </tr>\n",
              "  </thead>\n",
              "  <tbody>\n",
              "    <tr>\n",
              "      <th>0</th>\n",
              "      <td>0.281087</td>\n",
              "      <td>96.25</td>\n",
              "      <td>7705221</td>\n",
              "      <td>29</td>\n",
              "      <td>0.1112</td>\n",
              "      <td>EffNetB2</td>\n",
              "    </tr>\n",
              "    <tr>\n",
              "      <th>1</th>\n",
              "      <td>0.064435</td>\n",
              "      <td>98.47</td>\n",
              "      <td>85800963</td>\n",
              "      <td>327</td>\n",
              "      <td>0.5809</td>\n",
              "      <td>ViT</td>\n",
              "    </tr>\n",
              "  </tbody>\n",
              "</table>\n",
              "</div>\n",
              "      <button class=\"colab-df-convert\" onclick=\"convertToInteractive('df-8c0f1529-59ce-4027-ba8b-19f3a4e277b9')\"\n",
              "              title=\"Convert this dataframe to an interactive table.\"\n",
              "              style=\"display:none;\">\n",
              "\n",
              "  <svg xmlns=\"http://www.w3.org/2000/svg\" height=\"24px\"viewBox=\"0 0 24 24\"\n",
              "       width=\"24px\">\n",
              "    <path d=\"M0 0h24v24H0V0z\" fill=\"none\"/>\n",
              "    <path d=\"M18.56 5.44l.94 2.06.94-2.06 2.06-.94-2.06-.94-.94-2.06-.94 2.06-2.06.94zm-11 1L8.5 8.5l.94-2.06 2.06-.94-2.06-.94L8.5 2.5l-.94 2.06-2.06.94zm10 10l.94 2.06.94-2.06 2.06-.94-2.06-.94-.94-2.06-.94 2.06-2.06.94z\"/><path d=\"M17.41 7.96l-1.37-1.37c-.4-.4-.92-.59-1.43-.59-.52 0-1.04.2-1.43.59L10.3 9.45l-7.72 7.72c-.78.78-.78 2.05 0 2.83L4 21.41c.39.39.9.59 1.41.59.51 0 1.02-.2 1.41-.59l7.78-7.78 2.81-2.81c.8-.78.8-2.07 0-2.86zM5.41 20L4 18.59l7.72-7.72 1.47 1.35L5.41 20z\"/>\n",
              "  </svg>\n",
              "      </button>\n",
              "\n",
              "\n",
              "\n",
              "    <div id=\"df-73714761-5b18-48c3-a558-e6a45e825b9e\">\n",
              "      <button class=\"colab-df-quickchart\" onclick=\"quickchart('df-73714761-5b18-48c3-a558-e6a45e825b9e')\"\n",
              "              title=\"Suggest charts.\"\n",
              "              style=\"display:none;\">\n",
              "\n",
              "<svg xmlns=\"http://www.w3.org/2000/svg\" height=\"24px\"viewBox=\"0 0 24 24\"\n",
              "     width=\"24px\">\n",
              "    <g>\n",
              "        <path d=\"M19 3H5c-1.1 0-2 .9-2 2v14c0 1.1.9 2 2 2h14c1.1 0 2-.9 2-2V5c0-1.1-.9-2-2-2zM9 17H7v-7h2v7zm4 0h-2V7h2v10zm4 0h-2v-4h2v4z\"/>\n",
              "    </g>\n",
              "</svg>\n",
              "      </button>\n",
              "    </div>\n",
              "\n",
              "<style>\n",
              "  .colab-df-quickchart {\n",
              "    background-color: #E8F0FE;\n",
              "    border: none;\n",
              "    border-radius: 50%;\n",
              "    cursor: pointer;\n",
              "    display: none;\n",
              "    fill: #1967D2;\n",
              "    height: 32px;\n",
              "    padding: 0 0 0 0;\n",
              "    width: 32px;\n",
              "  }\n",
              "\n",
              "  .colab-df-quickchart:hover {\n",
              "    background-color: #E2EBFA;\n",
              "    box-shadow: 0px 1px 2px rgba(60, 64, 67, 0.3), 0px 1px 3px 1px rgba(60, 64, 67, 0.15);\n",
              "    fill: #174EA6;\n",
              "  }\n",
              "\n",
              "  [theme=dark] .colab-df-quickchart {\n",
              "    background-color: #3B4455;\n",
              "    fill: #D2E3FC;\n",
              "  }\n",
              "\n",
              "  [theme=dark] .colab-df-quickchart:hover {\n",
              "    background-color: #434B5C;\n",
              "    box-shadow: 0px 1px 3px 1px rgba(0, 0, 0, 0.15);\n",
              "    filter: drop-shadow(0px 1px 2px rgba(0, 0, 0, 0.3));\n",
              "    fill: #FFFFFF;\n",
              "  }\n",
              "</style>\n",
              "\n",
              "    <script>\n",
              "      async function quickchart(key) {\n",
              "        const containerElement = document.querySelector('#' + key);\n",
              "        const charts = await google.colab.kernel.invokeFunction(\n",
              "            'suggestCharts', [key], {});\n",
              "      }\n",
              "    </script>\n",
              "\n",
              "      <script>\n",
              "\n",
              "function displayQuickchartButton(domScope) {\n",
              "  let quickchartButtonEl =\n",
              "    domScope.querySelector('#df-73714761-5b18-48c3-a558-e6a45e825b9e button.colab-df-quickchart');\n",
              "  quickchartButtonEl.style.display =\n",
              "    google.colab.kernel.accessAllowed ? 'block' : 'none';\n",
              "}\n",
              "\n",
              "        displayQuickchartButton(document);\n",
              "      </script>\n",
              "      <style>\n",
              "    .colab-df-container {\n",
              "      display:flex;\n",
              "      flex-wrap:wrap;\n",
              "      gap: 12px;\n",
              "    }\n",
              "\n",
              "    .colab-df-convert {\n",
              "      background-color: #E8F0FE;\n",
              "      border: none;\n",
              "      border-radius: 50%;\n",
              "      cursor: pointer;\n",
              "      display: none;\n",
              "      fill: #1967D2;\n",
              "      height: 32px;\n",
              "      padding: 0 0 0 0;\n",
              "      width: 32px;\n",
              "    }\n",
              "\n",
              "    .colab-df-convert:hover {\n",
              "      background-color: #E2EBFA;\n",
              "      box-shadow: 0px 1px 2px rgba(60, 64, 67, 0.3), 0px 1px 3px 1px rgba(60, 64, 67, 0.15);\n",
              "      fill: #174EA6;\n",
              "    }\n",
              "\n",
              "    [theme=dark] .colab-df-convert {\n",
              "      background-color: #3B4455;\n",
              "      fill: #D2E3FC;\n",
              "    }\n",
              "\n",
              "    [theme=dark] .colab-df-convert:hover {\n",
              "      background-color: #434B5C;\n",
              "      box-shadow: 0px 1px 3px 1px rgba(0, 0, 0, 0.15);\n",
              "      filter: drop-shadow(0px 1px 2px rgba(0, 0, 0, 0.3));\n",
              "      fill: #FFFFFF;\n",
              "    }\n",
              "  </style>\n",
              "\n",
              "      <script>\n",
              "        const buttonEl =\n",
              "          document.querySelector('#df-8c0f1529-59ce-4027-ba8b-19f3a4e277b9 button.colab-df-convert');\n",
              "        buttonEl.style.display =\n",
              "          google.colab.kernel.accessAllowed ? 'block' : 'none';\n",
              "\n",
              "        async function convertToInteractive(key) {\n",
              "          const element = document.querySelector('#df-8c0f1529-59ce-4027-ba8b-19f3a4e277b9');\n",
              "          const dataTable =\n",
              "            await google.colab.kernel.invokeFunction('convertToInteractive',\n",
              "                                                     [key], {});\n",
              "          if (!dataTable) return;\n",
              "\n",
              "          const docLinkHtml = 'Like what you see? Visit the ' +\n",
              "            '<a target=\"_blank\" href=https://colab.research.google.com/notebooks/data_table.ipynb>data table notebook</a>'\n",
              "            + ' to learn more about interactive tables.';\n",
              "          element.innerHTML = '';\n",
              "          dataTable['output_type'] = 'display_data';\n",
              "          await google.colab.output.renderOutput(dataTable, element);\n",
              "          const docLink = document.createElement('div');\n",
              "          docLink.innerHTML = docLinkHtml;\n",
              "          element.appendChild(docLink);\n",
              "        }\n",
              "      </script>\n",
              "    </div>\n",
              "  </div>\n"
            ],
            "text/plain": [
              "   test_loss  test_acc  number_of_parameters  model_size (MB)  \\\n",
              "0   0.281087     96.25               7705221               29   \n",
              "1   0.064435     98.47              85800963              327   \n",
              "\n",
              "   time_per_pred_cpu     model  \n",
              "0             0.1112  EffNetB2  \n",
              "1             0.5809       ViT  "
            ]
          },
          "execution_count": 45,
          "metadata": {},
          "output_type": "execute_result"
        }
      ],
      "source": [
        "# Turn stat dictionaries into DataFrame\n",
        "df = pd.DataFrame([effnetb2_stats, vit_stats])\n",
        "\n",
        "# Add column for model names\n",
        "df[\"model\"] = [\"EffNetB2\", \"ViT\"]\n",
        "\n",
        "# Convert accuracy to percentages\n",
        "df[\"test_acc\"] = round(df[\"test_acc\"] * 100, 2)\n",
        "\n",
        "df"
      ]
    },
    {
      "cell_type": "code",
      "execution_count": null,
      "metadata": {
        "colab": {
          "background_save": true
        },
        "id": "I7ffJym4-gxU",
        "outputId": "784915cf-7d04-4e80-bbcd-fd3aa2b0417c"
      },
      "outputs": [
        {
          "data": {
            "text/html": [
              "\n",
              "\n",
              "  <div id=\"df-44889936-6d0a-4ac4-ab15-f13f6e5d3341\">\n",
              "    <div class=\"colab-df-container\">\n",
              "      <div>\n",
              "<style scoped>\n",
              "    .dataframe tbody tr th:only-of-type {\n",
              "        vertical-align: middle;\n",
              "    }\n",
              "\n",
              "    .dataframe tbody tr th {\n",
              "        vertical-align: top;\n",
              "    }\n",
              "\n",
              "    .dataframe thead th {\n",
              "        text-align: right;\n",
              "    }\n",
              "</style>\n",
              "<table border=\"1\" class=\"dataframe\">\n",
              "  <thead>\n",
              "    <tr style=\"text-align: right;\">\n",
              "      <th></th>\n",
              "      <th>test_loss</th>\n",
              "      <th>test_acc</th>\n",
              "      <th>number_of_parameters</th>\n",
              "      <th>model_size (MB)</th>\n",
              "      <th>time_per_pred_cpu</th>\n",
              "    </tr>\n",
              "  </thead>\n",
              "  <tbody>\n",
              "    <tr>\n",
              "      <th>ViT to EffNetB2 ratios</th>\n",
              "      <td>0.229234</td>\n",
              "      <td>1.023065</td>\n",
              "      <td>11.135432</td>\n",
              "      <td>11.275862</td>\n",
              "      <td>5.223921</td>\n",
              "    </tr>\n",
              "  </tbody>\n",
              "</table>\n",
              "</div>\n",
              "      <button class=\"colab-df-convert\" onclick=\"convertToInteractive('df-44889936-6d0a-4ac4-ab15-f13f6e5d3341')\"\n",
              "              title=\"Convert this dataframe to an interactive table.\"\n",
              "              style=\"display:none;\">\n",
              "\n",
              "  <svg xmlns=\"http://www.w3.org/2000/svg\" height=\"24px\"viewBox=\"0 0 24 24\"\n",
              "       width=\"24px\">\n",
              "    <path d=\"M0 0h24v24H0V0z\" fill=\"none\"/>\n",
              "    <path d=\"M18.56 5.44l.94 2.06.94-2.06 2.06-.94-2.06-.94-.94-2.06-.94 2.06-2.06.94zm-11 1L8.5 8.5l.94-2.06 2.06-.94-2.06-.94L8.5 2.5l-.94 2.06-2.06.94zm10 10l.94 2.06.94-2.06 2.06-.94-2.06-.94-.94-2.06-.94 2.06-2.06.94z\"/><path d=\"M17.41 7.96l-1.37-1.37c-.4-.4-.92-.59-1.43-.59-.52 0-1.04.2-1.43.59L10.3 9.45l-7.72 7.72c-.78.78-.78 2.05 0 2.83L4 21.41c.39.39.9.59 1.41.59.51 0 1.02-.2 1.41-.59l7.78-7.78 2.81-2.81c.8-.78.8-2.07 0-2.86zM5.41 20L4 18.59l7.72-7.72 1.47 1.35L5.41 20z\"/>\n",
              "  </svg>\n",
              "      </button>\n",
              "\n",
              "\n",
              "\n",
              "    <div id=\"df-1859a6b6-036d-472f-9cac-bb4399882153\">\n",
              "      <button class=\"colab-df-quickchart\" onclick=\"quickchart('df-1859a6b6-036d-472f-9cac-bb4399882153')\"\n",
              "              title=\"Suggest charts.\"\n",
              "              style=\"display:none;\">\n",
              "\n",
              "<svg xmlns=\"http://www.w3.org/2000/svg\" height=\"24px\"viewBox=\"0 0 24 24\"\n",
              "     width=\"24px\">\n",
              "    <g>\n",
              "        <path d=\"M19 3H5c-1.1 0-2 .9-2 2v14c0 1.1.9 2 2 2h14c1.1 0 2-.9 2-2V5c0-1.1-.9-2-2-2zM9 17H7v-7h2v7zm4 0h-2V7h2v10zm4 0h-2v-4h2v4z\"/>\n",
              "    </g>\n",
              "</svg>\n",
              "      </button>\n",
              "    </div>\n",
              "\n",
              "<style>\n",
              "  .colab-df-quickchart {\n",
              "    background-color: #E8F0FE;\n",
              "    border: none;\n",
              "    border-radius: 50%;\n",
              "    cursor: pointer;\n",
              "    display: none;\n",
              "    fill: #1967D2;\n",
              "    height: 32px;\n",
              "    padding: 0 0 0 0;\n",
              "    width: 32px;\n",
              "  }\n",
              "\n",
              "  .colab-df-quickchart:hover {\n",
              "    background-color: #E2EBFA;\n",
              "    box-shadow: 0px 1px 2px rgba(60, 64, 67, 0.3), 0px 1px 3px 1px rgba(60, 64, 67, 0.15);\n",
              "    fill: #174EA6;\n",
              "  }\n",
              "\n",
              "  [theme=dark] .colab-df-quickchart {\n",
              "    background-color: #3B4455;\n",
              "    fill: #D2E3FC;\n",
              "  }\n",
              "\n",
              "  [theme=dark] .colab-df-quickchart:hover {\n",
              "    background-color: #434B5C;\n",
              "    box-shadow: 0px 1px 3px 1px rgba(0, 0, 0, 0.15);\n",
              "    filter: drop-shadow(0px 1px 2px rgba(0, 0, 0, 0.3));\n",
              "    fill: #FFFFFF;\n",
              "  }\n",
              "</style>\n",
              "\n",
              "    <script>\n",
              "      async function quickchart(key) {\n",
              "        const containerElement = document.querySelector('#' + key);\n",
              "        const charts = await google.colab.kernel.invokeFunction(\n",
              "            'suggestCharts', [key], {});\n",
              "      }\n",
              "    </script>\n",
              "\n",
              "      <script>\n",
              "\n",
              "function displayQuickchartButton(domScope) {\n",
              "  let quickchartButtonEl =\n",
              "    domScope.querySelector('#df-1859a6b6-036d-472f-9cac-bb4399882153 button.colab-df-quickchart');\n",
              "  quickchartButtonEl.style.display =\n",
              "    google.colab.kernel.accessAllowed ? 'block' : 'none';\n",
              "}\n",
              "\n",
              "        displayQuickchartButton(document);\n",
              "      </script>\n",
              "      <style>\n",
              "    .colab-df-container {\n",
              "      display:flex;\n",
              "      flex-wrap:wrap;\n",
              "      gap: 12px;\n",
              "    }\n",
              "\n",
              "    .colab-df-convert {\n",
              "      background-color: #E8F0FE;\n",
              "      border: none;\n",
              "      border-radius: 50%;\n",
              "      cursor: pointer;\n",
              "      display: none;\n",
              "      fill: #1967D2;\n",
              "      height: 32px;\n",
              "      padding: 0 0 0 0;\n",
              "      width: 32px;\n",
              "    }\n",
              "\n",
              "    .colab-df-convert:hover {\n",
              "      background-color: #E2EBFA;\n",
              "      box-shadow: 0px 1px 2px rgba(60, 64, 67, 0.3), 0px 1px 3px 1px rgba(60, 64, 67, 0.15);\n",
              "      fill: #174EA6;\n",
              "    }\n",
              "\n",
              "    [theme=dark] .colab-df-convert {\n",
              "      background-color: #3B4455;\n",
              "      fill: #D2E3FC;\n",
              "    }\n",
              "\n",
              "    [theme=dark] .colab-df-convert:hover {\n",
              "      background-color: #434B5C;\n",
              "      box-shadow: 0px 1px 3px 1px rgba(0, 0, 0, 0.15);\n",
              "      filter: drop-shadow(0px 1px 2px rgba(0, 0, 0, 0.3));\n",
              "      fill: #FFFFFF;\n",
              "    }\n",
              "  </style>\n",
              "\n",
              "      <script>\n",
              "        const buttonEl =\n",
              "          document.querySelector('#df-44889936-6d0a-4ac4-ab15-f13f6e5d3341 button.colab-df-convert');\n",
              "        buttonEl.style.display =\n",
              "          google.colab.kernel.accessAllowed ? 'block' : 'none';\n",
              "\n",
              "        async function convertToInteractive(key) {\n",
              "          const element = document.querySelector('#df-44889936-6d0a-4ac4-ab15-f13f6e5d3341');\n",
              "          const dataTable =\n",
              "            await google.colab.kernel.invokeFunction('convertToInteractive',\n",
              "                                                     [key], {});\n",
              "          if (!dataTable) return;\n",
              "\n",
              "          const docLinkHtml = 'Like what you see? Visit the ' +\n",
              "            '<a target=\"_blank\" href=https://colab.research.google.com/notebooks/data_table.ipynb>data table notebook</a>'\n",
              "            + ' to learn more about interactive tables.';\n",
              "          element.innerHTML = '';\n",
              "          dataTable['output_type'] = 'display_data';\n",
              "          await google.colab.output.renderOutput(dataTable, element);\n",
              "          const docLink = document.createElement('div');\n",
              "          docLink.innerHTML = docLinkHtml;\n",
              "          element.appendChild(docLink);\n",
              "        }\n",
              "      </script>\n",
              "    </div>\n",
              "  </div>\n"
            ],
            "text/plain": [
              "                        test_loss  test_acc  number_of_parameters  \\\n",
              "ViT to EffNetB2 ratios   0.229234  1.023065             11.135432   \n",
              "\n",
              "                        model_size (MB)  time_per_pred_cpu  \n",
              "ViT to EffNetB2 ratios        11.275862           5.223921  "
            ]
          },
          "execution_count": 46,
          "metadata": {},
          "output_type": "execute_result"
        }
      ],
      "source": [
        "pd.DataFrame(data=(df.set_index(\"model\").loc[\"ViT\"] / df.set_index(\"model\").loc[\"EffNetB2\"]),\n",
        "             columns=[\"ViT to EffNetB2 ratios\"]).T"
      ]
    },
    {
      "cell_type": "code",
      "execution_count": null,
      "metadata": {
        "colab": {
          "background_save": true
        },
        "id": "M0gDYMsx-pcq",
        "outputId": "e8e66ab2-10c2-478a-8ed8-0eb53aa6ff89"
      },
      "outputs": [
        {
          "data": {
            "image/png": "[encoded data removed]",
            "text/plain": [
              "<Figure size 1200x800 with 1 Axes>"
            ]
          },
          "metadata": {},
          "output_type": "display_data"
        }
      ],
      "source": [
        "import os\n",
        "\n",
        "# 1. Create a plot from model comparison DataFrame\n",
        "fig, ax = plt.subplots(figsize=(12, 8))\n",
        "scatter = ax.scatter(data=df,\n",
        "                     x=\"time_per_pred_cpu\",\n",
        "                     y=\"test_acc\",\n",
        "                     c=[\"blue\", \"orange\"], # what colours to use?\n",
        "                     s=\"model_size (MB)\") # size the dots by the model sizes\n",
        "\n",
        "# 2. Add titles, labels and customize fontsize for aesthetics\n",
        "ax.set_title(\"FoodVision Mini Inference Speed vs Performance\", fontsize=18)\n",
        "ax.set_xlabel(\"Prediction time per image (seconds)\", fontsize=14)\n",
        "ax.set_ylabel(\"Test accuracy (%)\", fontsize=14)\n",
        "ax.tick_params(axis='both', labelsize=12)\n",
        "ax.grid(True)\n",
        "\n",
        "# 3. Annotate with model names\n",
        "for index, row in df.iterrows():\n",
        "    ax.annotate(text=row[\"model\"], # note: depending on your version of Matplotlib, you may need to use \"s=...\" or \"text=...\", see: https://github.com/faustomorales/keras-ocr/issues/183#issuecomment-977733270\n",
        "                xy=(row[\"time_per_pred_cpu\"]+0.0006, row[\"test_acc\"]+0.03),\n",
        "                size=12)\n",
        "\n",
        "# 4. Create a legend based on model sizes\n",
        "handles, labels = scatter.legend_elements(prop=\"sizes\", alpha=0.5)\n",
        "model_size_legend = ax.legend(handles,\n",
        "                              labels,\n",
        "                              loc=\"lower right\",\n",
        "                              title=\"Model size (MB)\",\n",
        "                              fontsize=12)\n",
        "\n",
        "# Create folder images\n",
        "os.mkdir(\"images\")\n",
        "\n",
        "# Save the figure\n",
        "plt.savefig(\"images/09-foodvision-mini-inference-speed-vs-performance.jpg\")\n",
        "\n",
        "# Show the figure\n",
        "plt.show()"
      ]
    },
    {
      "cell_type": "code",
      "execution_count": null,
      "metadata": {
        "colab": {
          "background_save": true
        },
        "id": "u-iK_HLo-2I9",
        "outputId": "ac7c657e-d203-4984-8f4d-5bac4c2365d1"
      },
      "outputs": [
        {
          "name": "stdout",
          "output_type": "stream",
          "text": [
            "\u001b[2K     \u001b[90m━━━━━━━━━━━━━━━━━━━━━━━━━━━━━━━━━━━━━━━━\u001b[0m \u001b[32m20.0/20.0 MB\u001b[0m \u001b[31m45.6 MB/s\u001b[0m eta \u001b[36m0:00:00\u001b[0m\n",
            "\u001b[2K     \u001b[90m━━━━━━━━━━━━━━━━━━━━━━━━━━━━━━━━━━━━━━━━\u001b[0m \u001b[32m65.7/65.7 kB\u001b[0m \u001b[31m8.5 MB/s\u001b[0m eta \u001b[36m0:00:00\u001b[0m\n",
            "\u001b[?25h  Preparing metadata (setup.py) ... \u001b[?25l\u001b[?25hdone\n",
            "\u001b[2K     \u001b[90m━━━━━━━━━━━━━━━━━━━━━━━━━━━━━━━━━━━━━━\u001b[0m \u001b[32m297.4/297.4 kB\u001b[0m \u001b[31m29.1 MB/s\u001b[0m eta \u001b[36m0:00:00\u001b[0m\n",
            "\u001b[2K     \u001b[90m━━━━━━━━━━━━━━━━━━━━━━━━━━━━━━━━━━━━━━━━\u001b[0m \u001b[32m75.4/75.4 kB\u001b[0m \u001b[31m10.2 MB/s\u001b[0m eta \u001b[36m0:00:00\u001b[0m\n",
            "\u001b[2K     \u001b[90m━━━━━━━━━━━━━━━━━━━━━━━━━━━━━━━━━━━━━━\u001b[0m \u001b[32m268.8/268.8 kB\u001b[0m \u001b[31m26.9 MB/s\u001b[0m eta \u001b[36m0:00:00\u001b[0m\n",
            "\u001b[2K     \u001b[90m━━━━━━━━━━━━━━━━━━━━━━━━━━━━━━━━━━━━━━━━\u001b[0m \u001b[32m50.5/50.5 kB\u001b[0m \u001b[31m6.4 MB/s\u001b[0m eta \u001b[36m0:00:00\u001b[0m\n",
            "\u001b[2K     \u001b[90m━━━━━━━━━━━━━━━━━━━━━━━━━━━━━━━━━━━━━━\u001b[0m \u001b[32m140.3/140.3 kB\u001b[0m \u001b[31m15.6 MB/s\u001b[0m eta \u001b[36m0:00:00\u001b[0m\n",
            "\u001b[2K     \u001b[90m━━━━━━━━━━━━━━━━━━━━━━━━━━━━━━━━━━━━━━━━\u001b[0m \u001b[32m45.7/45.7 kB\u001b[0m \u001b[31m5.7 MB/s\u001b[0m eta \u001b[36m0:00:00\u001b[0m\n",
            "\u001b[2K     \u001b[90m━━━━━━━━━━━━━━━━━━━━━━━━━━━━━━━━━━━━━━━━\u001b[0m \u001b[32m59.5/59.5 kB\u001b[0m \u001b[31m8.0 MB/s\u001b[0m eta \u001b[36m0:00:00\u001b[0m\n",
            "\u001b[2K     \u001b[90m━━━━━━━━━━━━━━━━━━━━━━━━━━━━━━━━━━━━━━\u001b[0m \u001b[32m129.9/129.9 kB\u001b[0m \u001b[31m13.5 MB/s\u001b[0m eta \u001b[36m0:00:00\u001b[0m\n",
            "\u001b[2K     \u001b[90m━━━━━━━━━━━━━━━━━━━━━━━━━━━━━━━━━━━━━━━━\u001b[0m \u001b[32m50.4/50.4 kB\u001b[0m \u001b[31m6.5 MB/s\u001b[0m eta \u001b[36m0:00:00\u001b[0m\n",
            "\u001b[2K     \u001b[90m━━━━━━━━━━━━━━━━━━━━━━━━━━━━━━━━━━━━━━━━\u001b[0m \u001b[32m46.5/46.5 kB\u001b[0m \u001b[31m6.0 MB/s\u001b[0m eta \u001b[36m0:00:00\u001b[0m\n",
            "\u001b[2K     \u001b[90m━━━━━━━━━━━━━━━━━━━━━━━━━━━━━━━━━━━━━━━━\u001b[0m \u001b[32m43.7/43.7 kB\u001b[0m \u001b[31m5.2 MB/s\u001b[0m eta \u001b[36m0:00:00\u001b[0m\n",
            "\u001b[2K     \u001b[90m━━━━━━━━━━━━━━━━━━━━━━━━━━━━━━━━━━━━━━━━\u001b[0m \u001b[32m41.0/41.0 kB\u001b[0m \u001b[31m5.4 MB/s\u001b[0m eta \u001b[36m0:00:00\u001b[0m\n",
            "\u001b[2K     \u001b[90m━━━━━━━━━━━━━━━━━━━━━━━━━━━━━━━━━━━━━━━━\u001b[0m \u001b[32m41.0/41.0 kB\u001b[0m \u001b[31m4.8 MB/s\u001b[0m eta \u001b[36m0:00:00\u001b[0m\n",
            "\u001b[2K     \u001b[90m━━━━━━━━━━━━━━━━━━━━━━━━━━━━━━━━━━━━━━━━\u001b[0m \u001b[32m87.5/87.5 kB\u001b[0m \u001b[31m12.6 MB/s\u001b[0m eta \u001b[36m0:00:00\u001b[0m\n",
            "\u001b[2K     \u001b[90m━━━━━━━━━━━━━━━━━━━━━━━━━━━━━━━━━━━━━━━━\u001b[0m \u001b[32m84.5/84.5 kB\u001b[0m \u001b[31m10.9 MB/s\u001b[0m eta \u001b[36m0:00:00\u001b[0m\n",
            "\u001b[2K     \u001b[90m━━━━━━━━━━━━━━━━━━━━━━━━━━━━━━━━━━━━━━━━\u001b[0m \u001b[32m58.3/58.3 kB\u001b[0m \u001b[31m8.1 MB/s\u001b[0m eta \u001b[36m0:00:00\u001b[0m\n",
            "\u001b[2K     \u001b[90m━━━━━━━━━━━━━━━━━━━━━━━━━━━━━━━━━━━━━━━━\u001b[0m \u001b[32m67.0/67.0 kB\u001b[0m \u001b[31m8.1 MB/s\u001b[0m eta \u001b[36m0:00:00\u001b[0m\n",
            "\u001b[2K     \u001b[90m━━━━━━━━━━━━━━━━━━━━━━━━━━━━━━━━━━━━━━━━\u001b[0m \u001b[32m74.5/74.5 kB\u001b[0m \u001b[31m6.8 MB/s\u001b[0m eta \u001b[36m0:00:00\u001b[0m\n",
            "\u001b[?25h  Building wheel for ffmpy (setup.py) ... \u001b[?25l\u001b[?25hdone\n",
            "Gradio version: 3.40.1\n"
          ]
        }
      ],
      "source": [
        "try:\n",
        "    import gradio as gr\n",
        "except:\n",
        "    !pip -q install gradio\n",
        "    import gradio as gr\n",
        "\n",
        "print(f\"Gradio version: {gr.__version__}\")"
      ]
    },
    {
      "cell_type": "code",
      "execution_count": null,
      "metadata": {
        "colab": {
          "background_save": true
        },
        "id": "gkdY4zpJC9gX",
        "outputId": "9bd30b35-305e-49a6-f5cf-935fc1e7f892"
      },
      "outputs": [
        {
          "data": {
            "text/plain": [
              "device(type='cpu')"
            ]
          },
          "execution_count": 49,
          "metadata": {},
          "output_type": "execute_result"
        }
      ],
      "source": [
        "# Put EffNetB2 on CPU\n",
        "effnetb2.to(\"cpu\")\n",
        "\n",
        "# Check the device\n",
        "next(iter(effnetb2.parameters())).device"
      ]
    },
    {
      "cell_type": "code",
      "execution_count": null,
      "metadata": {
        "colab": {
          "background_save": true
        },
        "id": "e47buWTtDMJ2"
      },
      "outputs": [],
      "source": [
        "from typing import Tuple, Dict\n",
        "\n",
        "def predict(img) -> Tuple[Dict, float]:\n",
        "    \"\"\"Transforms and performs a prediction on img and returns prediction and time taken.\n",
        "    \"\"\"\n",
        "    # Start the timer\n",
        "    start_time = timer()\n",
        "\n",
        "    # Transform the target image and add a batch dimension\n",
        "    img = effnetb2_transforms(img).unsqueeze(0)\n",
        "\n",
        "    # Put model into evaluation mode and turn on inference mode\n",
        "    effnetb2.eval()\n",
        "    with torch.inference_mode():\n",
        "        # Pass the transformed image through the model and turn the prediction logits into prediction probabilities\n",
        "        pred_probs = torch.softmax(effnetb2(img), dim=1)\n",
        "\n",
        "    # Create a prediction label and prediction probability dictionary for each prediction class (this is the required format for Gradio's output parameter)\n",
        "    pred_labels_and_probs = {class_names[i]: float(pred_probs[0][i]) for i in range(len(class_names))}\n",
        "\n",
        "    # Calculate the prediction time\n",
        "    pred_time = round(timer() - start_time, 5)\n",
        "\n",
        "    # Return the prediction dictionary and prediction time\n",
        "    return pred_labels_and_probs, pred_time"
      ]
    },
    {
      "cell_type": "code",
      "execution_count": null,
      "metadata": {
        "colab": {
          "background_save": true
        },
        "id": "mNfGFcQaDRg_",
        "outputId": "28ee7262-7f71-417e-a628-059c20e7ff62"
      },
      "outputs": [
        {
          "name": "stdout",
          "output_type": "stream",
          "text": [
            "[INFO] Predicting on image at path: data/pizza_steak_sushi_20_percent/test/sushi/911808.jpg\n",
            "\n",
            "Prediction label and probability dictionary: \n",
            "{'pizza': 0.12163697183132172, 'steak': 0.11349623650312424, 'sushi': 0.764866828918457}\n",
            "Prediction time: 0.10425 seconds\n"
          ]
        }
      ],
      "source": [
        "import random\n",
        "from PIL import Image\n",
        "\n",
        "# Get a list of all test image filepaths\n",
        "test_data_paths = list(Path(test_dir).glob(\"*/*.jpg\"))\n",
        "\n",
        "# Randomly select a test image path\n",
        "random_image_path = random.sample(test_data_paths, k=1)[0]\n",
        "\n",
        "# Open the target image\n",
        "image = Image.open(random_image_path)\n",
        "print(f\"[INFO] Predicting on image at path: {random_image_path}\\n\")\n",
        "\n",
        "# Predict on the target image and print out the outputs\n",
        "pred_dict, pred_time = predict(img=image)\n",
        "print(f\"Prediction label and probability dictionary: \\n{pred_dict}\")\n",
        "print(f\"Prediction time: {pred_time} seconds\")"
      ]
    },
    {
      "cell_type": "code",
      "execution_count": null,
      "metadata": {
        "colab": {
          "background_save": true
        },
        "id": "gLqoTie3DWOW",
        "outputId": "e23cd840-925d-40d7-dd92-62eb9be018f3"
      },
      "outputs": [
        {
          "data": {
            "text/plain": [
              "[['data/pizza_steak_sushi_20_percent/test/sushi/2903125.jpg'],\n",
              " ['data/pizza_steak_sushi_20_percent/test/steak/3138001.jpg'],\n",
              " ['data/pizza_steak_sushi_20_percent/test/pizza/3375083.jpg']]"
            ]
          },
          "execution_count": 52,
          "metadata": {},
          "output_type": "execute_result"
        }
      ],
      "source": [
        "example_list = [[str(filepath)] for filepath in random.sample(test_data_paths, k=3)]\n",
        "example_list\n"
      ]
    },
    {
      "cell_type": "code",
      "execution_count": null,
      "metadata": {
        "colab": {
          "background_save": true
        },
        "id": "l9mdmRXPDYCO",
        "outputId": "6b4e72df-db3b-4478-a153-f9e2e838341f"
      },
      "outputs": [
        {
          "name": "stdout",
          "output_type": "stream",
          "text": [
            "Colab notebook detected. To show errors in colab notebook, set debug=True in launch()\n",
            "Running on public URL: https://eedf2286afd1bc48e7.gradio.live\n",
            "\n",
            "This share link expires in 72 hours. For free permanent hosting and GPU upgrades, run `gradio deploy` from Terminal to deploy to Spaces (https://huggingface.co/spaces)\n"
          ]
        },
        {
          "data": {
            "text/html": [
              "<div><iframe src=\"https://eedf2286afd1bc48e7.gradio.live\" width=\"100%\" height=\"500\" allow=\"autoplay; camera; microphone; clipboard-read; clipboard-write;\" frameborder=\"0\" allowfullscreen></iframe></div>"
            ],
            "text/plain": [
              "<IPython.core.display.HTML object>"
            ]
          },
          "metadata": {},
          "output_type": "display_data"
        },
        {
          "data": {
            "text/plain": []
          },
          "execution_count": 53,
          "metadata": {},
          "output_type": "execute_result"
        }
      ],
      "source": [
        "import gradio as gr\n",
        "\n",
        "# Create title, description and article strings\n",
        "title = \"FoodVision Mini 🍕🥩🍣\"\n",
        "description = \"An EfficientNetB2 feature extractor computer vision model to classify images of food as pizza, steak or sushi.\"\n",
        "article = \"Created at [09. PyTorch Model Deployment](https://www.learnpytorch.io/09_pytorch_model_deployment/).\"\n",
        "\n",
        "# Create the Gradio demo\n",
        "demo = gr.Interface(fn=predict, # mapping function from input to output\n",
        "                    inputs=gr.Image(type=\"pil\"), # what are the inputs?\n",
        "                    outputs=[gr.Label(num_top_classes=3, label=\"Predictions\"), # what are the outputs?\n",
        "                             gr.Number(label=\"Prediction time (s)\")], # our fn has two outputs, therefore we have two outputs\n",
        "                    examples=example_list,\n",
        "                    title=title,\n",
        "                    description=description,\n",
        "                    article=article)\n",
        "\n",
        "# Launch the demo!\n",
        "demo.launch(debug=False, # print errors locally?\n",
        "            share=True) # generate a publically shareable URL?"
      ]
    },
    {
      "cell_type": "code",
      "execution_count": null,
      "metadata": {
        "colab": {
          "background_save": true
        },
        "id": "c5P1VFvSDd8-"
      },
      "outputs": [],
      "source": [
        "import shutil\n",
        "from pathlib import Path\n",
        "\n",
        "# Create FoodVision mini demo path\n",
        "foodvision_mini_demo_path = Path(\"demos/foodvision_mini/\")\n",
        "\n",
        "# Remove files that might already exist there and create new directory\n",
        "if foodvision_mini_demo_path.exists():\n",
        "    shutil.rmtree(foodvision_mini_demo_path)\n",
        "    foodvision_mini_demo_path.mkdir(parents=True, # make the parent folders?\n",
        "                                    exist_ok=True) # create it even if it already exists?\n",
        "else:\n",
        "    # If the file doesn't exist, create it anyway\n",
        "    foodvision_mini_demo_path.mkdir(parents=True,\n",
        "                                    exist_ok=True)\n",
        "\n",
        "# Check what's in the folder\n",
        "!ls demos/foodvision_mini/"
      ]
    },
    {
      "cell_type": "code",
      "execution_count": null,
      "metadata": {
        "colab": {
          "background_save": true
        },
        "id": "jnu59TD6EO6O",
        "outputId": "1ecf40b9-00d2-4724-e9d9-fd1edb86bda0"
      },
      "outputs": [
        {
          "name": "stdout",
          "output_type": "stream",
          "text": [
            "[INFO] Copying data/pizza_steak_sushi_20_percent/test/sushi/592799.jpg to demos/foodvision_mini/examples/592799.jpg\n",
            "[INFO] Copying data/pizza_steak_sushi_20_percent/test/steak/3622237.jpg to demos/foodvision_mini/examples/3622237.jpg\n",
            "[INFO] Copying data/pizza_steak_sushi_20_percent/test/pizza/2582289.jpg to demos/foodvision_mini/examples/2582289.jpg\n"
          ]
        }
      ],
      "source": [
        "import shutil\n",
        "from pathlib import Path\n",
        "\n",
        "# 1. Create an examples directory\n",
        "foodvision_mini_examples_path = foodvision_mini_demo_path / \"examples\"\n",
        "foodvision_mini_examples_path.mkdir(parents=True, exist_ok=True)\n",
        "\n",
        "# 2. Collect three random test dataset image paths\n",
        "foodvision_mini_examples = [Path('data/pizza_steak_sushi_20_percent/test/sushi/592799.jpg'),\n",
        "                            Path('data/pizza_steak_sushi_20_percent/test/steak/3622237.jpg'),\n",
        "                            Path('data/pizza_steak_sushi_20_percent/test/pizza/2582289.jpg')]\n",
        "\n",
        "# 3. Copy the three random images to the examples directory\n",
        "for example in foodvision_mini_examples:\n",
        "    destination = foodvision_mini_examples_path / example.name\n",
        "    print(f\"[INFO] Copying {example} to {destination}\")\n",
        "    shutil.copy2(src=example, dst=destination)"
      ]
    },
    {
      "cell_type": "code",
      "execution_count": null,
      "metadata": {
        "colab": {
          "background_save": true
        },
        "id": "aiyTNH_qERS-",
        "outputId": "2165524a-96e6-4af4-bd8b-76c81cc6e7af"
      },
      "outputs": [
        {
          "data": {
            "text/plain": [
              "[['examples/592799.jpg'], ['examples/2582289.jpg'], ['examples/3622237.jpg']]"
            ]
          },
          "execution_count": 56,
          "metadata": {},
          "output_type": "execute_result"
        }
      ],
      "source": [
        "example_list = [[\"examples/\" + example] for example in os.listdir(foodvision_mini_examples_path)]\n",
        "example_list"
      ]
    },
    {
      "cell_type": "code",
      "execution_count": null,
      "metadata": {
        "colab": {
          "background_save": true
        },
        "id": "fW344aY9EUnO",
        "outputId": "f87056f5-b29f-47a2-df3e-2bb622e97111"
      },
      "outputs": [
        {
          "name": "stdout",
          "output_type": "stream",
          "text": [
            "[INFO] Attempting to move models/09_pretrained_effnetb2_feature_extractor_pizza_steak_sushi_20_percent.pth to demos/foodvision_mini/09_pretrained_effnetb2_feature_extractor_pizza_steak_sushi_20_percent.pth\n",
            "[INFO] Model move complete.\n"
          ]
        }
      ],
      "source": [
        "import shutil\n",
        "\n",
        "# Create a source path for our target model\n",
        "effnetb2_foodvision_mini_model_path = \"models/09_pretrained_effnetb2_feature_extractor_pizza_steak_sushi_20_percent.pth\"\n",
        "\n",
        "# Create a destination path for our target model\n",
        "effnetb2_foodvision_mini_model_destination = foodvision_mini_demo_path / effnetb2_foodvision_mini_model_path.split(\"/\")[1]\n",
        "\n",
        "# Try to move the file\n",
        "try:\n",
        "    print(f\"[INFO] Attempting to move {effnetb2_foodvision_mini_model_path} to {effnetb2_foodvision_mini_model_destination}\")\n",
        "\n",
        "    # Move the model\n",
        "    shutil.move(src=effnetb2_foodvision_mini_model_path,\n",
        "                dst=effnetb2_foodvision_mini_model_destination)\n",
        "\n",
        "    print(f\"[INFO] Model move complete.\")\n",
        "\n",
        "# If the model has already been moved, check if it exists\n",
        "except:\n",
        "    print(f\"[INFO] No model found at {effnetb2_foodvision_mini_model_path}, perhaps its already been moved?\")\n",
        "    print(f\"[INFO] Model exists at {effnetb2_foodvision_mini_model_destination}: {effnetb2_foodvision_mini_model_destination.exists()}\")"
      ]
    },
    {
      "cell_type": "code",
      "execution_count": null,
      "metadata": {
        "colab": {
          "background_save": true
        },
        "id": "61OvJfp6EbAm",
        "outputId": "6358a33f-4f06-42f5-b5fb-fe34d6aa317b"
      },
      "outputs": [
        {
          "name": "stdout",
          "output_type": "stream",
          "text": [
            "Writing demos/foodvision_mini/model.py\n"
          ]
        }
      ],
      "source": [
        "%%writefile demos/foodvision_mini/model.py\n",
        "import torch\n",
        "import torchvision\n",
        "\n",
        "from torch import nn\n",
        "\n",
        "\n",
        "def create_effnetb2_model(num_classes:int=3,\n",
        "                          seed:int=42):\n",
        "    \"\"\"Creates an EfficientNetB2 feature extractor model and transforms.\n",
        "\n",
        "    Args:\n",
        "        num_classes (int, optional): number of classes in the classifier head.\n",
        "            Defaults to 3.\n",
        "        seed (int, optional): random seed value. Defaults to 42.\n",
        "\n",
        "    Returns:\n",
        "        model (torch.nn.Module): EffNetB2 feature extractor model.\n",
        "        transforms (torchvision.transforms): EffNetB2 image transforms.\n",
        "    \"\"\"\n",
        "    # Create EffNetB2 pretrained weights, transforms and model\n",
        "    weights = torchvision.models.EfficientNet_B2_Weights.DEFAULT\n",
        "    transforms = weights.transforms()\n",
        "    model = torchvision.models.efficientnet_b2(weights=weights)\n",
        "\n",
        "    # Freeze all layers in base model\n",
        "    for param in model.parameters():\n",
        "        param.requires_grad = False\n",
        "\n",
        "    # Change classifier head with random seed for reproducibility\n",
        "    torch.manual_seed(seed)\n",
        "    model.classifier = nn.Sequential(\n",
        "        nn.Dropout(p=0.3, inplace=True),\n",
        "        nn.Linear(in_features=1408, out_features=num_classes),\n",
        "    )\n",
        "\n",
        "    return model, transforms"
      ]
    },
    {
      "cell_type": "code",
      "execution_count": null,
      "metadata": {
        "colab": {
          "background_save": true
        },
        "id": "G316mjiIEfAE",
        "outputId": "e6b933ab-f467-42a1-8d03-acdbeb4bf9bb"
      },
      "outputs": [
        {
          "name": "stdout",
          "output_type": "stream",
          "text": [
            "Writing demos/foodvision_mini/app.py\n"
          ]
        }
      ],
      "source": [
        "%%writefile demos/foodvision_mini/app.py\n",
        "### 1. Imports and class names setup ###\n",
        "import gradio as gr\n",
        "import os\n",
        "import torch\n",
        "\n",
        "from model import create_effnetb2_model\n",
        "from timeit import default_timer as timer\n",
        "from typing import Tuple, Dict\n",
        "\n",
        "# Setup class names\n",
        "class_names = [\"pizza\", \"steak\", \"sushi\"]\n",
        "\n",
        "### 2. Model and transforms preparation ###\n",
        "\n",
        "# Create EffNetB2 model\n",
        "effnetb2, effnetb2_transforms = create_effnetb2_model(\n",
        "    num_classes=3, # len(class_names) would also work\n",
        ")\n",
        "\n",
        "# Load saved weights\n",
        "effnetb2.load_state_dict(\n",
        "    torch.load(\n",
        "        f=\"09_pretrained_effnetb2_feature_extractor_pizza_steak_sushi_20_percent.pth\",\n",
        "        map_location=torch.device(\"cpu\"),  # load to CPU\n",
        "    )\n",
        ")\n",
        "\n",
        "### 3. Predict function ###\n",
        "\n",
        "# Create predict function\n",
        "def predict(img) -> Tuple[Dict, float]:\n",
        "    \"\"\"Transforms and performs a prediction on img and returns prediction and time taken.\n",
        "    \"\"\"\n",
        "    # Start the timer\n",
        "    start_time = timer()\n",
        "\n",
        "    # Transform the target image and add a batch dimension\n",
        "    img = effnetb2_transforms(img).unsqueeze(0)\n",
        "\n",
        "    # Put model into evaluation mode and turn on inference mode\n",
        "    effnetb2.eval()\n",
        "    with torch.inference_mode():\n",
        "        # Pass the transformed image through the model and turn the prediction logits into prediction probabilities\n",
        "        pred_probs = torch.softmax(effnetb2(img), dim=1)\n",
        "\n",
        "    # Create a prediction label and prediction probability dictionary for each prediction class (this is the required format for Gradio's output parameter)\n",
        "    pred_labels_and_probs = {class_names[i]: float(pred_probs[0][i]) for i in range(len(class_names))}\n",
        "\n",
        "    # Calculate the prediction time\n",
        "    pred_time = round(timer() - start_time, 5)\n",
        "\n",
        "    # Return the prediction dictionary and prediction time\n",
        "    return pred_labels_and_probs, pred_time\n",
        "\n",
        "### 4. Gradio app ###\n",
        "\n",
        "# Create title, description and article strings\n",
        "title = \"FoodVision Mini 🍕🥩🍣\"\n",
        "description = \"An EfficientNetB2 feature extractor computer vision model to classify images of food as pizza, steak or sushi.\"\n",
        "article = \"Created at [09. PyTorch Model Deployment](https://www.learnpytorch.io/09_pytorch_model_deployment/).\"\n",
        "\n",
        "# Create examples list from \"examples/\" directory\n",
        "example_list = [[\"examples/\" + example] for example in os.listdir(\"examples\")]\n",
        "\n",
        "# Create the Gradio demo\n",
        "demo = gr.Interface(fn=predict, # mapping function from input to output\n",
        "                    inputs=gr.Image(type=\"pil\"), # what are the inputs?\n",
        "                    outputs=[gr.Label(num_top_classes=3, label=\"Predictions\"), # what are the outputs?\n",
        "                             gr.Number(label=\"Prediction time (s)\")], # our fn has two outputs, therefore we have two outputs\n",
        "                    # Create examples list from \"examples/\" directory\n",
        "                    examples=example_list,\n",
        "                    title=title,\n",
        "                    description=description,\n",
        "                    article=article)\n",
        "\n",
        "# Launch the demo!\n",
        "demo.launch()"
      ]
    },
    {
      "cell_type": "code",
      "execution_count": null,
      "metadata": {
        "colab": {
          "background_save": true
        },
        "id": "otTuk-SVEmuT",
        "outputId": "50491a18-94f8-4d6e-ccef-5f9061c2906b"
      },
      "outputs": [
        {
          "name": "stdout",
          "output_type": "stream",
          "text": [
            "Writing demos/foodvision_mini/requirements.txt\n"
          ]
        }
      ],
      "source": [
        "%%writefile demos/foodvision_mini/requirements.txt\n",
        "torch==1.12.0\n",
        "torchvision==0.13.0\n",
        "gradio==3.1.4"
      ]
    },
    {
      "cell_type": "code",
      "execution_count": null,
      "metadata": {
        "colab": {
          "background_save": true
        },
        "id": "-gTJ21WiEpc8",
        "outputId": "b5f1516d-a7cc-432b-88d1-7ddc31712a34"
      },
      "outputs": [
        {
          "name": "stdout",
          "output_type": "stream",
          "text": [
            "09_pretrained_effnetb2_feature_extractor_pizza_steak_sushi_20_percent.pth\n",
            "app.py\n",
            "examples\n",
            "model.py\n",
            "requirements.txt\n"
          ]
        }
      ],
      "source": [
        "!ls demos/foodvision_mini"
      ]
    },
    {
      "cell_type": "code",
      "execution_count": null,
      "metadata": {
        "colab": {
          "background_save": true
        },
        "id": "vq51xRlFErPQ",
        "outputId": "ef20e9eb-85e7-46d5-8b4c-2e2d6cdc19c1"
      },
      "outputs": [
        {
          "name": "stdout",
          "output_type": "stream",
          "text": [
            "  adding: data/ (stored 0%)\n",
            "  adding: data/pizza_steak_sushi_20_percent/ (stored 0%)\n",
            "  adding: data/pizza_steak_sushi_20_percent/test/ (stored 0%)\n",
            "  adding: data/pizza_steak_sushi_20_percent/test/steak/ (stored 0%)\n",
            "  adding: data/pizza_steak_sushi_20_percent/test/steak/2069289.jpg (deflated 1%)\n",
            "  adding: data/pizza_steak_sushi_20_percent/test/steak/3497585.jpg (deflated 1%)\n",
            "  adding: data/pizza_steak_sushi_20_percent/test/steak/1285886.jpg (deflated 0%)\n",
            "  adding: data/pizza_steak_sushi_20_percent/test/steak/3553838.jpg (deflated 0%)\n",
            "  adding: data/pizza_steak_sushi_20_percent/test/steak/746921.jpg (deflated 0%)\n",
            "  adding: data/pizza_steak_sushi_20_percent/test/steak/831681.jpg (deflated 1%)\n",
            "  adding: data/pizza_steak_sushi_20_percent/test/steak/2365038.jpg (deflated 3%)\n",
            "  adding: data/pizza_steak_sushi_20_percent/test/steak/86782.jpg (deflated 0%)\n",
            "  adding: data/pizza_steak_sushi_20_percent/test/steak/3173402.jpg (deflated 1%)\n",
            "  adding: data/pizza_steak_sushi_20_percent/test/steak/100274.jpg (deflated 1%)\n",
            "  adding: data/pizza_steak_sushi_20_percent/test/steak/2716791.jpg (deflated 1%)\n",
            "  adding: data/pizza_steak_sushi_20_percent/test/steak/670345.jpg (deflated 0%)\n",
            "  adding: data/pizza_steak_sushi_20_percent/test/steak/219196.jpg (deflated 0%)\n",
            "  adding: data/pizza_steak_sushi_20_percent/test/steak/39461.jpg (deflated 0%)\n",
            "  adding: data/pizza_steak_sushi_20_percent/test/steak/1166047.jpg (deflated 1%)\n",
            "  adding: data/pizza_steak_sushi_20_percent/test/steak/1902895.jpg (deflated 1%)\n",
            "  adding: data/pizza_steak_sushi_20_percent/test/steak/413497.jpg (deflated 0%)\n",
            "  adding: data/pizza_steak_sushi_20_percent/test/steak/1302563.jpg (deflated 1%)\n",
            "  adding: data/pizza_steak_sushi_20_percent/test/steak/552171.jpg (deflated 11%)\n",
            "  adding: data/pizza_steak_sushi_20_percent/test/steak/2756200.jpg (deflated 1%)\n",
            "  adding: data/pizza_steak_sushi_20_percent/test/steak/3100563.jpg (deflated 0%)\n",
            "  adding: data/pizza_steak_sushi_20_percent/test/steak/3479599.jpg (deflated 1%)\n",
            "  adding: data/pizza_steak_sushi_20_percent/test/steak/730464.jpg (deflated 0%)\n",
            "  adding: data/pizza_steak_sushi_20_percent/test/steak/1335842.jpg (deflated 0%)\n",
            "  adding: data/pizza_steak_sushi_20_percent/test/steak/1982192.jpg (deflated 0%)\n",
            "  adding: data/pizza_steak_sushi_20_percent/test/steak/864661.jpg (deflated 1%)\n",
            "  adding: data/pizza_steak_sushi_20_percent/test/steak/289822.jpg (deflated 0%)\n",
            "  adding: data/pizza_steak_sushi_20_percent/test/steak/367422.jpg (deflated 0%)\n",
            "  adding: data/pizza_steak_sushi_20_percent/test/steak/1882831.jpg (deflated 0%)\n",
            "  adding: data/pizza_steak_sushi_20_percent/test/steak/2353677.jpg (deflated 0%)\n",
            "  adding: data/pizza_steak_sushi_20_percent/test/steak/595836.jpg (deflated 1%)\n",
            "  adding: data/pizza_steak_sushi_20_percent/test/steak/2307638.jpg (deflated 1%)\n",
            "  adding: data/pizza_steak_sushi_20_percent/test/steak/550687.jpg (deflated 0%)\n",
            "  adding: data/pizza_steak_sushi_20_percent/test/steak/3873655.jpg (deflated 1%)\n",
            "  adding: data/pizza_steak_sushi_20_percent/test/steak/2752603.jpg (deflated 1%)\n",
            "  adding: data/pizza_steak_sushi_20_percent/test/steak/1082384.jpg (deflated 0%)\n",
            "  adding: data/pizza_steak_sushi_20_percent/test/steak/1655387.jpg (deflated 13%)\n",
            "  adding: data/pizza_steak_sushi_20_percent/test/steak/2246332.jpg (deflated 2%)\n",
            "  adding: data/pizza_steak_sushi_20_percent/test/steak/3063435.jpg (deflated 1%)\n",
            "  adding: data/pizza_steak_sushi_20_percent/test/steak/2061929.jpg (deflated 1%)\n",
            "  adding: data/pizza_steak_sushi_20_percent/test/steak/1972463.jpg (deflated 1%)\n",
            "  adding: data/pizza_steak_sushi_20_percent/test/steak/48208.jpg (deflated 15%)\n",
            "  adding: data/pizza_steak_sushi_20_percent/test/steak/66858.jpg (deflated 0%)\n",
            "  adding: data/pizza_steak_sushi_20_percent/test/steak/3757027.jpg (deflated 0%)\n",
            "  adding: data/pizza_steak_sushi_20_percent/test/steak/40947.jpg (deflated 0%)\n",
            "  adding: data/pizza_steak_sushi_20_percent/test/steak/2117351.jpg (deflated 1%)\n",
            "  adding: data/pizza_steak_sushi_20_percent/test/steak/3541033.jpg (deflated 1%)\n",
            "  adding: data/pizza_steak_sushi_20_percent/test/steak/108310.jpg (deflated 0%)\n",
            "  adding: data/pizza_steak_sushi_20_percent/test/steak/2475366.jpg (deflated 2%)\n",
            "  adding: data/pizza_steak_sushi_20_percent/test/steak/399377.jpg (deflated 0%)\n",
            "  adding: data/pizza_steak_sushi_20_percent/test/steak/1523026.jpg (deflated 1%)\n",
            "  adding: data/pizza_steak_sushi_20_percent/test/steak/1848936.jpg (deflated 1%)\n",
            "  adding: data/pizza_steak_sushi_20_percent/test/steak/2315011.jpg (deflated 0%)\n",
            "  adding: data/pizza_steak_sushi_20_percent/test/steak/697562.jpg (deflated 1%)\n",
            "  adding: data/pizza_steak_sushi_20_percent/test/steak/1482489.jpg (deflated 1%)\n",
            "  adding: data/pizza_steak_sushi_20_percent/test/steak/3138001.jpg (deflated 0%)\n",
            "  adding: data/pizza_steak_sushi_20_percent/test/steak/476333.jpg (deflated 0%)\n",
            "  adding: data/pizza_steak_sushi_20_percent/test/steak/3622237.jpg (deflated 0%)\n",
            "  adding: data/pizza_steak_sushi_20_percent/test/sushi/ (stored 0%)\n",
            "  adding: data/pizza_steak_sushi_20_percent/test/sushi/1994748.jpg (deflated 1%)\n",
            "  adding: data/pizza_steak_sushi_20_percent/test/sushi/2416569.jpg (deflated 1%)\n",
            "  adding: data/pizza_steak_sushi_20_percent/test/sushi/2819945.jpg (deflated 1%)\n",
            "  adding: data/pizza_steak_sushi_20_percent/test/sushi/2948087.jpg (deflated 1%)\n",
            "  adding: data/pizza_steak_sushi_20_percent/test/sushi/2352914.jpg (deflated 0%)\n",
            "  adding: data/pizza_steak_sushi_20_percent/test/sushi/1346344.jpg (deflated 1%)\n",
            "  adding: data/pizza_steak_sushi_20_percent/test/sushi/3177743.jpg (deflated 0%)\n",
            "  adding: data/pizza_steak_sushi_20_percent/test/sushi/2903621.jpg (deflated 0%)\n",
            "  adding: data/pizza_steak_sushi_20_percent/test/sushi/2274102.jpg (deflated 1%)\n",
            "  adding: data/pizza_steak_sushi_20_percent/test/sushi/46797.jpg (deflated 14%)\n",
            "  adding: data/pizza_steak_sushi_20_percent/test/sushi/715227.jpg (deflated 1%)\n",
            "  adding: data/pizza_steak_sushi_20_percent/test/sushi/1844723.jpg (deflated 0%)\n",
            "  adding: data/pizza_steak_sushi_20_percent/test/sushi/3227791.jpg (deflated 1%)\n",
            "  adding: data/pizza_steak_sushi_20_percent/test/sushi/301603.jpg (deflated 14%)\n",
            "  adding: data/pizza_steak_sushi_20_percent/test/sushi/593071.jpg (deflated 0%)\n",
            "  adding: data/pizza_steak_sushi_20_percent/test/sushi/2743100.jpg (deflated 0%)\n",
            "  adding: data/pizza_steak_sushi_20_percent/test/sushi/472912.jpg (deflated 9%)\n",
            "  adding: data/pizza_steak_sushi_20_percent/test/sushi/1383396.jpg (deflated 0%)\n",
            "  adding: data/pizza_steak_sushi_20_percent/test/sushi/167716.jpg (deflated 0%)\n",
            "  adding: data/pizza_steak_sushi_20_percent/test/sushi/3834718.jpg (deflated 0%)\n",
            "  adding: data/pizza_steak_sushi_20_percent/test/sushi/592799.jpg (deflated 1%)\n",
            "  adding: data/pizza_steak_sushi_20_percent/test/sushi/511818.jpg (deflated 0%)\n",
            "  adding: data/pizza_steak_sushi_20_percent/test/sushi/911808.jpg (deflated 0%)\n",
            "  adding: data/pizza_steak_sushi_20_percent/test/sushi/2378406.jpg (deflated 1%)\n",
            "  adding: data/pizza_steak_sushi_20_percent/test/sushi/1404154.jpg (deflated 0%)\n",
            "  adding: data/pizza_steak_sushi_20_percent/test/sushi/124279.jpg (deflated 0%)\n",
            "  adding: data/pizza_steak_sushi_20_percent/test/sushi/3494950.jpg (deflated 14%)\n",
            "  adding: data/pizza_steak_sushi_20_percent/test/sushi/1063878.jpg (deflated 1%)\n",
            "  adding: data/pizza_steak_sushi_20_percent/test/sushi/3886015.jpg (deflated 1%)\n",
            "  adding: data/pizza_steak_sushi_20_percent/test/sushi/1245545.jpg (deflated 0%)\n",
            "  adding: data/pizza_steak_sushi_20_percent/test/sushi/720302.jpg (deflated 0%)\n",
            "  adding: data/pizza_steak_sushi_20_percent/test/sushi/389730.jpg (deflated 0%)\n",
            "  adding: data/pizza_steak_sushi_20_percent/test/sushi/2903125.jpg (deflated 0%)\n",
            "  adding: data/pizza_steak_sushi_20_percent/test/sushi/2394442.jpg (deflated 0%)\n",
            "  adding: data/pizza_steak_sushi_20_percent/test/sushi/128616.jpg (deflated 0%)\n",
            "  adding: data/pizza_steak_sushi_20_percent/test/sushi/1600999.jpg (deflated 9%)\n",
            "  adding: data/pizza_steak_sushi_20_percent/test/sushi/2012780.jpg (deflated 0%)\n",
            "  adding: data/pizza_steak_sushi_20_percent/test/sushi/804460.jpg (deflated 1%)\n",
            "  adding: data/pizza_steak_sushi_20_percent/test/sushi/1944743.jpg (deflated 27%)\n",
            "  adding: data/pizza_steak_sushi_20_percent/test/sushi/705150.jpg (deflated 0%)\n",
            "  adding: data/pizza_steak_sushi_20_percent/test/sushi/3365273.jpg (deflated 1%)\n",
            "  adding: data/pizza_steak_sushi_20_percent/test/sushi/3401466.jpg (deflated 0%)\n",
            "  adding: data/pizza_steak_sushi_20_percent/test/sushi/1203702.jpg (deflated 0%)\n",
            "  adding: data/pizza_steak_sushi_20_percent/test/sushi/780283.jpg (deflated 1%)\n",
            "  adding: data/pizza_steak_sushi_20_percent/test/sushi/57230.jpg (deflated 14%)\n",
            "  adding: data/pizza_steak_sushi_20_percent/test/sushi/1683426.jpg (deflated 0%)\n",
            "  adding: data/pizza_steak_sushi_20_percent/test/pizza/ (stored 0%)\n",
            "  adding: data/pizza_steak_sushi_20_percent/test/pizza/2250611.jpg (deflated 1%)\n",
            "  adding: data/pizza_steak_sushi_20_percent/test/pizza/129666.jpg (deflated 0%)\n",
            "  adding: data/pizza_steak_sushi_20_percent/test/pizza/1067986.jpg (deflated 1%)\n",
            "  adding: data/pizza_steak_sushi_20_percent/test/pizza/420409.jpg (deflated 0%)\n",
            "  adding: data/pizza_steak_sushi_20_percent/test/pizza/476421.jpg (deflated 22%)\n",
            "  adding: data/pizza_steak_sushi_20_percent/test/pizza/1618659.jpg (deflated 1%)\n",
            "  adding: data/pizza_steak_sushi_20_percent/test/pizza/1001116.jpg (deflated 0%)\n",
            "  adding: data/pizza_steak_sushi_20_percent/test/pizza/2997525.jpg (deflated 0%)\n",
            "  adding: data/pizza_steak_sushi_20_percent/test/pizza/416067.jpg (deflated 0%)\n",
            "  adding: data/pizza_steak_sushi_20_percent/test/pizza/204151.jpg (deflated 0%)\n",
            "  adding: data/pizza_steak_sushi_20_percent/test/pizza/296426.jpg (deflated 0%)\n",
            "  adding: data/pizza_steak_sushi_20_percent/test/pizza/2549661.jpg (deflated 0%)\n",
            "  adding: data/pizza_steak_sushi_20_percent/test/pizza/419962.jpg (deflated 0%)\n",
            "  adding: data/pizza_steak_sushi_20_percent/test/pizza/1032754.jpg (deflated 0%)\n",
            "  adding: data/pizza_steak_sushi_20_percent/test/pizza/2782998.jpg (deflated 1%)\n",
            "  adding: data/pizza_steak_sushi_20_percent/test/pizza/482858.jpg (deflated 0%)\n",
            "  adding: data/pizza_steak_sushi_20_percent/test/pizza/2582289.jpg (deflated 17%)\n",
            "  adding: data/pizza_steak_sushi_20_percent/test/pizza/2398925.jpg (deflated 0%)\n",
            "  adding: data/pizza_steak_sushi_20_percent/test/pizza/2901001.jpg (deflated 0%)\n",
            "  adding: data/pizza_steak_sushi_20_percent/test/pizza/44810.jpg (deflated 3%)\n",
            "  adding: data/pizza_steak_sushi_20_percent/test/pizza/1555015.jpg (deflated 0%)\n",
            "  adding: data/pizza_steak_sushi_20_percent/test/pizza/3497151.jpg (deflated 1%)\n",
            "  adding: data/pizza_steak_sushi_20_percent/test/pizza/796922.jpg (deflated 0%)\n",
            "  adding: data/pizza_steak_sushi_20_percent/test/pizza/3729167.jpg (deflated 0%)\n",
            "  adding: data/pizza_steak_sushi_20_percent/test/pizza/61656.jpg (deflated 0%)\n",
            "  adding: data/pizza_steak_sushi_20_percent/test/pizza/3375083.jpg (deflated 0%)\n",
            "  adding: data/pizza_steak_sushi_20_percent/test/pizza/3376617.jpg (deflated 0%)\n",
            "  adding: data/pizza_steak_sushi_20_percent/test/pizza/2572488.jpg (deflated 1%)\n",
            "  adding: data/pizza_steak_sushi_20_percent/test/pizza/441659.jpg (deflated 0%)\n",
            "  adding: data/pizza_steak_sushi_20_percent/test/pizza/724290.jpg (deflated 19%)\n",
            "  adding: data/pizza_steak_sushi_20_percent/test/pizza/148765.jpg (deflated 0%)\n",
            "  adding: data/pizza_steak_sushi_20_percent/test/pizza/3770514.jpg (deflated 0%)\n",
            "  adding: data/pizza_steak_sushi_20_percent/test/pizza/648055.jpg (deflated 0%)\n",
            "  adding: data/pizza_steak_sushi_20_percent/test/pizza/930553.jpg (deflated 0%)\n",
            "  adding: data/pizza_steak_sushi_20_percent/test/pizza/3486640.jpg (deflated 0%)\n",
            "  adding: data/pizza_steak_sushi_20_percent/test/pizza/771336.jpg (deflated 3%)\n",
            "  adding: data/pizza_steak_sushi_20_percent/test/pizza/998005.jpg (deflated 0%)\n",
            "  adding: data/pizza_steak_sushi_20_percent/test/pizza/1687143.jpg (deflated 0%)\n",
            "  adding: data/pizza_steak_sushi_20_percent/test/pizza/3785667.jpg (deflated 0%)\n",
            "  adding: data/pizza_steak_sushi_20_percent/test/pizza/788315.jpg (deflated 0%)\n",
            "  adding: data/pizza_steak_sushi_20_percent/test/pizza/2111981.jpg (deflated 1%)\n",
            "  adding: data/pizza_steak_sushi_20_percent/test/pizza/833711.jpg (deflated 0%)\n",
            "  adding: data/pizza_steak_sushi_20_percent/test/pizza/3174637.jpg (deflated 0%)\n",
            "  adding: data/pizza_steak_sushi_20_percent/test/pizza/138961.jpg (deflated 0%)\n",
            "  adding: data/pizza_steak_sushi_20_percent/test/pizza/1315645.jpg (deflated 1%)\n",
            "  adding: data/pizza_steak_sushi_20_percent/test/pizza/380739.jpg (deflated 0%)\n",
            "  adding: data/pizza_steak_sushi_20_percent/train/ (stored 0%)\n",
            "  adding: data/pizza_steak_sushi_20_percent/train/steak/ (stored 0%)\n",
            "  adding: data/pizza_steak_sushi_20_percent/train/steak/2648423.jpg (deflated 0%)\n",
            "  adding: data/pizza_steak_sushi_20_percent/train/steak/2748917.jpg (deflated 0%)\n",
            "  adding: data/pizza_steak_sushi_20_percent/train/steak/3727036.jpg (deflated 0%)\n",
            "  adding: data/pizza_steak_sushi_20_percent/train/steak/1937872.jpg (deflated 1%)\n",
            "  adding: data/pizza_steak_sushi_20_percent/train/steak/40094.jpg (deflated 12%)\n",
            "  adding: data/pizza_steak_sushi_20_percent/train/steak/2400975.jpg (deflated 1%)\n",
            "  adding: data/pizza_steak_sushi_20_percent/train/steak/1752330.jpg (deflated 1%)\n",
            "  adding: data/pizza_steak_sushi_20_percent/train/steak/3476564.jpg (deflated 1%)\n",
            "  adding: data/pizza_steak_sushi_20_percent/train/steak/3130412.jpg (deflated 1%)\n",
            "  adding: data/pizza_steak_sushi_20_percent/train/steak/285147.jpg (deflated 0%)\n",
            "  adding: data/pizza_steak_sushi_20_percent/train/steak/2615718.jpg (deflated 1%)\n",
            "  adding: data/pizza_steak_sushi_20_percent/train/steak/2216146.jpg (deflated 5%)\n",
            "  adding: data/pizza_steak_sushi_20_percent/train/steak/2832960.jpg (deflated 1%)\n",
            "  adding: data/pizza_steak_sushi_20_percent/train/steak/141056.jpg (deflated 1%)\n",
            "  adding: data/pizza_steak_sushi_20_percent/train/steak/97656.jpg (deflated 13%)\n",
            "  adding: data/pizza_steak_sushi_20_percent/train/steak/359330.jpg (deflated 0%)\n",
            "  adding: data/pizza_steak_sushi_20_percent/train/steak/443210.jpg (deflated 0%)\n",
            "  adding: data/pizza_steak_sushi_20_percent/train/steak/1382427.jpg (deflated 1%)\n",
            "  adding: data/pizza_steak_sushi_20_percent/train/steak/146833.jpg (deflated 1%)\n",
            "  adding: data/pizza_steak_sushi_20_percent/train/steak/2788312.jpg (deflated 1%)\n",
            "  adding: data/pizza_steak_sushi_20_percent/train/steak/339891.jpg (deflated 14%)\n",
            "  adding: data/pizza_steak_sushi_20_percent/train/steak/2324994.jpg (deflated 0%)\n",
            "  adding: data/pizza_steak_sushi_20_percent/train/steak/2628106.jpg (deflated 0%)\n",
            "  adding: data/pizza_steak_sushi_20_percent/train/steak/405173.jpg (deflated 0%)\n",
            "  adding: data/pizza_steak_sushi_20_percent/train/steak/482022.jpg (deflated 0%)\n",
            "  adding: data/pizza_steak_sushi_20_percent/train/steak/417368.jpg (deflated 0%)\n",
            "  adding: data/pizza_steak_sushi_20_percent/train/steak/393494.jpg (deflated 6%)\n",
            "  adding: data/pizza_steak_sushi_20_percent/train/steak/2238681.jpg (deflated 0%)\n",
            "  adding: data/pizza_steak_sushi_20_percent/train/steak/3209173.jpg (deflated 0%)\n",
            "  adding: data/pizza_steak_sushi_20_percent/train/steak/1945132.jpg (deflated 0%)\n",
            "  adding: data/pizza_steak_sushi_20_percent/train/steak/2287136.jpg (deflated 0%)\n",
            "  adding: data/pizza_steak_sushi_20_percent/train/steak/2136662.jpg (deflated 0%)\n",
            "  adding: data/pizza_steak_sushi_20_percent/train/steak/2966859.jpg (deflated 0%)\n",
            "  adding: data/pizza_steak_sushi_20_percent/train/steak/1839481.jpg (deflated 1%)\n",
            "  adding: data/pizza_steak_sushi_20_percent/train/steak/2716993.jpg (deflated 0%)\n",
            "  adding: data/pizza_steak_sushi_20_percent/train/steak/2606444.jpg (deflated 56%)\n",
            "  adding: data/pizza_steak_sushi_20_percent/train/steak/3867460.jpg (deflated 0%)\n",
            "  adding: data/pizza_steak_sushi_20_percent/train/steak/3074367.jpg (deflated 0%)\n",
            "  adding: data/pizza_steak_sushi_20_percent/train/steak/290850.jpg (deflated 0%)\n",
            "  adding: data/pizza_steak_sushi_20_percent/train/steak/588739.jpg (deflated 0%)\n",
            "  adding: data/pizza_steak_sushi_20_percent/train/steak/2603058.jpg (deflated 1%)\n",
            "  adding: data/pizza_steak_sushi_20_percent/train/steak/1264154.jpg (deflated 1%)\n",
            "  adding: data/pizza_steak_sushi_20_percent/train/steak/225990.jpg (deflated 2%)\n",
            "  adding: data/pizza_steak_sushi_20_percent/train/steak/3082120.jpg (deflated 0%)\n",
            "  adding: data/pizza_steak_sushi_20_percent/train/steak/1787505.jpg (deflated 1%)\n",
            "  adding: data/pizza_steak_sushi_20_percent/train/steak/2222018.jpg (deflated 1%)\n",
            "  adding: data/pizza_steak_sushi_20_percent/train/steak/1761285.jpg (deflated 30%)\n",
            "  adding: data/pizza_steak_sushi_20_percent/train/steak/440188.jpg (deflated 2%)\n",
            "  adding: data/pizza_steak_sushi_20_percent/train/steak/1624747.jpg (deflated 22%)\n",
            "  adding: data/pizza_steak_sushi_20_percent/train/steak/2826987.jpg (deflated 0%)\n",
            "  adding: data/pizza_steak_sushi_20_percent/train/steak/2223787.jpg (deflated 9%)\n",
            "  adding: data/pizza_steak_sushi_20_percent/train/steak/3807440.jpg (deflated 0%)\n",
            "  adding: data/pizza_steak_sushi_20_percent/train/steak/3621464.jpg (deflated 1%)\n",
            "  adding: data/pizza_steak_sushi_20_percent/train/steak/2017387.jpg (deflated 1%)\n",
            "  adding: data/pizza_steak_sushi_20_percent/train/steak/165964.jpg (deflated 0%)\n",
            "  adding: data/pizza_steak_sushi_20_percent/train/steak/3142674.jpg (deflated 0%)\n",
            "  adding: data/pizza_steak_sushi_20_percent/train/steak/2404884.jpg (deflated 0%)\n",
            "  adding: data/pizza_steak_sushi_20_percent/train/steak/637374.jpg (deflated 0%)\n",
            "  adding: data/pizza_steak_sushi_20_percent/train/steak/2538000.jpg (deflated 0%)\n",
            "  adding: data/pizza_steak_sushi_20_percent/train/steak/2629750.jpg (deflated 1%)\n",
            "  adding: data/pizza_steak_sushi_20_percent/train/steak/2707522.jpg (deflated 1%)\n",
            "  adding: data/pizza_steak_sushi_20_percent/train/steak/421476.jpg (deflated 0%)\n",
            "  adding: data/pizza_steak_sushi_20_percent/train/steak/2159975.jpg (deflated 1%)\n",
            "  adding: data/pizza_steak_sushi_20_percent/train/steak/3382936.jpg (deflated 1%)\n",
            "  adding: data/pizza_steak_sushi_20_percent/train/steak/3577618.jpg (deflated 1%)\n",
            "  adding: data/pizza_steak_sushi_20_percent/train/steak/1049459.jpg (deflated 1%)\n",
            "  adding: data/pizza_steak_sushi_20_percent/train/steak/1647351.jpg (deflated 1%)\n",
            "  adding: data/pizza_steak_sushi_20_percent/train/steak/3465327.jpg (deflated 0%)\n",
            "  adding: data/pizza_steak_sushi_20_percent/train/steak/3470083.jpg (deflated 1%)\n",
            "  adding: data/pizza_steak_sushi_20_percent/train/steak/1615395.jpg (deflated 0%)\n",
            "  adding: data/pizza_steak_sushi_20_percent/train/steak/560503.jpg (deflated 0%)\n",
            "  adding: data/pizza_steak_sushi_20_percent/train/steak/100135.jpg (deflated 0%)\n",
            "  adding: data/pizza_steak_sushi_20_percent/train/steak/3693649.jpg (deflated 0%)\n",
            "  adding: data/pizza_steak_sushi_20_percent/train/steak/3136.jpg (deflated 2%)\n",
            "  adding: data/pizza_steak_sushi_20_percent/train/steak/3857508.jpg (deflated 1%)\n",
            "  adding: data/pizza_steak_sushi_20_percent/train/steak/1257104.jpg (deflated 14%)\n",
            "  adding: data/pizza_steak_sushi_20_percent/train/steak/2403776.jpg (deflated 1%)\n",
            "  adding: data/pizza_steak_sushi_20_percent/train/steak/2938151.jpg (deflated 1%)\n",
            "  adding: data/pizza_steak_sushi_20_percent/train/steak/3245622.jpg (deflated 0%)\n",
            "  adding: data/pizza_steak_sushi_20_percent/train/steak/2761427.jpg (deflated 1%)\n",
            "  adding: data/pizza_steak_sushi_20_percent/train/steak/493029.jpg (deflated 0%)\n",
            "  adding: data/pizza_steak_sushi_20_percent/train/steak/355715.jpg (deflated 0%)\n",
            "  adding: data/pizza_steak_sushi_20_percent/train/steak/332557.jpg (deflated 0%)\n",
            "  adding: data/pizza_steak_sushi_20_percent/train/steak/1816235.jpg (deflated 1%)\n",
            "  adding: data/pizza_steak_sushi_20_percent/train/steak/1598345.jpg (deflated 28%)\n",
            "  adding: data/pizza_steak_sushi_20_percent/train/steak/2910418.jpg (deflated 1%)\n",
            "  adding: data/pizza_steak_sushi_20_percent/train/steak/914570.jpg (deflated 1%)\n",
            "  adding: data/pizza_steak_sushi_20_percent/train/steak/714298.jpg (deflated 0%)\n",
            "  adding: data/pizza_steak_sushi_20_percent/train/steak/1961025.jpg (deflated 0%)\n",
            "  adding: data/pizza_steak_sushi_20_percent/train/steak/1362989.jpg (deflated 1%)\n",
            "  adding: data/pizza_steak_sushi_20_percent/train/steak/2561199.jpg (deflated 1%)\n",
            "  adding: data/pizza_steak_sushi_20_percent/train/steak/3601483.jpg (deflated 0%)\n",
            "  adding: data/pizza_steak_sushi_20_percent/train/steak/735441.jpg (deflated 0%)\n",
            "  adding: data/pizza_steak_sushi_20_percent/train/steak/2614189.jpg (deflated 1%)\n",
            "  adding: data/pizza_steak_sushi_20_percent/train/steak/922752.jpg (deflated 0%)\n",
            "  adding: data/pizza_steak_sushi_20_percent/train/steak/461689.jpg (deflated 1%)\n",
            "  adding: data/pizza_steak_sushi_20_percent/train/steak/214320.jpg (deflated 0%)\n",
            "  adding: data/pizza_steak_sushi_20_percent/train/steak/3142045.jpg (deflated 0%)\n",
            "  adding: data/pizza_steak_sushi_20_percent/train/steak/1736968.jpg (deflated 1%)\n",
            "  adding: data/pizza_steak_sushi_20_percent/train/steak/1225762.jpg (deflated 1%)\n",
            "  adding: data/pizza_steak_sushi_20_percent/train/steak/3223400.jpg (deflated 1%)\n",
            "  adding: data/pizza_steak_sushi_20_percent/train/steak/1619357.jpg (deflated 1%)\n",
            "  adding: data/pizza_steak_sushi_20_percent/train/steak/3113772.jpg (deflated 0%)\n",
            "  adding: data/pizza_steak_sushi_20_percent/train/steak/3727491.jpg (deflated 1%)\n",
            "  adding: data/pizza_steak_sushi_20_percent/train/steak/1433912.jpg (deflated 1%)\n",
            "  adding: data/pizza_steak_sushi_20_percent/train/steak/268444.jpg (deflated 0%)\n",
            "  adding: data/pizza_steak_sushi_20_percent/train/steak/1849463.jpg (deflated 1%)\n",
            "  adding: data/pizza_steak_sushi_20_percent/train/steak/838344.jpg (deflated 0%)\n",
            "  adding: data/pizza_steak_sushi_20_percent/train/steak/2880035.jpg (deflated 0%)\n",
            "  adding: data/pizza_steak_sushi_20_percent/train/steak/388776.jpg (deflated 0%)\n",
            "  adding: data/pizza_steak_sushi_20_percent/train/steak/1966300.jpg (deflated 0%)\n",
            "  adding: data/pizza_steak_sushi_20_percent/train/steak/681609.jpg (deflated 0%)\n",
            "  adding: data/pizza_steak_sushi_20_percent/train/steak/2881783.jpg (deflated 1%)\n",
            "  adding: data/pizza_steak_sushi_20_percent/train/steak/1927984.jpg (deflated 1%)\n",
            "  adding: data/pizza_steak_sushi_20_percent/train/steak/543691.jpg (deflated 13%)\n",
            "  adding: data/pizza_steak_sushi_20_percent/train/steak/2163079.jpg (deflated 2%)\n",
            "  adding: data/pizza_steak_sushi_20_percent/train/steak/1976160.jpg (deflated 1%)\n",
            "  adding: data/pizza_steak_sushi_20_percent/train/steak/231296.jpg (deflated 0%)\n",
            "  adding: data/pizza_steak_sushi_20_percent/train/steak/1334054.jpg (deflated 0%)\n",
            "  adding: data/pizza_steak_sushi_20_percent/train/steak/2254705.jpg (deflated 1%)\n",
            "  adding: data/pizza_steak_sushi_20_percent/train/steak/819027.jpg (deflated 1%)\n",
            "  adding: data/pizza_steak_sushi_20_percent/train/steak/1413972.jpg (deflated 1%)\n",
            "  adding: data/pizza_steak_sushi_20_percent/train/steak/980247.jpg (deflated 0%)\n",
            "  adding: data/pizza_steak_sushi_20_percent/train/steak/1621763.jpg (deflated 1%)\n",
            "  adding: data/pizza_steak_sushi_20_percent/train/steak/176508.jpg (deflated 0%)\n",
            "  adding: data/pizza_steak_sushi_20_percent/train/steak/256592.jpg (deflated 11%)\n",
            "  adding: data/pizza_steak_sushi_20_percent/train/steak/1212161.jpg (deflated 1%)\n",
            "  adding: data/pizza_steak_sushi_20_percent/train/steak/286219.jpg (deflated 1%)\n",
            "  adding: data/pizza_steak_sushi_20_percent/train/steak/3518960.jpg (deflated 0%)\n",
            "  adding: data/pizza_steak_sushi_20_percent/train/steak/1826066.jpg (deflated 1%)\n",
            "  adding: data/pizza_steak_sushi_20_percent/train/steak/2878151.jpg (deflated 1%)\n",
            "  adding: data/pizza_steak_sushi_20_percent/train/steak/2013535.jpg (deflated 1%)\n",
            "  adding: data/pizza_steak_sushi_20_percent/train/steak/167069.jpg (deflated 0%)\n",
            "  adding: data/pizza_steak_sushi_20_percent/train/steak/2129685.jpg (deflated 1%)\n",
            "  adding: data/pizza_steak_sushi_20_percent/train/steak/2928643.jpg (deflated 0%)\n",
            "  adding: data/pizza_steak_sushi_20_percent/train/steak/827764.jpg (deflated 1%)\n",
            "  adding: data/pizza_steak_sushi_20_percent/train/steak/830007.jpg (deflated 56%)\n",
            "  adding: data/pizza_steak_sushi_20_percent/train/steak/3766099.jpg (deflated 0%)\n",
            "  adding: data/pizza_steak_sushi_20_percent/train/steak/3777482.jpg (deflated 1%)\n",
            "  adding: data/pizza_steak_sushi_20_percent/train/steak/1530833.jpg (deflated 1%)\n",
            "  adding: data/pizza_steak_sushi_20_percent/train/steak/937133.jpg (deflated 0%)\n",
            "  adding: data/pizza_steak_sushi_20_percent/train/steak/2856066.jpg (deflated 0%)\n",
            "  adding: data/pizza_steak_sushi_20_percent/train/steak/75537.jpg (deflated 1%)\n",
            "  adding: data/pizza_steak_sushi_20_percent/train/steak/165639.jpg (deflated 0%)\n",
            "  adding: data/pizza_steak_sushi_20_percent/train/steak/2825100.jpg (deflated 13%)\n",
            "  adding: data/pizza_steak_sushi_20_percent/train/steak/239025.jpg (deflated 0%)\n",
            "  adding: data/pizza_steak_sushi_20_percent/train/sushi/ (stored 0%)\n",
            "  adding: data/pizza_steak_sushi_20_percent/train/sushi/2087002.jpg (deflated 0%)\n",
            "  adding: data/pizza_steak_sushi_20_percent/train/sushi/953649.jpg (deflated 1%)\n",
            "  adding: data/pizza_steak_sushi_20_percent/train/sushi/414450.jpg (deflated 0%)\n",
            "  adding: data/pizza_steak_sushi_20_percent/train/sushi/1538536.jpg (deflated 0%)\n",
            "  adding: data/pizza_steak_sushi_20_percent/train/sushi/1280119.jpg (deflated 0%)\n",
            "  adding: data/pizza_steak_sushi_20_percent/train/sushi/2211604.jpg (deflated 0%)\n",
            "  adding: data/pizza_steak_sushi_20_percent/train/sushi/1092674.jpg (deflated 1%)\n",
            "  adding: data/pizza_steak_sushi_20_percent/train/sushi/821108.jpg (deflated 0%)\n",
            "  adding: data/pizza_steak_sushi_20_percent/train/sushi/1930318.jpg (deflated 1%)\n",
            "  adding: data/pizza_steak_sushi_20_percent/train/sushi/638929.jpg (deflated 0%)\n",
            "  adding: data/pizza_steak_sushi_20_percent/train/sushi/185340.jpg (deflated 0%)\n",
            "  adding: data/pizza_steak_sushi_20_percent/train/sushi/843815.jpg (deflated 0%)\n",
            "  adding: data/pizza_steak_sushi_20_percent/train/sushi/2674024.jpg (deflated 0%)\n",
            "  adding: data/pizza_steak_sushi_20_percent/train/sushi/731414.jpg (deflated 0%)\n",
            "  adding: data/pizza_steak_sushi_20_percent/train/sushi/2509962.jpg (deflated 1%)\n",
            "  adding: data/pizza_steak_sushi_20_percent/train/sushi/377047.jpg (deflated 0%)\n",
            "  adding: data/pizza_steak_sushi_20_percent/train/sushi/1232045.jpg (deflated 1%)\n",
            "  adding: data/pizza_steak_sushi_20_percent/train/sushi/2175561.jpg (deflated 1%)\n",
            "  adding: data/pizza_steak_sushi_20_percent/train/sushi/2168648.jpg (deflated 1%)\n",
            "  adding: data/pizza_steak_sushi_20_percent/train/sushi/3036492.jpg (deflated 1%)\n",
            "  adding: data/pizza_steak_sushi_20_percent/train/sushi/310820.jpg (deflated 0%)\n",
            "  adding: data/pizza_steak_sushi_20_percent/train/sushi/2120484.jpg (deflated 0%)\n",
            "  adding: data/pizza_steak_sushi_20_percent/train/sushi/794736.jpg (deflated 22%)\n",
            "  adding: data/pizza_steak_sushi_20_percent/train/sushi/3827966.jpg (deflated 0%)\n",
            "  adding: data/pizza_steak_sushi_20_percent/train/sushi/2692550.jpg (deflated 0%)\n",
            "  adding: data/pizza_steak_sushi_20_percent/train/sushi/1924555.jpg (deflated 1%)\n",
            "  adding: data/pizza_steak_sushi_20_percent/train/sushi/1626195.jpg (deflated 0%)\n",
            "  adding: data/pizza_steak_sushi_20_percent/train/sushi/2318569.jpg (deflated 0%)\n",
            "  adding: data/pizza_steak_sushi_20_percent/train/sushi/2634094.jpg (deflated 2%)\n",
            "  adding: data/pizza_steak_sushi_20_percent/train/sushi/96680.jpg (deflated 0%)\n",
            "  adding: data/pizza_steak_sushi_20_percent/train/sushi/2813454.jpg (deflated 0%)\n",
            "  adding: data/pizza_steak_sushi_20_percent/train/sushi/2349183.jpg (deflated 0%)\n",
            "  adding: data/pizza_steak_sushi_20_percent/train/sushi/3360232.jpg (deflated 11%)\n",
            "  adding: data/pizza_steak_sushi_20_percent/train/sushi/1575445.jpg (deflated 0%)\n",
            "  adding: data/pizza_steak_sushi_20_percent/train/sushi/17704.jpg (deflated 0%)\n",
            "  adding: data/pizza_steak_sushi_20_percent/train/sushi/1138695.jpg (deflated 1%)\n",
            "  adding: data/pizza_steak_sushi_20_percent/train/sushi/1919810.jpg (deflated 2%)\n",
            "  adding: data/pizza_steak_sushi_20_percent/train/sushi/3081701.jpg (deflated 1%)\n",
            "  adding: data/pizza_steak_sushi_20_percent/train/sushi/733020.jpg (deflated 0%)\n",
            "  adding: data/pizza_steak_sushi_20_percent/train/sushi/881859.jpg (deflated 0%)\n",
            "  adding: data/pizza_steak_sushi_20_percent/train/sushi/1957449.jpg (deflated 0%)\n",
            "  adding: data/pizza_steak_sushi_20_percent/train/sushi/3353428.jpg (deflated 0%)\n",
            "  adding: data/pizza_steak_sushi_20_percent/train/sushi/67007.jpg (deflated 4%)\n",
            "  adding: data/pizza_steak_sushi_20_percent/train/sushi/200025.jpg (deflated 0%)\n",
            "  adding: data/pizza_steak_sushi_20_percent/train/sushi/2156885.jpg (deflated 0%)\n",
            "  adding: data/pizza_steak_sushi_20_percent/train/sushi/268990.jpg (deflated 0%)\n",
            "  adding: data/pizza_steak_sushi_20_percent/train/sushi/1303005.jpg (deflated 1%)\n",
            "  adding: data/pizza_steak_sushi_20_percent/train/sushi/2980779.jpg (deflated 1%)\n",
            "  adding: data/pizza_steak_sushi_20_percent/train/sushi/1070104.jpg (deflated 17%)\n",
            "  adding: data/pizza_steak_sushi_20_percent/train/sushi/902214.jpg (deflated 1%)\n",
            "  adding: data/pizza_steak_sushi_20_percent/train/sushi/1033302.jpg (deflated 1%)\n",
            "  adding: data/pizza_steak_sushi_20_percent/train/sushi/2357133.jpg (deflated 1%)\n",
            "  adding: data/pizza_steak_sushi_20_percent/train/sushi/170385.jpg (deflated 0%)\n",
            "  adding: data/pizza_steak_sushi_20_percent/train/sushi/2004525.jpg (deflated 1%)\n",
            "  adding: data/pizza_steak_sushi_20_percent/train/sushi/900178.jpg (deflated 1%)\n",
            "  adding: data/pizza_steak_sushi_20_percent/train/sushi/2937874.jpg (deflated 0%)\n",
            "  adding: data/pizza_steak_sushi_20_percent/train/sushi/1209865.jpg (deflated 1%)\n",
            "  adding: data/pizza_steak_sushi_20_percent/train/sushi/3004029.jpg (deflated 0%)\n",
            "  adding: data/pizza_steak_sushi_20_percent/train/sushi/568994.jpg (deflated 1%)\n",
            "  adding: data/pizza_steak_sushi_20_percent/train/sushi/649456.jpg (deflated 0%)\n",
            "  adding: data/pizza_steak_sushi_20_percent/train/sushi/2970648.jpg (deflated 0%)\n",
            "  adding: data/pizza_steak_sushi_20_percent/train/sushi/2021685.jpg (deflated 3%)\n",
            "  adding: data/pizza_steak_sushi_20_percent/train/sushi/1398853.jpg (deflated 0%)\n",
            "  adding: data/pizza_steak_sushi_20_percent/train/sushi/2431398.jpg (deflated 1%)\n",
            "  adding: data/pizza_steak_sushi_20_percent/train/sushi/507775.jpg (deflated 0%)\n",
            "  adding: data/pizza_steak_sushi_20_percent/train/sushi/1221830.jpg (deflated 21%)\n",
            "  adding: data/pizza_steak_sushi_20_percent/train/sushi/1085066.jpg (deflated 1%)\n",
            "  adding: data/pizza_steak_sushi_20_percent/train/sushi/2017378.jpg (deflated 0%)\n",
            "  adding: data/pizza_steak_sushi_20_percent/train/sushi/920703.jpg (deflated 0%)\n",
            "  adding: data/pizza_steak_sushi_20_percent/train/sushi/3590238.jpg (deflated 1%)\n",
            "  adding: data/pizza_steak_sushi_20_percent/train/sushi/3737197.jpg (deflated 1%)\n",
            "  adding: data/pizza_steak_sushi_20_percent/train/sushi/148799.jpg (deflated 0%)\n",
            "  adding: data/pizza_steak_sushi_20_percent/train/sushi/3880093.jpg (deflated 1%)\n",
            "  adding: data/pizza_steak_sushi_20_percent/train/sushi/121940.jpg (deflated 0%)\n",
            "  adding: data/pizza_steak_sushi_20_percent/train/sushi/710379.jpg (deflated 0%)\n",
            "  adding: data/pizza_steak_sushi_20_percent/train/sushi/766596.jpg (deflated 0%)\n",
            "  adding: data/pizza_steak_sushi_20_percent/train/sushi/3426958.jpg (deflated 0%)\n",
            "  adding: data/pizza_steak_sushi_20_percent/train/sushi/2036680.jpg (deflated 1%)\n",
            "  adding: data/pizza_steak_sushi_20_percent/train/sushi/77209.jpg (deflated 7%)\n",
            "  adding: data/pizza_steak_sushi_20_percent/train/sushi/3579071.jpg (deflated 1%)\n",
            "  adding: data/pizza_steak_sushi_20_percent/train/sushi/23060.jpg (deflated 0%)\n",
            "  adding: data/pizza_steak_sushi_20_percent/train/sushi/1674187.jpg (deflated 1%)\n",
            "  adding: data/pizza_steak_sushi_20_percent/train/sushi/1422524.jpg (deflated 0%)\n",
            "  adding: data/pizza_steak_sushi_20_percent/train/sushi/1168726.jpg (deflated 7%)\n",
            "  adding: data/pizza_steak_sushi_20_percent/train/sushi/3337386.jpg (deflated 1%)\n",
            "  adding: data/pizza_steak_sushi_20_percent/train/sushi/390178.jpg (deflated 0%)\n",
            "  adding: data/pizza_steak_sushi_20_percent/train/sushi/3191504.jpg (deflated 1%)\n",
            "  adding: data/pizza_steak_sushi_20_percent/train/sushi/155981.jpg (deflated 0%)\n",
            "  adding: data/pizza_steak_sushi_20_percent/train/sushi/2590819.jpg (deflated 1%)\n",
            "  adding: data/pizza_steak_sushi_20_percent/train/sushi/3226272.jpg (deflated 1%)\n",
            "  adding: data/pizza_steak_sushi_20_percent/train/sushi/3001740.jpg (deflated 1%)\n",
            "  adding: data/pizza_steak_sushi_20_percent/train/sushi/2797464.jpg (deflated 1%)\n",
            "  adding: data/pizza_steak_sushi_20_percent/train/sushi/3335345.jpg (deflated 14%)\n",
            "  adding: data/pizza_steak_sushi_20_percent/train/sushi/2906905.jpg (deflated 1%)\n",
            "  adding: data/pizza_steak_sushi_20_percent/train/sushi/2438557.jpg (deflated 1%)\n",
            "  adding: data/pizza_steak_sushi_20_percent/train/sushi/3179173.jpg (deflated 18%)\n",
            "  adding: data/pizza_steak_sushi_20_percent/train/sushi/1659155.jpg (deflated 1%)\n",
            "  adding: data/pizza_steak_sushi_20_percent/train/sushi/1551817.jpg (deflated 0%)\n",
            "  adding: data/pizza_steak_sushi_20_percent/train/sushi/2995090.jpg (deflated 0%)\n",
            "  adding: data/pizza_steak_sushi_20_percent/train/sushi/385154.jpg (deflated 0%)\n",
            "  adding: data/pizza_steak_sushi_20_percent/train/sushi/932954.jpg (deflated 1%)\n",
            "  adding: data/pizza_steak_sushi_20_percent/train/sushi/1025041.jpg (deflated 1%)\n",
            "  adding: data/pizza_steak_sushi_20_percent/train/sushi/3107839.jpg (deflated 0%)\n",
            "  adding: data/pizza_steak_sushi_20_percent/train/sushi/998971.jpg (deflated 0%)\n",
            "  adding: data/pizza_steak_sushi_20_percent/train/sushi/3493412.jpg (deflated 1%)\n",
            "  adding: data/pizza_steak_sushi_20_percent/train/sushi/424994.jpg (deflated 0%)\n",
            "  adding: data/pizza_steak_sushi_20_percent/train/sushi/2019344.jpg (deflated 0%)\n",
            "  adding: data/pizza_steak_sushi_20_percent/train/sushi/1423517.jpg (deflated 0%)\n",
            "  adding: data/pizza_steak_sushi_20_percent/train/sushi/3618081.jpg (deflated 0%)\n",
            "  adding: data/pizza_steak_sushi_20_percent/train/sushi/285268.jpg (deflated 0%)\n",
            "  adding: data/pizza_steak_sushi_20_percent/train/sushi/1552504.jpg (deflated 0%)\n",
            "  adding: data/pizza_steak_sushi_20_percent/train/sushi/2873571.jpg (deflated 0%)\n",
            "  adding: data/pizza_steak_sushi_20_percent/train/sushi/3309395.jpg (deflated 1%)\n",
            "  adding: data/pizza_steak_sushi_20_percent/train/sushi/623621.jpg (deflated 0%)\n",
            "  adding: data/pizza_steak_sushi_20_percent/train/sushi/2871052.jpg (deflated 0%)\n",
            "  adding: data/pizza_steak_sushi_20_percent/train/sushi/852186.jpg (deflated 0%)\n",
            "  adding: data/pizza_steak_sushi_20_percent/train/sushi/93139.jpg (deflated 1%)\n",
            "  adding: data/pizza_steak_sushi_20_percent/train/sushi/2267190.jpg (deflated 1%)\n",
            "  adding: data/pizza_steak_sushi_20_percent/train/sushi/929471.jpg (deflated 0%)\n",
            "  adding: data/pizza_steak_sushi_20_percent/train/sushi/3157863.jpg (deflated 0%)\n",
            "  adding: data/pizza_steak_sushi_20_percent/train/sushi/2574453.jpg (deflated 0%)\n",
            "  adding: data/pizza_steak_sushi_20_percent/train/sushi/1615453.jpg (deflated 0%)\n",
            "  adding: data/pizza_steak_sushi_20_percent/train/sushi/2323548.jpg (deflated 1%)\n",
            "  adding: data/pizza_steak_sushi_20_percent/train/sushi/307738.jpg (deflated 0%)\n",
            "  adding: data/pizza_steak_sushi_20_percent/train/sushi/20588.jpg (deflated 0%)\n",
            "  adding: data/pizza_steak_sushi_20_percent/train/sushi/1179238.jpg (deflated 0%)\n",
            "  adding: data/pizza_steak_sushi_20_percent/train/sushi/548408.jpg (deflated 0%)\n",
            "  adding: data/pizza_steak_sushi_20_percent/train/sushi/865839.jpg (deflated 1%)\n",
            "  adding: data/pizza_steak_sushi_20_percent/train/sushi/38958.jpg (deflated 14%)\n",
            "  adding: data/pizza_steak_sushi_20_percent/train/sushi/2120573.jpg (deflated 12%)\n",
            "  adding: data/pizza_steak_sushi_20_percent/train/sushi/308627.jpg (deflated 0%)\n",
            "  adding: data/pizza_steak_sushi_20_percent/train/sushi/1717393.jpg (deflated 1%)\n",
            "  adding: data/pizza_steak_sushi_20_percent/train/sushi/1152316.jpg (deflated 1%)\n",
            "  adding: data/pizza_steak_sushi_20_percent/train/sushi/3734413.jpg (deflated 1%)\n",
            "  adding: data/pizza_steak_sushi_20_percent/train/sushi/999858.jpg (deflated 1%)\n",
            "  adding: data/pizza_steak_sushi_20_percent/train/sushi/464276.jpg (deflated 1%)\n",
            "  adding: data/pizza_steak_sushi_20_percent/train/sushi/3600867.jpg (deflated 1%)\n",
            "  adding: data/pizza_steak_sushi_20_percent/train/sushi/2667370.jpg (deflated 0%)\n",
            "  adding: data/pizza_steak_sushi_20_percent/train/sushi/3231443.jpg (deflated 1%)\n",
            "  adding: data/pizza_steak_sushi_20_percent/train/sushi/3576399.jpg (deflated 30%)\n",
            "  adding: data/pizza_steak_sushi_20_percent/train/sushi/3755656.jpg (deflated 1%)\n",
            "  adding: data/pizza_steak_sushi_20_percent/train/sushi/2507003.jpg (deflated 1%)\n",
            "  adding: data/pizza_steak_sushi_20_percent/train/sushi/2814372.jpg (deflated 1%)\n",
            "  adding: data/pizza_steak_sushi_20_percent/train/sushi/1429127.jpg (deflated 1%)\n",
            "  adding: data/pizza_steak_sushi_20_percent/train/sushi/2388655.jpg (deflated 23%)\n",
            "  adding: data/pizza_steak_sushi_20_percent/train/sushi/2641778.jpg (deflated 1%)\n",
            "  adding: data/pizza_steak_sushi_20_percent/train/sushi/1129338.jpg (deflated 0%)\n",
            "  adding: data/pizza_steak_sushi_20_percent/train/sushi/2021381.jpg (deflated 2%)\n",
            "  adding: data/pizza_steak_sushi_20_percent/train/sushi/773725.jpg (deflated 3%)\n",
            "  adding: data/pizza_steak_sushi_20_percent/train/sushi/592581.jpg (deflated 0%)\n",
            "  adding: data/pizza_steak_sushi_20_percent/train/pizza/ (stored 0%)\n",
            "  adding: data/pizza_steak_sushi_20_percent/train/pizza/3393898.jpg (deflated 1%)\n",
            "  adding: data/pizza_steak_sushi_20_percent/train/pizza/77677.jpg (deflated 0%)\n",
            "  adding: data/pizza_steak_sushi_20_percent/train/pizza/739735.jpg (deflated 2%)\n",
            "  adding: data/pizza_steak_sushi_20_percent/train/pizza/1054420.jpg (deflated 1%)\n",
            "  adding: data/pizza_steak_sushi_20_percent/train/pizza/1107714.jpg (deflated 0%)\n",
            "  adding: data/pizza_steak_sushi_20_percent/train/pizza/1407753.jpg (deflated 0%)\n",
            "  adding: data/pizza_steak_sushi_20_percent/train/pizza/1899785.jpg (deflated 1%)\n",
            "  adding: data/pizza_steak_sushi_20_percent/train/pizza/853441.jpg (deflated 0%)\n",
            "  adding: data/pizza_steak_sushi_20_percent/train/pizza/2534774.jpg (deflated 0%)\n",
            "  adding: data/pizza_steak_sushi_20_percent/train/pizza/3871666.jpg (deflated 1%)\n",
            "  adding: data/pizza_steak_sushi_20_percent/train/pizza/8917.jpg (deflated 0%)\n",
            "  adding: data/pizza_steak_sushi_20_percent/train/pizza/2382016.jpg (deflated 0%)\n",
            "  adding: data/pizza_steak_sushi_20_percent/train/pizza/2639094.jpg (deflated 0%)\n",
            "  adding: data/pizza_steak_sushi_20_percent/train/pizza/3441394.jpg (deflated 0%)\n",
            "  adding: data/pizza_steak_sushi_20_percent/train/pizza/5764.jpg (deflated 6%)\n",
            "  adding: data/pizza_steak_sushi_20_percent/train/pizza/929067.jpg (deflated 1%)\n",
            "  adding: data/pizza_steak_sushi_20_percent/train/pizza/3660716.jpg (deflated 1%)\n",
            "  adding: data/pizza_steak_sushi_20_percent/train/pizza/2110257.jpg (deflated 1%)\n",
            "  adding: data/pizza_steak_sushi_20_percent/train/pizza/598381.jpg (deflated 1%)\n",
            "  adding: data/pizza_steak_sushi_20_percent/train/pizza/3082068.jpg (deflated 2%)\n",
            "  adding: data/pizza_steak_sushi_20_percent/train/pizza/1620761.jpg (deflated 1%)\n",
            "  adding: data/pizza_steak_sushi_20_percent/train/pizza/3196721.jpg (deflated 1%)\n",
            "  adding: data/pizza_steak_sushi_20_percent/train/pizza/2793535.jpg (deflated 1%)\n",
            "  adding: data/pizza_steak_sushi_20_percent/train/pizza/2584745.jpg (deflated 0%)\n",
            "  adding: data/pizza_steak_sushi_20_percent/train/pizza/2490163.jpg (deflated 1%)\n",
            "  adding: data/pizza_steak_sushi_20_percent/train/pizza/1089334.jpg (deflated 14%)\n",
            "  adding: data/pizza_steak_sushi_20_percent/train/pizza/1743389.jpg (deflated 1%)\n",
            "  adding: data/pizza_steak_sushi_20_percent/train/pizza/928670.jpg (deflated 1%)\n",
            "  adding: data/pizza_steak_sushi_20_percent/train/pizza/1633289.jpg (deflated 0%)\n",
            "  adding: data/pizza_steak_sushi_20_percent/train/pizza/3464027.jpg (deflated 1%)\n",
            "  adding: data/pizza_steak_sushi_20_percent/train/pizza/2687575.jpg (deflated 0%)\n",
            "  adding: data/pizza_steak_sushi_20_percent/train/pizza/352051.jpg (deflated 0%)\n",
            "  adding: data/pizza_steak_sushi_20_percent/train/pizza/2576168.jpg (deflated 0%)\n",
            "  adding: data/pizza_steak_sushi_20_percent/train/pizza/244505.jpg (deflated 0%)\n",
            "  adding: data/pizza_steak_sushi_20_percent/train/pizza/2760984.jpg (deflated 0%)\n",
            "  adding: data/pizza_steak_sushi_20_percent/train/pizza/3109486.jpg (deflated 0%)\n",
            "  adding: data/pizza_steak_sushi_20_percent/train/pizza/1998483.jpg (deflated 1%)\n",
            "  adding: data/pizza_steak_sushi_20_percent/train/pizza/1245628.jpg (deflated 1%)\n",
            "  adding: data/pizza_steak_sushi_20_percent/train/pizza/790841.jpg (deflated 1%)\n",
            "  adding: data/pizza_steak_sushi_20_percent/train/pizza/1535273.jpg (deflated 0%)\n",
            "  adding: data/pizza_steak_sushi_20_percent/train/pizza/2426686.jpg (deflated 1%)\n",
            "  adding: data/pizza_steak_sushi_20_percent/train/pizza/765799.jpg (deflated 0%)\n",
            "  adding: data/pizza_steak_sushi_20_percent/train/pizza/2330965.jpg (deflated 0%)\n",
            "  adding: data/pizza_steak_sushi_20_percent/train/pizza/2154394.jpg (deflated 0%)\n",
            "  adding: data/pizza_steak_sushi_20_percent/train/pizza/2529205.jpg (deflated 1%)\n",
            "  adding: data/pizza_steak_sushi_20_percent/train/pizza/3699992.jpg (deflated 2%)\n",
            "  adding: data/pizza_steak_sushi_20_percent/train/pizza/3530210.jpg (deflated 1%)\n",
            "  adding: data/pizza_steak_sushi_20_percent/train/pizza/3675128.jpg (deflated 1%)\n",
            "  adding: data/pizza_steak_sushi_20_percent/train/pizza/3917951.jpg (deflated 1%)\n",
            "  adding: data/pizza_steak_sushi_20_percent/train/pizza/228778.jpg (deflated 0%)\n",
            "  adding: data/pizza_steak_sushi_20_percent/train/pizza/1660415.jpg (deflated 0%)\n",
            "  adding: data/pizza_steak_sushi_20_percent/train/pizza/300869.jpg (deflated 0%)\n",
            "  adding: data/pizza_steak_sushi_20_percent/train/pizza/2228322.jpg (deflated 0%)\n",
            "  adding: data/pizza_steak_sushi_20_percent/train/pizza/1654444.jpg (deflated 0%)\n",
            "  adding: data/pizza_steak_sushi_20_percent/train/pizza/3401720.jpg (deflated 0%)\n",
            "  adding: data/pizza_steak_sushi_20_percent/train/pizza/29417.jpg (deflated 0%)\n",
            "  adding: data/pizza_steak_sushi_20_percent/train/pizza/3766476.jpg (deflated 0%)\n",
            "  adding: data/pizza_steak_sushi_20_percent/train/pizza/1044789.jpg (deflated 0%)\n",
            "  adding: data/pizza_steak_sushi_20_percent/train/pizza/2077999.jpg (deflated 0%)\n",
            "  adding: data/pizza_steak_sushi_20_percent/train/pizza/1686908.jpg (deflated 0%)\n",
            "  adding: data/pizza_steak_sushi_20_percent/train/pizza/218142.jpg (deflated 0%)\n",
            "  adding: data/pizza_steak_sushi_20_percent/train/pizza/218711.jpg (deflated 0%)\n",
            "  adding: data/pizza_steak_sushi_20_percent/train/pizza/3693710.jpg (deflated 1%)\n",
            "  adding: data/pizza_steak_sushi_20_percent/train/pizza/3860002.jpg (deflated 0%)\n",
            "  adding: data/pizza_steak_sushi_20_percent/train/pizza/2785084.jpg (deflated 1%)\n",
            "  adding: data/pizza_steak_sushi_20_percent/train/pizza/3505182.jpg (deflated 1%)\n",
            "  adding: data/pizza_steak_sushi_20_percent/train/pizza/1947572.jpg (deflated 1%)\n",
            "  adding: data/pizza_steak_sushi_20_percent/train/pizza/2587921.jpg (deflated 0%)\n",
            "  adding: data/pizza_steak_sushi_20_percent/train/pizza/3191035.jpg (deflated 1%)\n",
            "  adding: data/pizza_steak_sushi_20_percent/train/pizza/3082443.jpg (deflated 0%)\n",
            "  adding: data/pizza_steak_sushi_20_percent/train/pizza/2885796.jpg (deflated 0%)\n",
            "  adding: data/pizza_steak_sushi_20_percent/train/pizza/2486277.jpg (deflated 1%)\n",
            "  adding: data/pizza_steak_sushi_20_percent/train/pizza/2885050.jpg (deflated 1%)\n",
            "  adding: data/pizza_steak_sushi_20_percent/train/pizza/1687681.jpg (deflated 1%)\n",
            "  adding: data/pizza_steak_sushi_20_percent/train/pizza/618348.jpg (deflated 0%)\n",
            "  adding: data/pizza_steak_sushi_20_percent/train/pizza/3391208.jpg (deflated 14%)\n",
            "  adding: data/pizza_steak_sushi_20_percent/train/pizza/2821048.jpg (deflated 1%)\n",
            "  adding: data/pizza_steak_sushi_20_percent/train/pizza/68684.jpg (deflated 7%)\n",
            "  adding: data/pizza_steak_sushi_20_percent/train/pizza/517902.jpg (deflated 0%)\n",
            "  adding: data/pizza_steak_sushi_20_percent/train/pizza/1836888.jpg (deflated 1%)\n",
            "  adding: data/pizza_steak_sushi_20_percent/train/pizza/1964051.jpg (deflated 1%)\n",
            "  adding: data/pizza_steak_sushi_20_percent/train/pizza/3589437.jpg (deflated 0%)\n",
            "  adding: data/pizza_steak_sushi_20_percent/train/pizza/2451169.jpg (deflated 0%)\n",
            "  adding: data/pizza_steak_sushi_20_percent/train/pizza/1425089.jpg (deflated 1%)\n",
            "  adding: data/pizza_steak_sushi_20_percent/train/pizza/1717790.jpg (deflated 0%)\n",
            "  adding: data/pizza_steak_sushi_20_percent/train/pizza/3281494.jpg (deflated 0%)\n",
            "  adding: data/pizza_steak_sushi_20_percent/train/pizza/1105700.jpg (deflated 0%)\n",
            "  adding: data/pizza_steak_sushi_20_percent/train/pizza/1065078.jpg (deflated 0%)\n",
            "  adding: data/pizza_steak_sushi_20_percent/train/pizza/262133.jpg (deflated 0%)\n",
            "  adding: data/pizza_steak_sushi_20_percent/train/pizza/2570329.jpg (deflated 0%)\n",
            "  adding: data/pizza_steak_sushi_20_percent/train/pizza/1544197.jpg (deflated 0%)\n",
            "  adding: data/pizza_steak_sushi_20_percent/train/pizza/2285942.jpg (deflated 1%)\n",
            "  adding: data/pizza_steak_sushi_20_percent/train/pizza/13983.jpg (deflated 0%)\n",
            "  adding: data/pizza_steak_sushi_20_percent/train/pizza/2702825.jpg (deflated 1%)\n",
            "  adding: data/pizza_steak_sushi_20_percent/train/pizza/1968947.jpg (deflated 0%)\n",
            "  adding: data/pizza_steak_sushi_20_percent/train/pizza/220190.jpg (deflated 0%)\n",
            "  adding: data/pizza_steak_sushi_20_percent/train/pizza/1572608.jpg (deflated 0%)\n",
            "  adding: data/pizza_steak_sushi_20_percent/train/pizza/702165.jpg (deflated 0%)\n",
            "  adding: data/pizza_steak_sushi_20_percent/train/pizza/2217956.jpg (deflated 0%)\n",
            "  adding: data/pizza_steak_sushi_20_percent/train/pizza/3478964.jpg (deflated 0%)\n",
            "  adding: data/pizza_steak_sushi_20_percent/train/pizza/656817.jpg (deflated 0%)\n",
            "  adding: data/pizza_steak_sushi_20_percent/train/pizza/38349.jpg (deflated 0%)\n",
            "  adding: data/pizza_steak_sushi_20_percent/train/pizza/3128495.jpg (deflated 1%)\n",
            "  adding: data/pizza_steak_sushi_20_percent/train/pizza/2365046.jpg (deflated 1%)\n",
            "  adding: data/pizza_steak_sushi_20_percent/train/pizza/320570.jpg (deflated 0%)\n",
            "  adding: data/pizza_steak_sushi_20_percent/train/pizza/312479.jpg (deflated 0%)\n",
            "  adding: data/pizza_steak_sushi_20_percent/train/pizza/2121603.jpg (deflated 0%)\n",
            "  adding: data/pizza_steak_sushi_20_percent/train/pizza/1617418.jpg (deflated 1%)\n",
            "  adding: data/pizza_steak_sushi_20_percent/train/pizza/2569760.jpg (deflated 0%)\n",
            "  adding: data/pizza_steak_sushi_20_percent/train/pizza/1871498.jpg (deflated 0%)\n",
            "  adding: data/pizza_steak_sushi_20_percent/train/pizza/23199.jpg (deflated 0%)\n",
            "  adding: data/pizza_steak_sushi_20_percent/train/pizza/979998.jpg (deflated 11%)\n",
            "  adding: data/pizza_steak_sushi_20_percent/train/pizza/12301.jpg (deflated 0%)\n",
            "  adding: data/pizza_steak_sushi_20_percent/train/pizza/2831983.jpg (deflated 1%)\n",
            "  adding: data/pizza_steak_sushi_20_percent/train/pizza/203831.jpg (deflated 1%)\n",
            "  adding: data/pizza_steak_sushi_20_percent/train/pizza/2312987.jpg (deflated 0%)\n",
            "  adding: data/pizza_steak_sushi_20_percent/train/pizza/1636299.jpg (deflated 0%)\n",
            "  adding: data/pizza_steak_sushi_20_percent/train/pizza/715169.jpg (deflated 0%)\n",
            "  adding: data/pizza_steak_sushi_20_percent/train/pizza/910419.jpg (deflated 1%)\n",
            "  adding: data/pizza_steak_sushi_20_percent/train/pizza/1608000.jpg (deflated 1%)\n",
            "  adding: data/pizza_steak_sushi_20_percent/train/pizza/3269634.jpg (deflated 0%)\n",
            "  adding: data/pizza_steak_sushi_20_percent/train/pizza/1524655.jpg (deflated 0%)\n",
            "  adding: data/pizza_steak_sushi_20_percent/train/pizza/54461.jpg (deflated 1%)\n",
            "  adding: data/pizza_steak_sushi_20_percent/train/pizza/2811032.jpg (deflated 1%)\n",
            "  adding: data/pizza_steak_sushi_20_percent/train/pizza/474493.jpg (deflated 0%)\n",
            "  adding: data/pizza_steak_sushi_20_percent/train/pizza/667309.jpg (deflated 2%)\n",
            "  adding: data/pizza_steak_sushi_20_percent/train/pizza/1008844.jpg (deflated 1%)\n",
            "  adding: data/pizza_steak_sushi_20_percent/train/pizza/3018077.jpg (deflated 1%)\n",
            "  adding: data/pizza_steak_sushi_20_percent/train/pizza/2291093.jpg (deflated 0%)\n",
            "  adding: data/pizza_steak_sushi_20_percent/train/pizza/2742044.jpg (deflated 1%)\n",
            "  adding: data/pizza_steak_sushi_20_percent/train/pizza/518527.jpg (deflated 0%)\n",
            "  adding: data/pizza_steak_sushi_20_percent/train/pizza/3338774.jpg (deflated 0%)\n",
            "  adding: data/pizza_steak_sushi_20_percent/train/pizza/253127.jpg (deflated 13%)\n",
            "  adding: data/pizza_steak_sushi_20_percent/train/pizza/2428085.jpg (deflated 0%)\n",
            "  adding: data/pizza_steak_sushi_20_percent/train/pizza/1412034.jpg (deflated 1%)\n",
            "  adding: data/pizza_steak_sushi_20_percent/train/pizza/741883.jpg (deflated 0%)\n",
            "  adding: data/pizza_steak_sushi_20_percent/train/pizza/1649276.jpg (deflated 1%)\n",
            "  adding: data/pizza_steak_sushi_20_percent/train/pizza/861771.jpg (deflated 0%)\n",
            "  adding: data/pizza_steak_sushi_20_percent/train/pizza/3703769.jpg (deflated 0%)\n",
            "  adding: data/pizza_steak_sushi_20_percent/train/pizza/3821701.jpg (deflated 0%)\n",
            "  adding: data/pizza_steak_sushi_20_percent/train/pizza/1011404.jpg (deflated 14%)\n",
            "  adding: data/pizza_steak_sushi_20_percent/train/pizza/3913912.jpg (deflated 1%)\n",
            "  adding: data/pizza_steak_sushi_20_percent/train/pizza/2019441.jpg (deflated 1%)\n",
            "  adding: data/pizza_steak_sushi_20_percent/train/pizza/138855.jpg (deflated 0%)\n",
            "  adding: data/pizza_steak_sushi_20_percent/train/pizza/2999507.jpg (deflated 0%)\n",
            "  adding: data/pizza_steak_sushi_20_percent/train/pizza/271779.jpg (deflated 1%)\n",
            "  adding: data/pizza_steak_sushi_20_percent/train/pizza/393658.jpg (deflated 0%)\n",
            "  adding: data/pizza_steak_sushi_20_percent/train/pizza/1763205.jpg (deflated 0%)\n",
            "  adding: data/pizza_steak_sushi_20_percent/train/pizza/652004.jpg (deflated 0%)\n",
            "  adding: data/pizza_steak_sushi_20_percent/train/pizza/1029698.jpg (deflated 0%)\n",
            "  adding: data/pizza_steak_sushi_20_percent/train/pizza/1344966.jpg (deflated 1%)\n",
            "  adding: data/pizza_steak_sushi_20_percent/train/pizza/1625147.jpg (deflated 1%)\n",
            "  adding: data/pizza_steak_sushi_20_percent/train/pizza/1951130.jpg (deflated 27%)\n",
            "  adding: data/pizza_steak_sushi_20_percent/train/pizza/2992084.jpg (deflated 0%)\n",
            "  adding: demos/ (stored 0%)\n",
            "  adding: demos/foodvision_mini/ (stored 0%)\n",
            "  adding: demos/foodvision_mini/requirements.txt (deflated 4%)\n",
            "  adding: demos/foodvision_mini/app.py (deflated 57%)\n",
            "  adding: demos/foodvision_mini/examples/ (stored 0%)\n",
            "  adding: demos/foodvision_mini/examples/592799.jpg (deflated 1%)\n",
            "  adding: demos/foodvision_mini/examples/2582289.jpg (deflated 17%)\n",
            "  adding: demos/foodvision_mini/examples/3622237.jpg (deflated 0%)\n",
            "  adding: demos/foodvision_mini/model.py (deflated 55%)\n",
            "  adding: demos/foodvision_mini/09_pretrained_effnetb2_feature_extractor_pizza_steak_sushi_20_percent.pth (deflated 8%)\n",
            "  adding: flagged/ (stored 0%)\n",
            "  adding: going_modular/ (stored 0%)\n",
            "  adding: going_modular/README.md (deflated 61%)\n",
            "  adding: going_modular/models/ (stored 0%)\n",
            "  adding: going_modular/models/05_going_modular_script_mode_tinyvgg_model.pth (deflated 12%)\n",
            "  adding: going_modular/models/05_going_modular_cell_mode_tinyvgg_model.pth (deflated 12%)\n",
            "  adding: going_modular/going_modular/ (stored 0%)\n",
            "  adding: going_modular/going_modular/engine.py (deflated 74%)\n",
            "  adding: going_modular/going_modular/data_setup.py (deflated 66%)\n",
            "  adding: going_modular/going_modular/README.md (deflated 50%)\n",
            "  adding: going_modular/going_modular/train.py (deflated 57%)\n",
            "  adding: going_modular/going_modular/model_builder.py (deflated 67%)\n",
            "  adding: going_modular/going_modular/utils.py (deflated 57%)\n",
            "  adding: going_modular/going_modular/predictions.py (deflated 62%)\n",
            "  adding: helper_functions.py (deflated 65%)\n",
            "  adding: images/ (stored 0%)\n",
            "  adding: images/09-foodvision-mini-inference-speed-vs-performance.jpg (deflated 56%)\n",
            "  adding: models/ (stored 0%)\n",
            "  adding: models/09_pretrained_vit_feature_extractor_pizza_steak_sushi_20_percent.pth (deflated 7%)\n",
            "  adding: sample_data/ (stored 0%)\n",
            "  adding: sample_data/README.md (deflated 42%)\n",
            "  adding: sample_data/anscombe.json (deflated 83%)\n",
            "  adding: sample_data/california_housing_test.csv (deflated 76%)\n",
            "  adding: sample_data/california_housing_train.csv (deflated 79%)\n",
            "  adding: sample_data/mnist_train_small.csv (deflated 88%)\n",
            "  adding: sample_data/mnist_test.csv (deflated 88%)\n"
          ]
        }
      ],
      "source": [
        "!zip -r ../foodvision_mini.zip * -x \"*.pyc\" \"*.ipynb\" \"*__pycache__*\" \"*ipynb_checkpoints*\""
      ]
    },
    {
      "cell_type": "code",
      "execution_count": null,
      "metadata": {
        "colab": {
          "background_save": true
        },
        "id": "HnvtcKJIEv4z",
        "outputId": "ba8a887f-7464-438b-b493-80f95c182268"
      },
      "outputs": [
        {
          "name": "stdout",
          "output_type": "stream",
          "text": [
            "  adding: 09_pretrained_effnetb2_feature_extractor_pizza_steak_sushi_20_percent.pth (deflated 8%)\n",
            "  adding: app.py (deflated 57%)\n",
            "  adding: examples/ (stored 0%)\n",
            "  adding: examples/592799.jpg (deflated 1%)\n",
            "  adding: examples/2582289.jpg (deflated 17%)\n",
            "  adding: examples/3622237.jpg (deflated 0%)\n",
            "  adding: model.py (deflated 55%)\n",
            "  adding: requirements.txt (deflated 4%)\n"
          ]
        },
        {
          "data": {
            "application/javascript": [
              "\n",
              "    async function download(id, filename, size) {\n",
              "      if (!google.colab.kernel.accessAllowed) {\n",
              "        return;\n",
              "      }\n",
              "      const div = document.createElement('div');\n",
              "      const label = document.createElement('label');\n",
              "      label.textContent = `Downloading \"${filename}\": `;\n",
              "      div.appendChild(label);\n",
              "      const progress = document.createElement('progress');\n",
              "      progress.max = size;\n",
              "      div.appendChild(progress);\n",
              "      document.body.appendChild(div);\n",
              "\n",
              "      const buffers = [];\n",
              "      let downloaded = 0;\n",
              "\n",
              "      const channel = await google.colab.kernel.comms.open(id);\n",
              "      // Send a message to notify the kernel that we're ready.\n",
              "      channel.send({})\n",
              "\n",
              "      for await (const message of channel.messages) {\n",
              "        // Send a message to notify the kernel that we're ready.\n",
              "        channel.send({})\n",
              "        if (message.buffers) {\n",
              "          for (const buffer of message.buffers) {\n",
              "            buffers.push(buffer);\n",
              "            downloaded += buffer.byteLength;\n",
              "            progress.value = downloaded;\n",
              "          }\n",
              "        }\n",
              "      }\n",
              "      const blob = new Blob(buffers, {type: 'application/binary'});\n",
              "      const a = document.createElement('a');\n",
              "      a.href = window.URL.createObjectURL(blob);\n",
              "      a.download = filename;\n",
              "      div.appendChild(a);\n",
              "      a.click();\n",
              "      div.remove();\n",
              "    }\n",
              "  "
            ],
            "text/plain": [
              "<IPython.core.display.Javascript object>"
            ]
          },
          "metadata": {},
          "output_type": "display_data"
        },
        {
          "data": {
            "application/javascript": [
              "download(\"download_8b0e0f4f-eb44-4c08-82db-6a47c77c6098\", \"foodvision_mini.zip\", 28977570)"
            ],
            "text/plain": [
              "<IPython.core.display.Javascript object>"
            ]
          },
          "metadata": {},
          "output_type": "display_data"
        }
      ],
      "source": [
        "# Change into and then zip the foodvision_mini folder but exclude certain files\n",
        "!cd demos/foodvision_mini && zip -r ../foodvision_mini.zip * -x \"*.pyc\" \"*.ipynb\" \"*__pycache__*\" \"*ipynb_checkpoints*\"\n",
        "\n",
        "# Download the zipped FoodVision Mini app (if running in Google Colab)\n",
        "try:\n",
        "    from google.colab import files\n",
        "    files.download(\"demos/foodvision_mini.zip\")\n",
        "except:\n",
        "    print(\"Not running in Google Colab, can't use google.colab.files.download(), please manually download.\")"
      ]
    },
    {
      "cell_type": "code",
      "execution_count": null,
      "metadata": {
        "colab": {
          "background_save": true
        },
        "id": "hBiAp1lwE4nC",
        "outputId": "133fb36b-b104-4ff9-b5f4-7cde5e2f2299"
      },
      "outputs": [
        {
          "name": "stdout",
          "output_type": "stream",
          "text": [
            "Cloning into 'foodvision_mini'...\n",
            "remote: Enumerating objects: 15, done.\u001b[K\n",
            "remote: Counting objects: 100% (15/15), done.\u001b[K\n",
            "remote: Compressing objects: 100% (14/14), done.\u001b[K\n",
            "remote: Total 15 (delta 1), reused 0 (delta 0), pack-reused 0\u001b[K\n",
            "Unpacking objects: 100% (15/15), 167.58 KiB | 7.29 MiB/s, done.\n"
          ]
        }
      ],
      "source": [
        "!git clone https://huggingface.co/spaces/abdullahkazimov/foodvision_mini"
      ]
    },
    {
      "cell_type": "code",
      "execution_count": null,
      "metadata": {
        "colab": {
          "background_save": true
        },
        "id": "48WYcp8mFxiY",
        "outputId": "fb00a046-8e9a-4bf9-e49c-61212e0bc8d2"
      },
      "outputs": [
        {
          "name": "stdout",
          "output_type": "stream",
          "text": [
            "Git LFS initialized.\n"
          ]
        }
      ],
      "source": [
        "!git lfs install"
      ]
    },
    {
      "cell_type": "code",
      "execution_count": null,
      "metadata": {
        "colab": {
          "background_save": true
        },
        "id": "u0bgcMGWGYmm",
        "outputId": "ad006f71-40dd-4f9f-a67c-933ee400cc30"
      },
      "outputs": [
        {
          "name": "stdout",
          "output_type": "stream",
          "text": [
            "Not in a git repository.\n"
          ]
        }
      ],
      "source": [
        "!git lfs track \"09_pretrained_effnetb2_feature_extractor_pizza_steak_sushi_20_percent.pth\""
      ]
    },
    {
      "cell_type": "code",
      "execution_count": null,
      "metadata": {
        "colab": {
          "background_save": true
        },
        "id": "BEzcYaqxGfSw"
      },
      "outputs": [],
      "source": [
        "# Create EffNetB2 model capable of fitting to 101 classes for Food101\n",
        "effnetb2_food101, effnetb2_transforms = create_effnetb2_model(num_classes=101)"
      ]
    },
    {
      "cell_type": "code",
      "execution_count": null,
      "metadata": {
        "colab": {
          "background_save": true
        },
        "id": "ppB140zKJlqh",
        "outputId": "d049f735-da1c-4948-d27f-35fa2838abc9"
      },
      "outputs": [
        {
          "data": {
            "text/plain": [
              "============================================================================================================================================\n",
              "Layer (type (var_name))                                      Input Shape          Output Shape         Param #              Trainable\n",
              "============================================================================================================================================\n",
              "EfficientNet (EfficientNet)                                  [1, 3, 224, 224]     [1, 101]             --                   Partial\n",
              "├─Sequential (features)                                      [1, 3, 224, 224]     [1, 1408, 7, 7]      --                   False\n",
              "│    └─Conv2dNormActivation (0)                              [1, 3, 224, 224]     [1, 32, 112, 112]    --                   False\n",
              "│    │    └─Conv2d (0)                                       [1, 3, 224, 224]     [1, 32, 112, 112]    (864)                False\n",
              "│    │    └─BatchNorm2d (1)                                  [1, 32, 112, 112]    [1, 32, 112, 112]    (64)                 False\n",
              "│    │    └─SiLU (2)                                         [1, 32, 112, 112]    [1, 32, 112, 112]    --                   --\n",
              "│    └─Sequential (1)                                        [1, 32, 112, 112]    [1, 16, 112, 112]    --                   False\n",
              "│    │    └─MBConv (0)                                       [1, 32, 112, 112]    [1, 16, 112, 112]    (1,448)              False\n",
              "│    │    └─MBConv (1)                                       [1, 16, 112, 112]    [1, 16, 112, 112]    (612)                False\n",
              "│    └─Sequential (2)                                        [1, 16, 112, 112]    [1, 24, 56, 56]      --                   False\n",
              "│    │    └─MBConv (0)                                       [1, 16, 112, 112]    [1, 24, 56, 56]      (6,004)              False\n",
              "│    │    └─MBConv (1)                                       [1, 24, 56, 56]      [1, 24, 56, 56]      (10,710)             False\n",
              "│    │    └─MBConv (2)                                       [1, 24, 56, 56]      [1, 24, 56, 56]      (10,710)             False\n",
              "│    └─Sequential (3)                                        [1, 24, 56, 56]      [1, 48, 28, 28]      --                   False\n",
              "│    │    └─MBConv (0)                                       [1, 24, 56, 56]      [1, 48, 28, 28]      (16,518)             False\n",
              "│    │    └─MBConv (1)                                       [1, 48, 28, 28]      [1, 48, 28, 28]      (43,308)             False\n",
              "│    │    └─MBConv (2)                                       [1, 48, 28, 28]      [1, 48, 28, 28]      (43,308)             False\n",
              "│    └─Sequential (4)                                        [1, 48, 28, 28]      [1, 88, 14, 14]      --                   False\n",
              "│    │    └─MBConv (0)                                       [1, 48, 28, 28]      [1, 88, 14, 14]      (50,300)             False\n",
              "│    │    └─MBConv (1)                                       [1, 88, 14, 14]      [1, 88, 14, 14]      (123,750)            False\n",
              "│    │    └─MBConv (2)                                       [1, 88, 14, 14]      [1, 88, 14, 14]      (123,750)            False\n",
              "│    │    └─MBConv (3)                                       [1, 88, 14, 14]      [1, 88, 14, 14]      (123,750)            False\n",
              "│    └─Sequential (5)                                        [1, 88, 14, 14]      [1, 120, 14, 14]     --                   False\n",
              "│    │    └─MBConv (0)                                       [1, 88, 14, 14]      [1, 120, 14, 14]     (149,158)            False\n",
              "│    │    └─MBConv (1)                                       [1, 120, 14, 14]     [1, 120, 14, 14]     (237,870)            False\n",
              "│    │    └─MBConv (2)                                       [1, 120, 14, 14]     [1, 120, 14, 14]     (237,870)            False\n",
              "│    │    └─MBConv (3)                                       [1, 120, 14, 14]     [1, 120, 14, 14]     (237,870)            False\n",
              "│    └─Sequential (6)                                        [1, 120, 14, 14]     [1, 208, 7, 7]       --                   False\n",
              "│    │    └─MBConv (0)                                       [1, 120, 14, 14]     [1, 208, 7, 7]       (301,406)            False\n",
              "│    │    └─MBConv (1)                                       [1, 208, 7, 7]       [1, 208, 7, 7]       (686,868)            False\n",
              "│    │    └─MBConv (2)                                       [1, 208, 7, 7]       [1, 208, 7, 7]       (686,868)            False\n",
              "│    │    └─MBConv (3)                                       [1, 208, 7, 7]       [1, 208, 7, 7]       (686,868)            False\n",
              "│    │    └─MBConv (4)                                       [1, 208, 7, 7]       [1, 208, 7, 7]       (686,868)            False\n",
              "│    └─Sequential (7)                                        [1, 208, 7, 7]       [1, 352, 7, 7]       --                   False\n",
              "│    │    └─MBConv (0)                                       [1, 208, 7, 7]       [1, 352, 7, 7]       (846,900)            False\n",
              "│    │    └─MBConv (1)                                       [1, 352, 7, 7]       [1, 352, 7, 7]       (1,888,920)          False\n",
              "│    └─Conv2dNormActivation (8)                              [1, 352, 7, 7]       [1, 1408, 7, 7]      --                   False\n",
              "│    │    └─Conv2d (0)                                       [1, 352, 7, 7]       [1, 1408, 7, 7]      (495,616)            False\n",
              "│    │    └─BatchNorm2d (1)                                  [1, 1408, 7, 7]      [1, 1408, 7, 7]      (2,816)              False\n",
              "│    │    └─SiLU (2)                                         [1, 1408, 7, 7]      [1, 1408, 7, 7]      --                   --\n",
              "├─AdaptiveAvgPool2d (avgpool)                                [1, 1408, 7, 7]      [1, 1408, 1, 1]      --                   --\n",
              "├─Sequential (classifier)                                    [1, 1408]            [1, 101]             --                   True\n",
              "│    └─Dropout (0)                                           [1, 1408]            [1, 1408]            --                   --\n",
              "│    └─Linear (1)                                            [1, 1408]            [1, 101]             142,309              True\n",
              "============================================================================================================================================\n",
              "Total params: 7,843,303\n",
              "Trainable params: 142,309\n",
              "Non-trainable params: 7,700,994\n",
              "Total mult-adds (M): 657.78\n",
              "============================================================================================================================================\n",
              "Input size (MB): 0.60\n",
              "Forward/backward pass size (MB): 156.80\n",
              "Params size (MB): 31.37\n",
              "Estimated Total Size (MB): 188.77\n",
              "============================================================================================================================================"
            ]
          },
          "execution_count": 68,
          "metadata": {},
          "output_type": "execute_result"
        }
      ],
      "source": [
        "from torchinfo import summary\n",
        "\n",
        "# # Get a summary of EffNetB2 feature extractor for Food101 with 101 output classes (uncomment for full output)\n",
        "summary(effnetb2_food101,\n",
        "         input_size=(1, 3, 224, 224),\n",
        "         col_names=[\"input_size\", \"output_size\", \"num_params\", \"trainable\"],\n",
        "         col_width=20,\n",
        "         row_settings=[\"var_names\"])"
      ]
    },
    {
      "cell_type": "code",
      "execution_count": null,
      "metadata": {
        "colab": {
          "background_save": true
        },
        "id": "ndwao73pJosZ"
      },
      "outputs": [],
      "source": [
        "food101_train_transforms = torchvision.transforms.Compose([\n",
        "    torchvision.transforms.TrivialAugmentWide(),\n",
        "    effnetb2_transforms,\n",
        "])\n"
      ]
    },
    {
      "cell_type": "code",
      "execution_count": null,
      "metadata": {
        "colab": {
          "background_save": true
        },
        "id": "R0e99nCsJuNk",
        "outputId": "472a741c-cac9-47b8-b71e-ce7999b44331"
      },
      "outputs": [
        {
          "name": "stdout",
          "output_type": "stream",
          "text": [
            "Training transforms:\n",
            "Compose(\n",
            "    TrivialAugmentWide(num_magnitude_bins=31, interpolation=InterpolationMode.NEAREST, fill=None)\n",
            "    ImageClassification(\n",
            "    crop_size=[288]\n",
            "    resize_size=[288]\n",
            "    mean=[0.485, 0.456, 0.406]\n",
            "    std=[0.229, 0.224, 0.225]\n",
            "    interpolation=InterpolationMode.BICUBIC\n",
            ")\n",
            ")\n",
            "\n",
            "Testing transforms:\n",
            "ImageClassification(\n",
            "    crop_size=[288]\n",
            "    resize_size=[288]\n",
            "    mean=[0.485, 0.456, 0.406]\n",
            "    std=[0.229, 0.224, 0.225]\n",
            "    interpolation=InterpolationMode.BICUBIC\n",
            ")\n"
          ]
        }
      ],
      "source": [
        "print(f\"Training transforms:\\n{food101_train_transforms}\\n\")\n",
        "print(f\"Testing transforms:\\n{effnetb2_transforms}\")"
      ]
    },
    {
      "cell_type": "code",
      "execution_count": null,
      "metadata": {
        "id": "yknsihdXJvsE"
      },
      "outputs": [],
      "source": [
        "from torchvision import datasets\n",
        "\n",
        "# Setup data directory\n",
        "from pathlib import Path\n",
        "data_dir = Path(\"data\")\n",
        "\n",
        "# Get training data (~750 images x 101 food classes)\n",
        "train_data = datasets.Food101(root=data_dir, # path to download data to\n",
        "                              split=\"train\", # dataset split to get\n",
        "                              transform=food101_train_transforms, # perform data augmentation on training data\n",
        "                              download=True) # want to download?\n",
        "\n",
        "# Get testing data (~250 images x 101 food classes)\n",
        "test_data = datasets.Food101(root=data_dir,\n",
        "                             split=\"test\",\n",
        "                             transform=effnetb2_transforms, # perform normal EffNetB2 transforms on test data\n",
        "                             download=True)"
      ]
    },
    {
      "cell_type": "code",
      "execution_count": null,
      "metadata": {
        "id": "ZHoxip-bJ2Cu"
      },
      "outputs": [],
      "source": [
        "# Get Food101 class names\n",
        "food101_class_names = train_data.classes\n",
        "\n",
        "# View the first 10\n",
        "food101_class_names[:10]"
      ]
    },
    {
      "cell_type": "code",
      "execution_count": null,
      "metadata": {
        "id": "DG4W5yNdK8jp"
      },
      "outputs": [],
      "source": [
        "def split_dataset(dataset:torchvision.datasets, split_size:float=0.2, seed:int=42):\n",
        "    \"\"\"Randomly splits a given dataset into two proportions based on split_size and seed.\n",
        "\n",
        "    Args:\n",
        "        dataset (torchvision.datasets): A PyTorch Dataset, typically one from torchvision.datasets.\n",
        "        split_size (float, optional): How much of the dataset should be split?\n",
        "            E.g. split_size=0.2 means there will be a 20% split and an 80% split. Defaults to 0.2.\n",
        "        seed (int, optional): Seed for random generator. Defaults to 42.\n",
        "\n",
        "    Returns:\n",
        "        tuple: (random_split_1, random_split_2) where random_split_1 is of size split_size*len(dataset) and\n",
        "            random_split_2 is of size (1-split_size)*len(dataset).\n",
        "    \"\"\"\n",
        "    # Create split lengths based on original dataset length\n",
        "    length_1 = int(len(dataset) * split_size) # desired length\n",
        "    length_2 = len(dataset) - length_1 # remaining length\n",
        "\n",
        "    # Print out info\n",
        "    print(f\"[INFO] Splitting dataset of length {len(dataset)} into splits of size: {length_1} ({int(split_size*100)}%), {length_2} ({int((1-split_size)*100)}%)\")\n",
        "\n",
        "    # Create splits with given random seed\n",
        "    random_split_1, random_split_2 = torch.utils.data.random_split(dataset,\n",
        "                                                                   lengths=[length_1, length_2],\n",
        "                                                                   generator=torch.manual_seed(seed)) # set the random seed for reproducible splits\n",
        "    return random_split_1, random_split_2"
      ]
    },
    {
      "cell_type": "code",
      "execution_count": null,
      "metadata": {
        "id": "5GPj3yf4LvFE"
      },
      "outputs": [],
      "source": [
        "# Create training 20% split of Food101\n",
        "train_data_food101_20_percent, _ = split_dataset(dataset=train_data,\n",
        "                                                 split_size=0.2)\n",
        "\n",
        "# Create testing 20% split of Food101\n",
        "test_data_food101_20_percent, _ = split_dataset(dataset=test_data,\n",
        "                                                split_size=0.2)\n",
        "\n",
        "len(train_data_food101_20_percent), len(test_data_food101_20_percent)"
      ]
    },
    {
      "cell_type": "code",
      "execution_count": null,
      "metadata": {
        "id": "q_EUvHQ6LwoA"
      },
      "outputs": [],
      "source": [
        "import os\n",
        "import torch\n",
        "\n",
        "BATCH_SIZE = 32\n",
        "NUM_WORKERS = 2 if os.cpu_count() <= 4 else 4 # this value is very experimental and will depend on the hardware you have available, Google Colab generally provides 2x CPUs\n",
        "\n",
        "# Create Food101 20 percent training DataLoader\n",
        "train_dataloader_food101_20_percent = torch.utils.data.DataLoader(train_data_food101_20_percent,\n",
        "                                                                  batch_size=BATCH_SIZE,\n",
        "                                                                  shuffle=True,\n",
        "                                                                  num_workers=NUM_WORKERS)\n",
        "# Create Food101 20 percent testing DataLoader\n",
        "test_dataloader_food101_20_percent = torch.utils.data.DataLoader(test_data_food101_20_percent,\n",
        "                                                                 batch_size=BATCH_SIZE,\n",
        "                                                                 shuffle=False,\n",
        "                                                                 num_workers=NUM_WORKERS)"
      ]
    },
    {
      "cell_type": "code",
      "execution_count": null,
      "metadata": {
        "id": "jd_BVkPML0hM"
      },
      "outputs": [],
      "source": [
        "from going_modular.going_modular import engine\n",
        "\n",
        "# Setup optimizer\n",
        "optimizer = torch.optim.Adam(params=effnetb2_food101.parameters(),\n",
        "                             lr=1e-3)\n",
        "\n",
        "# Setup loss function\n",
        "loss_fn = torch.nn.CrossEntropyLoss(label_smoothing=0.1) # throw in a little label smoothing because so many classes\n",
        "\n",
        "# Want to beat original Food101 paper with 20% of data, need 56.4%+ acc on test dataset\n",
        "set_seeds()\n",
        "effnetb2_food101_results = engine.train(model=effnetb2_food101,\n",
        "                                        train_dataloader=train_dataloader_food101_20_percent,\n",
        "                                        test_dataloader=test_dataloader_food101_20_percent,\n",
        "                                        optimizer=optimizer,\n",
        "                                        loss_fn=loss_fn,\n",
        "                                        epochs=5,\n",
        "                                        device=device)"
      ]
    },
    {
      "cell_type": "code",
      "execution_count": null,
      "metadata": {
        "id": "cAZtRiGHL2Ud"
      },
      "outputs": [],
      "source": [
        "from helper_functions import plot_loss_curves\n",
        "\n",
        "# Check out the loss curves for FoodVision Big\n",
        "plot_loss_curves(effnetb2_food101_results)"
      ]
    },
    {
      "cell_type": "code",
      "execution_count": null,
      "metadata": {
        "id": "o4_jh9fuQEqB"
      },
      "outputs": [],
      "source": [
        "from going_modular.going_modular import utils\n",
        "\n",
        "# Create a model path\n",
        "effnetb2_food101_model_path = \"09_pretrained_effnetb2_feature_extractor_food101_20_percent.pth\"\n",
        "\n",
        "# Save FoodVision Big model\n",
        "utils.save_model(model=effnetb2_food101,\n",
        "                 target_dir=\"models\",\n",
        "                 model_name=effnetb2_food101_model_path)"
      ]
    },
    {
      "cell_type": "code",
      "execution_count": null,
      "metadata": {
        "id": "s4nhBpH7QIp3"
      },
      "outputs": [],
      "source": [
        "# Create Food101 compatible EffNetB2 instance\n",
        "loaded_effnetb2_food101, effnetb2_transforms = create_effnetb2_model(num_classes=101)\n",
        "\n",
        "# Load the saved model's state_dict()\n",
        "loaded_effnetb2_food101.load_state_dict(torch.load(\"models/09_pretrained_effnetb2_feature_extractor_food101_20_percent.pth\"))"
      ]
    },
    {
      "cell_type": "code",
      "execution_count": null,
      "metadata": {
        "id": "9e0iBYnMQKiW"
      },
      "outputs": [],
      "source": [
        "from pathlib import Path\n",
        "\n",
        "# Get the model size in bytes then convert to megabytes\n",
        "pretrained_effnetb2_food101_model_size = Path(\"models\", effnetb2_food101_model_path).stat().st_size // (1024*1024) # division converts bytes to megabytes (roughly)\n",
        "print(f\"Pretrained EffNetB2 feature extractor Food101 model size: {pretrained_effnetb2_food101_model_size} MB\")"
      ]
    },
    {
      "cell_type": "code",
      "execution_count": null,
      "metadata": {
        "id": "uARTB5WEQMTY"
      },
      "outputs": [],
      "source": [
        "from pathlib import Path\n",
        "\n",
        "# Create FoodVision Big demo path\n",
        "foodvision_big_demo_path = Path(\"demos/foodvision_big/\")\n",
        "\n",
        "# Make FoodVision Big demo directory\n",
        "foodvision_big_demo_path.mkdir(parents=True, exist_ok=True)\n",
        "\n",
        "# Make FoodVision Big demo examples directory\n",
        "(foodvision_big_demo_path / \"examples\").mkdir(parents=True, exist_ok=True)"
      ]
    },
    {
      "cell_type": "code",
      "execution_count": null,
      "metadata": {
        "id": "BhUXQeiOQPT4"
      },
      "outputs": [],
      "source": [
        "# Download and move an example image\n",
        "!wget https://raw.githubusercontent.com/mrdbourke/pytorch-deep-learning/main/images/04-pizza-dad.jpeg\n",
        "!mv 04-pizza-dad.jpeg demos/foodvision_big/examples/04-pizza-dad.jpg\n",
        "\n",
        "# Move trained model to FoodVision Big demo folder (will error if model is already moved)\n",
        "!mv models/09_pretrained_effnetb2_feature_extractor_food101_20_percent.pth demos/foodvision_big"
      ]
    },
    {
      "cell_type": "code",
      "execution_count": null,
      "metadata": {
        "id": "--FM4BCMQSD9"
      },
      "outputs": [],
      "source": [
        "# Check out the first 10 Food101 class names\n",
        "food101_class_names[:10]"
      ]
    },
    {
      "cell_type": "code",
      "execution_count": null,
      "metadata": {
        "id": "1t4KkHo_QU6u"
      },
      "outputs": [],
      "source": [
        "# Create path to Food101 class names\n",
        "foodvision_big_class_names_path = foodvision_big_demo_path / \"class_names.txt\"\n",
        "\n",
        "# Write Food101 class names list to file\n",
        "with open(foodvision_big_class_names_path, \"w\") as f:\n",
        "    print(f\"[INFO] Saving Food101 class names to {foodvision_big_class_names_path}\")\n",
        "    f.write(\"\\n\".join(food101_class_names)) # leave a new line between each class"
      ]
    },
    {
      "cell_type": "code",
      "execution_count": null,
      "metadata": {
        "id": "Ch7h7c_1QWf8"
      },
      "outputs": [],
      "source": [
        "# Open Food101 class names file and read each line into a list\n",
        "with open(foodvision_big_class_names_path, \"r\") as f:\n",
        "    food101_class_names_loaded = [food.strip() for food in  f.readlines()]\n",
        "\n",
        "# View the first 5 class names loaded back in\n",
        "food101_class_names_loaded[:5]"
      ]
    },
    {
      "cell_type": "code",
      "execution_count": null,
      "metadata": {
        "id": "hrn04sUDQXyd"
      },
      "outputs": [],
      "source": [
        "%%writefile demos/foodvision_big/model.py\n",
        "import torch\n",
        "import torchvision\n",
        "\n",
        "from torch import nn\n",
        "\n",
        "\n",
        "def create_effnetb2_model(num_classes:int=3,\n",
        "                          seed:int=42):\n",
        "    \"\"\"Creates an EfficientNetB2 feature extractor model and transforms.\n",
        "\n",
        "    Args:\n",
        "        num_classes (int, optional): number of classes in the classifier head.\n",
        "            Defaults to 3.\n",
        "        seed (int, optional): random seed value. Defaults to 42.\n",
        "\n",
        "    Returns:\n",
        "        model (torch.nn.Module): EffNetB2 feature extractor model.\n",
        "        transforms (torchvision.transforms): EffNetB2 image transforms.\n",
        "    \"\"\"\n",
        "    # Create EffNetB2 pretrained weights, transforms and model\n",
        "    weights = torchvision.models.EfficientNet_B2_Weights.DEFAULT\n",
        "    transforms = weights.transforms()\n",
        "    model = torchvision.models.efficientnet_b2(weights=weights)\n",
        "\n",
        "    # Freeze all layers in base model\n",
        "    for param in model.parameters():\n",
        "        param.requires_grad = False\n",
        "\n",
        "    # Change classifier head with random seed for reproducibility\n",
        "    torch.manual_seed(seed)\n",
        "    model.classifier = nn.Sequential(\n",
        "        nn.Dropout(p=0.3, inplace=True),\n",
        "        nn.Linear(in_features=1408, out_features=num_classes),\n",
        "    )\n",
        "\n",
        "    return model, transforms"
      ]
    },
    {
      "cell_type": "code",
      "execution_count": null,
      "metadata": {
        "id": "jkKhyu2GQaVH"
      },
      "outputs": [],
      "source": [
        "%%writefile demos/foodvision_big/app.py\n",
        "### 1. Imports and class names setup ###\n",
        "import gradio as gr\n",
        "import os\n",
        "import torch\n",
        "\n",
        "from model import create_effnetb2_model\n",
        "from timeit import default_timer as timer\n",
        "from typing import Tuple, Dict\n",
        "\n",
        "# Setup class names\n",
        "with open(\"class_names.txt\", \"r\") as f: # reading them in from class_names.txt\n",
        "    class_names = [food_name.strip() for food_name in  f.readlines()]\n",
        "\n",
        "### 2. Model and transforms preparation ###\n",
        "\n",
        "# Create model\n",
        "effnetb2, effnetb2_transforms = create_effnetb2_model(\n",
        "    num_classes=101, # could also use len(class_names)\n",
        ")\n",
        "\n",
        "# Load saved weights\n",
        "effnetb2.load_state_dict(\n",
        "    torch.load(\n",
        "        f=\"09_pretrained_effnetb2_feature_extractor_food101_20_percent.pth\",\n",
        "        map_location=torch.device(\"cpu\"),  # load to CPU\n",
        "    )\n",
        ")\n",
        "\n",
        "### 3. Predict function ###\n",
        "\n",
        "# Create predict function\n",
        "def predict(img) -> Tuple[Dict, float]:\n",
        "    \"\"\"Transforms and performs a prediction on img and returns prediction and time taken.\n",
        "    \"\"\"\n",
        "    # Start the timer\n",
        "    start_time = timer()\n",
        "\n",
        "    # Transform the target image and add a batch dimension\n",
        "    img = effnetb2_transforms(img).unsqueeze(0)\n",
        "\n",
        "    # Put model into evaluation mode and turn on inference mode\n",
        "    effnetb2.eval()\n",
        "    with torch.inference_mode():\n",
        "        # Pass the transformed image through the model and turn the prediction logits into prediction probabilities\n",
        "        pred_probs = torch.softmax(effnetb2(img), dim=1)\n",
        "\n",
        "    # Create a prediction label and prediction probability dictionary for each prediction class (this is the required format for Gradio's output parameter)\n",
        "    pred_labels_and_probs = {class_names[i]: float(pred_probs[0][i]) for i in range(len(class_names))}\n",
        "\n",
        "    # Calculate the prediction time\n",
        "    pred_time = round(timer() - start_time, 5)\n",
        "\n",
        "    # Return the prediction dictionary and prediction time\n",
        "    return pred_labels_and_probs, pred_time\n",
        "\n",
        "### 4. Gradio app ###\n",
        "\n",
        "# Create title, description and article strings\n",
        "title = \"FoodVision\"\n",
        "description = \"An EfficientNetB2 feature extractor computer vision model to classify images of food into [101 different classes](https://github.com/mrdbourke/pytorch-deep-learning/blob/main/extras/food101_class_names.txt).\"\n",
        "article = \"Created at [09. PyTorch Model Deployment](https://www.learnpytorch.io/09_pytorch_model_deployment/).\"\n",
        "\n",
        "# Create examples list from \"examples/\" directory\n",
        "example_list = [[\"examples/\" + example] for example in os.listdir(\"examples\")]\n",
        "\n",
        "# Create Gradio interface\n",
        "demo = gr.Interface(\n",
        "    fn=predict,\n",
        "    inputs=gr.Image(type=\"pil\"),\n",
        "    outputs=[\n",
        "        gr.Label(num_top_classes=5, label=\"Predictions\"),\n",
        "        gr.Number(label=\"Prediction time (s)\"),\n",
        "    ],\n",
        "    examples=example_list,\n",
        "    title=title,\n",
        "    description=description,\n",
        "    article=article,\n",
        ")\n",
        "\n",
        "# Launch the app!\n",
        "demo.launch()"
      ]
    },
    {
      "cell_type": "code",
      "execution_count": null,
      "metadata": {
        "id": "SV0H7l9RQc2C"
      },
      "outputs": [],
      "source": [
        "%%writefile demos/foodvision_big/requirements.txt\n",
        "torch==1.12.0\n",
        "torchvision==0.13.0\n",
        "gradio==3.1.4"
      ]
    },
    {
      "cell_type": "code",
      "execution_count": null,
      "metadata": {
        "id": "mNiqDKSYQfnf"
      },
      "outputs": [],
      "source": [
        "# Zip foodvision_big folder but exclude certain files\n",
        "!cd demos/foodvision_big && zip -r ../foodvision_big.zip * -x \"*.pyc\" \"*.ipynb\" \"*__pycache__*\" \"*ipynb_checkpoints*\"\n",
        "\n",
        "# Download the zipped FoodVision Big app (if running in Google Colab)\n",
        "try:\n",
        "    from google.colab import files\n",
        "    files.download(\"demos/foodvision_big.zip\")\n",
        "except:\n",
        "    print(\"Not running in Google Colab, can't use google.colab.files.download()\")"
      ]
    },
    {
      "cell_type": "code",
      "execution_count": null,
      "metadata": {
        "id": "g004Vl_FQhOv"
      },
      "outputs": [],
      "source": []
    }
  ],
  "metadata": {
    "accelerator": "GPU",
    "colab": {
      "provenance": []
    },
    "kernelspec": {
      "display_name": "Python 3",
      "name": "python3"
    },
    "language_info": {
      "name": "python"
    }
  },
  "nbformat": 4,
  "nbformat_minor": 0
}